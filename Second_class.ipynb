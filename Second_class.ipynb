{
  "cells": [
    {
      "cell_type": "markdown",
      "metadata": {
        "id": "view-in-github",
        "colab_type": "text"
      },
      "source": [
        "<a href=\"https://colab.research.google.com/github/chittoorking/PDS_codes/blob/main/Second_class.ipynb\" target=\"_parent\"><img src=\"https://colab.research.google.com/assets/colab-badge.svg\" alt=\"Open In Colab\"/></a>"
      ]
    },
    {
      "cell_type": "markdown",
      "id": "85950dec",
      "metadata": {
        "id": "85950dec"
      },
      "source": [
        "<h2><b>Second class</b></h2>"
      ]
    },
    {
      "cell_type": "code",
      "execution_count": null,
      "id": "12196fdb",
      "metadata": {
        "id": "12196fdb",
        "outputId": "04a2eb16-21ae-4a36-874f-58451c8188df"
      },
      "outputs": [
        {
          "data": {
            "text/plain": [
              "(5, 2)"
            ]
          },
          "execution_count": 1,
          "metadata": {},
          "output_type": "execute_result"
        }
      ],
      "source": [
        "divmod(17, 3)"
      ]
    },
    {
      "cell_type": "code",
      "execution_count": null,
      "id": "9c40ddf0",
      "metadata": {
        "id": "9c40ddf0",
        "outputId": "7fbcccee-e8a8-4d2d-cbbb-232632df1ab6"
      },
      "outputs": [
        {
          "data": {
            "text/plain": [
              "(1-0j)"
            ]
          },
          "execution_count": 2,
          "metadata": {},
          "output_type": "execute_result"
        }
      ],
      "source": [
        "d = 1 + 0j\n",
        "d.conjugate()"
      ]
    },
    {
      "cell_type": "markdown",
      "id": "e992c650",
      "metadata": {
        "id": "e992c650"
      },
      "source": [
        "<b>BITWISE OPERATOR</b>"
      ]
    },
    {
      "cell_type": "code",
      "execution_count": null,
      "id": "08c76508",
      "metadata": {
        "id": "08c76508",
        "outputId": "3020948e-c793-4f73-c4c0-b07e8c61226c"
      },
      "outputs": [
        {
          "name": "stdout",
          "output_type": "stream",
          "text": [
            "0b111 0b10\n"
          ]
        },
        {
          "data": {
            "text/plain": [
              "-8"
            ]
          },
          "execution_count": 6,
          "metadata": {},
          "output_type": "execute_result"
        }
      ],
      "source": [
        "a = 7\n",
        "b = 2\n",
        "print(bin(a), bin(b))\n",
        "a & b # a |b a^b ~a\n",
        "~a\n",
        "a >> 1"
      ]
    },
    {
      "cell_type": "markdown",
      "id": "5ca37793",
      "metadata": {
        "id": "5ca37793"
      },
      "source": [
        "<b>STRINGS</b>"
      ]
    },
    {
      "cell_type": "markdown",
      "id": "ea3f0c0d",
      "metadata": {
        "id": "ea3f0c0d"
      },
      "source": [
        "Besides numbers, Python can also manipulate strings, which can be expressed in several ways. They can be enclosed in single quotes ('...') or double quotes (\"...\") with the same result"
      ]
    },
    {
      "cell_type": "code",
      "execution_count": null,
      "id": "5f96c2d9",
      "metadata": {
        "id": "5f96c2d9",
        "outputId": "cc7e7f29-56a5-49ee-c89d-767c1e208f53"
      },
      "outputs": [
        {
          "name": "stdout",
          "output_type": "stream",
          "text": [
            "hello ... world\n",
            "hello world\n"
          ]
        }
      ],
      "source": [
        "s = \"hello ... world\"\n",
        "print(s)\n",
        "\n",
        "s = 'hello world'\n",
        "print(s)"
      ]
    },
    {
      "cell_type": "code",
      "execution_count": null,
      "id": "94233adf",
      "metadata": {
        "id": "94233adf",
        "outputId": "e574ac7f-f9e0-4dde-a91b-87e93c2dee99"
      },
      "outputs": [
        {
          "name": "stdout",
          "output_type": "stream",
          "text": [
            "sp\tam\n"
          ]
        }
      ],
      "source": [
        "print(\"sp\\tam\")"
      ]
    },
    {
      "cell_type": "markdown",
      "id": "038c5ae8",
      "metadata": {
        "id": "038c5ae8"
      },
      "source": [
        "If you don’t want characters prefaced by \\ to be interpreted as special characters, you can use raw strings by adding an r before the first quote:"
      ]
    },
    {
      "cell_type": "code",
      "execution_count": null,
      "id": "b737e41a",
      "metadata": {
        "id": "b737e41a",
        "outputId": "5683472b-3cf8-4ccb-c7d7-a469353c1684"
      },
      "outputs": [
        {
          "name": "stdout",
          "output_type": "stream",
          "text": [
            "sp\\tam\n"
          ]
        }
      ],
      "source": [
        "print(r\"sp\\tam\") # or: print(\"sp\\\\nam\")"
      ]
    },
    {
      "cell_type": "code",
      "execution_count": null,
      "id": "042fe891",
      "metadata": {
        "id": "042fe891",
        "outputId": "e4fefe07-a45e-4f8b-bff3-5f3aeef32034"
      },
      "outputs": [
        {
          "name": "stdout",
          "output_type": "stream",
          "text": [
            "C:\\some\n",
            "ame\n",
            "C:\\some\\name\n"
          ]
        }
      ],
      "source": [
        "print('C:\\some\\name')  \n",
        "print(r'C:\\some\\name') "
      ]
    },
    {
      "cell_type": "code",
      "execution_count": null,
      "id": "c389bfc7",
      "metadata": {
        "id": "c389bfc7",
        "outputId": "115f72fa-d84a-4270-e5ef-dddc27b01565"
      },
      "outputs": [
        {
          "name": "stdout",
          "output_type": "stream",
          "text": [
            "text is \\n printed\n"
          ]
        }
      ],
      "source": [
        "str1 = r\"text is \\n printed\"\n",
        "print(str1)"
      ]
    },
    {
      "cell_type": "markdown",
      "id": "9688008c",
      "metadata": {
        "id": "9688008c"
      },
      "source": [
        "String literals can span multiple lines. One way is using triple-quotes: \"\"\"...\"\"\" or '''...'''. "
      ]
    },
    {
      "cell_type": "code",
      "execution_count": null,
      "id": "41608a15",
      "metadata": {
        "id": "41608a15",
        "outputId": "c61ebc78-261d-4655-fb77-9767c5a790cb"
      },
      "outputs": [
        {
          "name": "stdout",
          "output_type": "stream",
          "text": [
            "\n",
            "Usage: thingy [OPTIONS]\n",
            "     -h                        Display this usage message\n",
            "     -H hostname               Hostname to connect to\n",
            "\n"
          ]
        }
      ],
      "source": [
        "print(\"\"\"\n",
        "Usage: thingy [OPTIONS]\n",
        "     -h                        Display this usage message\n",
        "     -H hostname               Hostname to connect to\n",
        "\"\"\")"
      ]
    },
    {
      "cell_type": "code",
      "execution_count": null,
      "id": "26ba5c4d",
      "metadata": {
        "id": "26ba5c4d",
        "outputId": "fd927226-d5a8-41c7-836d-838f566c9da4"
      },
      "outputs": [
        {
          "name": "stdout",
          "output_type": "stream",
          "text": [
            "<class 'float'>\n",
            "1\n",
            "1.0\n"
          ]
        }
      ],
      "source": [
        "x = 1.0\n",
        "print(type(x))\n",
        "print(int(x))\n",
        "print(str(x))"
      ]
    },
    {
      "cell_type": "markdown",
      "id": "ce51aefe",
      "metadata": {
        "id": "ce51aefe"
      },
      "source": [
        "Strings can be concatenated (glued together) with the + operator, and repeated with *:"
      ]
    },
    {
      "cell_type": "code",
      "execution_count": null,
      "id": "ce0f36c4",
      "metadata": {
        "id": "ce0f36c4",
        "outputId": "e1680361-7297-41f9-94f3-bfcbe2a8fc1b"
      },
      "outputs": [
        {
          "data": {
            "text/plain": [
              "'unununium'"
            ]
          },
          "execution_count": 15,
          "metadata": {},
          "output_type": "execute_result"
        }
      ],
      "source": [
        "3 * 'un' + 'ium'"
      ]
    },
    {
      "cell_type": "code",
      "execution_count": null,
      "id": "e37a3f36",
      "metadata": {
        "id": "e37a3f36",
        "outputId": "9f9ead46-7ff7-4263-a3fa-97de5588528a"
      },
      "outputs": [
        {
          "data": {
            "text/plain": [
              "'unununium'"
            ]
          },
          "execution_count": 17,
          "metadata": {},
          "output_type": "execute_result"
        }
      ],
      "source": [
        "('un' * 3) + 'ium'"
      ]
    },
    {
      "cell_type": "code",
      "execution_count": null,
      "id": "c767e530",
      "metadata": {
        "id": "c767e530",
        "outputId": "6d7660ac-ec41-44a3-a469-aa014d003689"
      },
      "outputs": [
        {
          "data": {
            "text/plain": [
              "'Python'"
            ]
          },
          "execution_count": 19,
          "metadata": {},
          "output_type": "execute_result"
        }
      ],
      "source": [
        "prefix = 'Py'\n",
        "prefix + 'thon'"
      ]
    },
    {
      "cell_type": "markdown",
      "id": "51b9ed16",
      "metadata": {
        "id": "51b9ed16"
      },
      "source": [
        "Two or more string literals (i.e. the ones enclosed between quotes) next to each other are automatically concatenated. This feature is particularly useful when you want to break long strings:"
      ]
    },
    {
      "cell_type": "code",
      "execution_count": null,
      "id": "197d272a",
      "metadata": {
        "id": "197d272a",
        "outputId": "14e7feb6-5602-4b12-e63a-7656fb9d4fdc"
      },
      "outputs": [
        {
          "data": {
            "text/plain": [
              "'Put several strings within parentheses to have them joined together.'"
            ]
          },
          "execution_count": 20,
          "metadata": {},
          "output_type": "execute_result"
        }
      ],
      "source": [
        "text = ('Put several strings within parentheses '\n",
        "...         'to have them joined together.')\n",
        "text"
      ]
    },
    {
      "cell_type": "markdown",
      "id": "d527c580",
      "metadata": {
        "id": "d527c580"
      },
      "source": [
        "Strings can be indexed (subscripted), with the first character having index 0. There is no separate character type; a character is simply a string of size one:"
      ]
    },
    {
      "cell_type": "code",
      "execution_count": null,
      "id": "6780b634",
      "metadata": {
        "id": "6780b634",
        "outputId": "1e391847-ca6c-43af-9b8b-269c7a1ccce6"
      },
      "outputs": [
        {
          "data": {
            "text/plain": [
              "'P'"
            ]
          },
          "execution_count": 21,
          "metadata": {},
          "output_type": "execute_result"
        }
      ],
      "source": [
        "word = 'Python'\n",
        "word[0]"
      ]
    },
    {
      "cell_type": "code",
      "execution_count": null,
      "id": "4d9df9fc",
      "metadata": {
        "id": "4d9df9fc",
        "outputId": "d9add5c4-4947-4d6e-d894-90f4b9c1f3bf"
      },
      "outputs": [
        {
          "data": {
            "text/plain": [
              "'n'"
            ]
          },
          "execution_count": 22,
          "metadata": {},
          "output_type": "execute_result"
        }
      ],
      "source": [
        "word[-1]  # last character"
      ]
    },
    {
      "cell_type": "code",
      "execution_count": null,
      "id": "1e65f7a6",
      "metadata": {
        "id": "1e65f7a6",
        "outputId": "883a1d6e-e0ca-41c7-c23b-44cd0cd1d1dc"
      },
      "outputs": [
        {
          "data": {
            "text/plain": [
              "'P'"
            ]
          },
          "execution_count": 23,
          "metadata": {},
          "output_type": "execute_result"
        }
      ],
      "source": [
        "word[-6]  #what will be printing in -0?"
      ]
    },
    {
      "cell_type": "markdown",
      "id": "3adc7982",
      "metadata": {
        "id": "3adc7982"
      },
      "source": [
        "Note that since -0 is the same as 0, negative indices start from -1."
      ]
    },
    {
      "cell_type": "markdown",
      "id": "92318daf",
      "metadata": {
        "id": "92318daf"
      },
      "source": [
        "In addition to indexing, slicing is also supported. While indexing is used to obtain individual characters, slicing allows you to obtain substring:"
      ]
    },
    {
      "cell_type": "markdown",
      "id": "a60a1afc",
      "metadata": {
        "id": "a60a1afc"
      },
      "source": [
        " +---+---+---+---+---+---+\n",
        " | P | y | t | h | o | n |\n",
        " +---+---+---+---+---+---+\n",
        " 0   1   2   3   4   5   6"
      ]
    },
    {
      "cell_type": "code",
      "execution_count": null,
      "id": "5fc1b371",
      "metadata": {
        "id": "5fc1b371",
        "outputId": "1299e5c4-049c-4c9e-e355-9e38b3ccec38"
      },
      "outputs": [
        {
          "data": {
            "text/plain": [
              "'Py'"
            ]
          },
          "execution_count": 24,
          "metadata": {},
          "output_type": "execute_result"
        }
      ],
      "source": [
        "word[0:2]"
      ]
    },
    {
      "cell_type": "code",
      "execution_count": null,
      "id": "77eb1950",
      "metadata": {
        "id": "77eb1950",
        "outputId": "07346c92-a872-48f9-dccf-f8b85ea896d8"
      },
      "outputs": [
        {
          "data": {
            "text/plain": [
              "'Py'"
            ]
          },
          "execution_count": 25,
          "metadata": {},
          "output_type": "execute_result"
        }
      ],
      "source": [
        "word[:2]   # character from the beginning to position 2 (excluded)"
      ]
    },
    {
      "cell_type": "code",
      "execution_count": null,
      "id": "2ab71da6",
      "metadata": {
        "id": "2ab71da6",
        "outputId": "9a329154-4f59-4248-9560-7df29d50ace0"
      },
      "outputs": [
        {
          "data": {
            "text/plain": [
              "'thon'"
            ]
          },
          "execution_count": 26,
          "metadata": {},
          "output_type": "execute_result"
        }
      ],
      "source": [
        "word[2:]   # characters from position 2 (included) to the end"
      ]
    },
    {
      "cell_type": "code",
      "execution_count": null,
      "id": "6db8e7a8",
      "metadata": {
        "id": "6db8e7a8",
        "outputId": "7e536e20-34ab-44d7-82c4-c1161754d84c"
      },
      "outputs": [
        {
          "data": {
            "text/plain": [
              "'on'"
            ]
          },
          "execution_count": 27,
          "metadata": {},
          "output_type": "execute_result"
        }
      ],
      "source": [
        "word[-2:]   # characters from the second-last (included) to the end"
      ]
    },
    {
      "cell_type": "markdown",
      "id": "db139ea4",
      "metadata": {
        "id": "db139ea4"
      },
      "source": [
        "Note how the start is always included, and the end always excluded. This makes sure that s[:i] + s[i:] is always equal to s:"
      ]
    },
    {
      "cell_type": "code",
      "execution_count": null,
      "id": "90fc4547",
      "metadata": {
        "id": "90fc4547",
        "outputId": "ce3b48e0-4ace-4f74-866e-778cf9647cbd"
      },
      "outputs": [
        {
          "data": {
            "text/plain": [
              "'Python'"
            ]
          },
          "execution_count": 28,
          "metadata": {},
          "output_type": "execute_result"
        }
      ],
      "source": [
        "word[:2] + word[2:]"
      ]
    },
    {
      "cell_type": "code",
      "execution_count": null,
      "id": "6c7ccdb0",
      "metadata": {
        "id": "6c7ccdb0",
        "outputId": "a5f1f797-83f3-4908-dd79-42f6d2f3eb1e"
      },
      "outputs": [
        {
          "name": "stdout",
          "output_type": "stream",
          "text": [
            "Count of e in hello ... world is : 1\n",
            "Count of e in hello ... world is : 1\n"
          ]
        }
      ],
      "source": [
        "s = \"\"\"hello ... world\"\"\"\n",
        "  \n",
        "# using count() to get count \n",
        "counter = s.count('e')\n",
        "  \n",
        "print (\"Count of e in\",s, \"is : \" +  str(counter))\n",
        "print ('Count of e in ' + s + ' is : ' +  str(counter))"
      ]
    },
    {
      "cell_type": "code",
      "execution_count": null,
      "id": "fa07c580",
      "metadata": {
        "id": "fa07c580",
        "outputId": "3419fb16-a017-49ca-d43e-12568aa0889d"
      },
      "outputs": [
        {
          "name": "stdout",
          "output_type": "stream",
          "text": [
            "2\n",
            "1\n"
          ]
        }
      ],
      "source": [
        "#defining string and substring\n",
        "str1 = \"This dress looks good; you have good taste in clothes.\"\n",
        "substr = \"good\"\n",
        "\n",
        "#occurrence of word 'good' in whole string\n",
        "count1 = str1.count(substr)\n",
        "print(count1)\n",
        "\n",
        "#occurrence of word 'good' from index 0 to 25\n",
        "count2 = str1.count(substr,0,25)\n",
        "print(count2)"
      ]
    },
    {
      "cell_type": "code",
      "execution_count": null,
      "id": "143591a2",
      "metadata": {
        "id": "143591a2",
        "outputId": "0e6d19fc-4930-41a2-c9ef-95e014a76c02"
      },
      "outputs": [
        {
          "name": "stdout",
          "output_type": "stream",
          "text": [
            "Number of substrings 3\n",
            "Number of substrings 6\n"
          ]
        }
      ],
      "source": [
        "ini_str = \"ababababa\"\n",
        "  \n",
        "# count of substrings using startswith\n",
        "res = sum(1 for i in range(len(ini_str)) \n",
        "         if ini_str.startswith(\"abab\", i))\n",
        "  \n",
        "# Printing result\n",
        "print(\"Number of substrings\", res)\n",
        "\n",
        "# count of substrings using endswith\n",
        "res1 = sum(1 for i in range(len(ini_str)) \n",
        "         if ini_str.endswith(\"baba\", i))\n",
        "\n",
        "print(\"Number of substrings\", res1)\n",
        "\n"
      ]
    },
    {
      "cell_type": "code",
      "execution_count": null,
      "id": "4239f99d",
      "metadata": {
        "id": "4239f99d"
      },
      "outputs": [],
      "source": [
        "str1 = \"   This dress looks good; you have good taste in clothes.   \""
      ]
    },
    {
      "cell_type": "code",
      "execution_count": null,
      "id": "6f6cc223",
      "metadata": {
        "id": "6f6cc223",
        "outputId": "3bf6a388-21e8-40a1-eb2d-2e1f0a8aea93"
      },
      "outputs": [
        {
          "data": {
            "text/plain": [
              "'this dress looks good; you have good taste in clothes.'"
            ]
          },
          "execution_count": 34,
          "metadata": {},
          "output_type": "execute_result"
        }
      ],
      "source": [
        "str1.lower()"
      ]
    },
    {
      "cell_type": "code",
      "execution_count": null,
      "id": "5e345d2d",
      "metadata": {
        "id": "5e345d2d",
        "outputId": "959ce8c6-c0b2-4d65-f7ce-a55d1d27fdff"
      },
      "outputs": [
        {
          "data": {
            "text/plain": [
              "'THIS DRESS LOOKS GOOD; YOU HAVE GOOD TASTE IN CLOTHES.'"
            ]
          },
          "execution_count": 35,
          "metadata": {},
          "output_type": "execute_result"
        }
      ],
      "source": [
        "str1.upper()"
      ]
    },
    {
      "cell_type": "code",
      "execution_count": null,
      "id": "602fb0e7",
      "metadata": {
        "id": "602fb0e7",
        "outputId": "f8a5014c-b77c-4299-bcbc-6ff0ccc33898"
      },
      "outputs": [
        {
          "name": "stdout",
          "output_type": "stream",
          "text": [
            "   This dress looks good; you have good taste in clothes.   \n",
            "This dress looks good; you have good taste in clothes.\n"
          ]
        }
      ],
      "source": [
        "print(str1)\n",
        " \n",
        "# prints the string by removing leading and trailing whitespaces\n",
        "print(str1.strip())  "
      ]
    },
    {
      "cell_type": "code",
      "execution_count": null,
      "id": "1c549a9a",
      "metadata": {
        "id": "1c549a9a",
        "outputId": "436375e5-ff4c-4a35-f5ad-c9b23486cf05"
      },
      "outputs": [
        {
          "name": "stdout",
          "output_type": "stream",
          "text": [
            "King has the largest army in the entire world\n"
          ]
        }
      ],
      "source": [
        "str2 = \" the King has the largest army in the entire world the\"\n",
        " \n",
        "# prints the string after removing the from beginning and end\n",
        "print(str2.strip(\" the\"))"
      ]
    },
    {
      "cell_type": "code",
      "execution_count": null,
      "id": "bb7f8d64",
      "metadata": {
        "id": "bb7f8d64",
        "outputId": "31508f65-3465-4813-f34c-21373f709798"
      },
      "outputs": [
        {
          "name": "stdout",
          "output_type": "stream",
          "text": [
            "['This', ' dress', ' looks', ' good;']\n"
          ]
        }
      ],
      "source": [
        "str1 = \"This, dress, looks, good;\"\n",
        "print(str1.split(','))"
      ]
    },
    {
      "cell_type": "code",
      "execution_count": null,
      "id": "db14f714",
      "metadata": {
        "id": "db14f714",
        "outputId": "0a0d246e-3602-42bf-e2e0-e6ea2d93279c"
      },
      "outputs": [
        {
          "name": "stdout",
          "output_type": "stream",
          "text": [
            "['C', 'tB', 'tS', 'tF', 'tOr']\n"
          ]
        }
      ],
      "source": [
        "str2 = 'CatBatSatFatOr'\n",
        "print(str2.split('a'))"
      ]
    },
    {
      "cell_type": "code",
      "execution_count": null,
      "id": "5b7e6561",
      "metadata": {
        "id": "5b7e6561",
        "outputId": "11962ae9-b934-451b-e482-61c350dda085"
      },
      "outputs": [
        {
          "name": "stdout",
          "output_type": "stream",
          "text": [
            "['This, dress, looks, good;']\n",
            "['This', 'dress', 'looks', 'good;']\n",
            "['This', 'dress, looks, good;']\n"
          ]
        }
      ],
      "source": [
        "print(str1.split(', ', 0))\n",
        "  \n",
        "# maxsplit: 4\n",
        "print(str1.split(', ', 4))\n",
        "  \n",
        "# maxsplit: 1\n",
        "print(str1.split(', ', 1))"
      ]
    },
    {
      "cell_type": "code",
      "execution_count": null,
      "id": "69ee3a85",
      "metadata": {
        "id": "69ee3a85"
      },
      "outputs": [],
      "source": [
        ""
      ]
    }
  ],
  "metadata": {
    "kernelspec": {
      "display_name": "Python 3 (ipykernel)",
      "language": "python",
      "name": "python3"
    },
    "language_info": {
      "codemirror_mode": {
        "name": "ipython",
        "version": 3
      },
      "file_extension": ".py",
      "mimetype": "text/x-python",
      "name": "python",
      "nbconvert_exporter": "python",
      "pygments_lexer": "ipython3",
      "version": "3.9.7"
    },
    "colab": {
      "name": "Second_class.ipynb",
      "provenance": [],
      "include_colab_link": true
    }
  },
  "nbformat": 4,
  "nbformat_minor": 5
}