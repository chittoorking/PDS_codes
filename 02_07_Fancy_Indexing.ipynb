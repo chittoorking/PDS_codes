{
  "cells": [
    {
      "cell_type": "markdown",
      "metadata": {
        "id": "view-in-github",
        "colab_type": "text"
      },
      "source": [
        "<a href=\"https://colab.research.google.com/github/chittoorking/PDS_codes/blob/main/02_07_Fancy_Indexing.ipynb\" target=\"_parent\"><img src=\"https://colab.research.google.com/assets/colab-badge.svg\" alt=\"Open In Colab\"/></a>"
      ]
    },
    {
      "cell_type": "markdown",
      "metadata": {
        "id": "Wbc0eLnEYYjK"
      },
      "source": [
        "# Fancy Indexing"
      ]
    },
    {
      "cell_type": "markdown",
      "metadata": {
        "id": "WqTzZjNmYYjL"
      },
      "source": [
        "In the previous sections, we saw how to access and modify portions of arrays using simple indices (e.g., ``arr[0]``), slices (e.g., ``arr[:5]``), and Boolean masks (e.g., ``arr[arr > 0]``).\n",
        "In this section, we'll look at another style of array indexing, known as *fancy indexing*.\n",
        "Fancy indexing is like the simple indexing we've already seen, but we pass arrays of indices in place of single scalars.\n",
        "This allows us to very quickly access and modify complicated subsets of an array's values."
      ]
    },
    {
      "cell_type": "markdown",
      "metadata": {
        "id": "IcUGl2vRYYjM"
      },
      "source": [
        "## Exploring Fancy Indexing\n",
        "\n",
        "Fancy indexing is conceptually simple: it means passing an array of indices to access multiple array elements at once.\n",
        "For example, consider the following array:"
      ]
    },
    {
      "cell_type": "code",
      "execution_count": null,
      "metadata": {
        "id": "50INRmETYYjM",
        "outputId": "e3b76f57-4b4a-4aff-a4dc-218d6a06e155"
      },
      "outputs": [
        {
          "name": "stdout",
          "output_type": "stream",
          "text": [
            "[51 92 14 71 60 20 82 86 74 74]\n"
          ]
        }
      ],
      "source": [
        "import numpy as np\n",
        "rand = np.random.RandomState(42)  #42 - Hitchhikers Guide to Galaxy\n",
        "\n",
        "x = rand.randint(100, size=10)\n",
        "print(x)"
      ]
    },
    {
      "cell_type": "markdown",
      "metadata": {
        "id": "P70nAdiSYYjN"
      },
      "source": [
        "Suppose we want to access three different elements. We could do it like this:"
      ]
    },
    {
      "cell_type": "code",
      "execution_count": null,
      "metadata": {
        "id": "HPvtNxI0YYjO",
        "outputId": "5f307b76-cf1f-4766-b69b-40a0e661131b"
      },
      "outputs": [
        {
          "data": {
            "text/plain": [
              "[71, 86, 14]"
            ]
          },
          "execution_count": 2,
          "metadata": {},
          "output_type": "execute_result"
        }
      ],
      "source": [
        "[x[3], x[7], x[2]]"
      ]
    },
    {
      "cell_type": "markdown",
      "metadata": {
        "id": "dC4zUVpaYYjO"
      },
      "source": [
        "Alternatively, we can pass a single list or array of indices to obtain the same result:"
      ]
    },
    {
      "cell_type": "code",
      "execution_count": null,
      "metadata": {
        "id": "ekq5BhpxYYjP",
        "outputId": "eac4d001-1a05-4ca2-c9f3-ca32d8d9da77"
      },
      "outputs": [
        {
          "data": {
            "text/plain": [
              "array([71, 86, 60])"
            ]
          },
          "execution_count": 3,
          "metadata": {},
          "output_type": "execute_result"
        }
      ],
      "source": [
        "ind = [3, 7, 4]\n",
        "x[ind]"
      ]
    },
    {
      "cell_type": "markdown",
      "metadata": {
        "id": "a7pLgeSuYYjP"
      },
      "source": [
        "When using fancy indexing, the shape of the result reflects the shape of the *index arrays* rather than the shape of the *array being indexed*:"
      ]
    },
    {
      "cell_type": "code",
      "execution_count": null,
      "metadata": {
        "id": "7WTqsn7AYYjQ",
        "outputId": "acc0eedf-443e-4583-cef8-3ab451392a4f"
      },
      "outputs": [
        {
          "data": {
            "text/plain": [
              "array([[71, 86],\n",
              "       [60, 20]])"
            ]
          },
          "execution_count": 4,
          "metadata": {},
          "output_type": "execute_result"
        }
      ],
      "source": [
        "ind = np.array([[3, 7],\n",
        "                [4, 5]])\n",
        "x[ind]"
      ]
    },
    {
      "cell_type": "markdown",
      "metadata": {
        "id": "UAkJ7ZzGYYjQ"
      },
      "source": [
        "Fancy indexing also works in multiple dimensions. Consider the following array:"
      ]
    },
    {
      "cell_type": "code",
      "execution_count": null,
      "metadata": {
        "id": "AYT5PGgVYYjQ",
        "outputId": "3d2a7ee2-5018-41b6-9b6f-9b08ab70e0c1"
      },
      "outputs": [
        {
          "data": {
            "text/plain": [
              "array([[ 0,  1,  2,  3],\n",
              "       [ 4,  5,  6,  7],\n",
              "       [ 8,  9, 10, 11]])"
            ]
          },
          "execution_count": 5,
          "metadata": {},
          "output_type": "execute_result"
        }
      ],
      "source": [
        "X = np.arange(12).reshape((3, 4))\n",
        "X"
      ]
    },
    {
      "cell_type": "markdown",
      "metadata": {
        "id": "Vk-1EDPrYYjR"
      },
      "source": [
        "Like with standard indexing, the first index refers to the row, and the second to the column:"
      ]
    },
    {
      "cell_type": "code",
      "execution_count": null,
      "metadata": {
        "id": "VlpmYXAOYYjR",
        "outputId": "9071fe81-5991-43b8-a73a-081b02a10a6d"
      },
      "outputs": [
        {
          "data": {
            "text/plain": [
              "array([ 2,  5, 11])"
            ]
          },
          "execution_count": 6,
          "metadata": {},
          "output_type": "execute_result"
        }
      ],
      "source": [
        "row = np.array([0, 1, 2])\n",
        "col = np.array([2, 1, 3])\n",
        "X[row, col]"
      ]
    },
    {
      "cell_type": "code",
      "execution_count": null,
      "metadata": {
        "id": "yAaTckWWkum0",
        "outputId": "30998b2b-f599-45b8-9063-61aa7f838168"
      },
      "outputs": [
        {
          "data": {
            "text/plain": [
              "(array([[0],\n",
              "        [1],\n",
              "        [2]]),\n",
              " array([2, 1, 3]))"
            ]
          },
          "execution_count": 7,
          "metadata": {},
          "output_type": "execute_result"
        }
      ],
      "source": [
        "row[:, np.newaxis], col"
      ]
    },
    {
      "cell_type": "markdown",
      "metadata": {
        "id": "GKdfKZxvYYjS"
      },
      "source": [
        "Notice that the first value in the result is ``X[0, 2]``, the second is ``X[1, 1]``, and the third is ``X[2, 3]``.\n",
        "The pairing of indices in fancy indexing follows all the broadcasting rules that were mentioned in [Computation on Arrays: Broadcasting].\n",
        "So, for example, if we combine a column vector and a row vector within the indices, we get a two-dimensional result:"
      ]
    },
    {
      "cell_type": "code",
      "execution_count": null,
      "metadata": {
        "id": "HJ9oo6_IYYjS",
        "outputId": "546c1b32-df72-4df2-a372-68ea6a037f5b"
      },
      "outputs": [
        {
          "data": {
            "text/plain": [
              "array([[ 2,  1,  3],\n",
              "       [ 6,  5,  7],\n",
              "       [10,  9, 11]])"
            ]
          },
          "execution_count": 8,
          "metadata": {},
          "output_type": "execute_result"
        }
      ],
      "source": [
        "X[row[:, np.newaxis], col]"
      ]
    },
    {
      "cell_type": "markdown",
      "metadata": {
        "id": "MM4DOERSYYjT"
      },
      "source": [
        "Here, each row value is matched with each column vector, exactly as we saw in broadcasting of arithmetic operations.\n",
        "For example:"
      ]
    },
    {
      "cell_type": "code",
      "execution_count": null,
      "metadata": {
        "id": "LUtsF8SgYYjT",
        "outputId": "5857ed5e-7dc1-4210-ab77-9151b4de581d"
      },
      "outputs": [
        {
          "data": {
            "text/plain": [
              "array([[0, 0, 0],\n",
              "       [2, 1, 3],\n",
              "       [4, 2, 6]])"
            ]
          },
          "execution_count": 9,
          "metadata": {},
          "output_type": "execute_result"
        }
      ],
      "source": [
        "row[:, np.newaxis] * col"
      ]
    },
    {
      "cell_type": "code",
      "execution_count": null,
      "metadata": {
        "id": "a-f3dwgdkum6",
        "outputId": "6b797c30-6337-42a0-c446-11ba59626101"
      },
      "outputs": [
        {
          "ename": "IndexError",
          "evalue": "index 3 is out of bounds for axis 0 with size 3",
          "output_type": "error",
          "traceback": [
            "\u001b[0;31m---------------------------------------------------------------------------\u001b[0m",
            "\u001b[0;31mIndexError\u001b[0m                                Traceback (most recent call last)",
            "\u001b[0;32m/var/folders/93/xfc0v8hd5dgdxb83wcj0199h0000gn/T/ipykernel_34495/2381612276.py\u001b[0m in \u001b[0;36m<module>\u001b[0;34m\u001b[0m\n\u001b[0;32m----> 1\u001b[0;31m \u001b[0mX\u001b[0m\u001b[0;34m[\u001b[0m\u001b[0mrow\u001b[0m\u001b[0;34m[\u001b[0m\u001b[0;34m:\u001b[0m\u001b[0;34m,\u001b[0m \u001b[0mnp\u001b[0m\u001b[0;34m.\u001b[0m\u001b[0mnewaxis\u001b[0m\u001b[0;34m]\u001b[0m \u001b[0;34m*\u001b[0m \u001b[0mcol\u001b[0m\u001b[0;34m]\u001b[0m\u001b[0;34m\u001b[0m\u001b[0;34m\u001b[0m\u001b[0m\n\u001b[0m",
            "\u001b[0;31mIndexError\u001b[0m: index 3 is out of bounds for axis 0 with size 3"
          ]
        }
      ],
      "source": [
        "X[row[:, np.newaxis] * col]"
      ]
    },
    {
      "cell_type": "markdown",
      "metadata": {
        "id": "_pYWl1bPYYjT"
      },
      "source": [
        "It is always important to remember with fancy indexing that the return value reflects the *broadcasted shape of the indices*, rather than the shape of the array being indexed."
      ]
    },
    {
      "cell_type": "markdown",
      "metadata": {
        "id": "dqrOE-6DYYjT"
      },
      "source": [
        "## Combined Indexing\n",
        "\n",
        "For even more powerful operations, fancy indexing can be combined with the other indexing schemes we've seen:"
      ]
    },
    {
      "cell_type": "code",
      "execution_count": null,
      "metadata": {
        "id": "jrkO2EbqYYjU",
        "outputId": "1a78382b-8d4b-421d-daf2-a4912536e6ec"
      },
      "outputs": [
        {
          "name": "stdout",
          "output_type": "stream",
          "text": [
            "[[ 0  1  2  3]\n",
            " [ 4  5  6  7]\n",
            " [ 8  9 10 11]]\n"
          ]
        }
      ],
      "source": [
        "print(X)"
      ]
    },
    {
      "cell_type": "markdown",
      "metadata": {
        "id": "j_lmHD1CYYjU"
      },
      "source": [
        "We can combine fancy and simple indices:"
      ]
    },
    {
      "cell_type": "code",
      "execution_count": null,
      "metadata": {
        "id": "c9VH2X_gYYjU",
        "outputId": "3f9e9ce5-0ea7-4b99-f06b-af306f526e54"
      },
      "outputs": [
        {
          "data": {
            "text/plain": [
              "array([10,  8,  9])"
            ]
          },
          "execution_count": 12,
          "metadata": {},
          "output_type": "execute_result"
        }
      ],
      "source": [
        "X[2, [2, 0, 1]]"
      ]
    },
    {
      "cell_type": "markdown",
      "metadata": {
        "id": "tUqcQ2tRYYjV"
      },
      "source": [
        "We can also combine fancy indexing with slicing:"
      ]
    },
    {
      "cell_type": "code",
      "execution_count": null,
      "metadata": {
        "id": "wQ-ksqHEYYjV",
        "outputId": "af2b0fe2-8bab-43e4-87c2-2c7768bc8c0e"
      },
      "outputs": [
        {
          "data": {
            "text/plain": [
              "array([[ 6,  4,  5],\n",
              "       [10,  8,  9]])"
            ]
          },
          "execution_count": 13,
          "metadata": {},
          "output_type": "execute_result"
        }
      ],
      "source": [
        "X[1:, [2, 0, 1]]"
      ]
    },
    {
      "cell_type": "markdown",
      "metadata": {
        "id": "-S3RAxfJYYjV"
      },
      "source": [
        "And we can combine fancy indexing with masking:"
      ]
    },
    {
      "cell_type": "code",
      "execution_count": null,
      "metadata": {
        "id": "DDj_9eaQYYjV"
      },
      "outputs": [],
      "source": [
        "mask = np.array([1, 0, 1, 0], dtype=bool)"
      ]
    },
    {
      "cell_type": "code",
      "execution_count": null,
      "metadata": {
        "id": "gj7xpoSPkunH",
        "outputId": "bfe95d08-5b50-43e0-d15e-d86ddf942be3"
      },
      "outputs": [
        {
          "data": {
            "text/plain": [
              "(array([[0],\n",
              "        [1],\n",
              "        [2]]),\n",
              " array([ True, False,  True, False]))"
            ]
          },
          "execution_count": 15,
          "metadata": {},
          "output_type": "execute_result"
        }
      ],
      "source": [
        "row[:, np.newaxis], mask"
      ]
    },
    {
      "cell_type": "code",
      "execution_count": null,
      "metadata": {
        "id": "YatrpMwwkunJ",
        "outputId": "ab406ade-5aae-4b4c-beb4-48582e5b4297"
      },
      "outputs": [
        {
          "data": {
            "text/plain": [
              "array([[ 0,  2],\n",
              "       [ 4,  6],\n",
              "       [ 8, 10]])"
            ]
          },
          "execution_count": 16,
          "metadata": {},
          "output_type": "execute_result"
        }
      ],
      "source": [
        "X[row[:, np.newaxis], mask]"
      ]
    },
    {
      "cell_type": "markdown",
      "metadata": {
        "id": "-3Kaav0eYYjV"
      },
      "source": [
        "All of these indexing options combined lead to a very flexible set of operations for accessing and modifying array values."
      ]
    },
    {
      "cell_type": "markdown",
      "metadata": {
        "id": "Ve1HVOw0YYjW"
      },
      "source": [
        "## Example: Selecting Random Points\n",
        "\n",
        "One common use of fancy indexing is the selection of subsets of rows from a matrix.\n",
        "For example, we might have an $N$ by $D$ matrix representing $N$ points in $D$ dimensions, such as the following points drawn from a two-dimensional normal distribution:"
      ]
    },
    {
      "cell_type": "code",
      "execution_count": null,
      "metadata": {
        "id": "lbefKcGZYYjW",
        "outputId": "7bfe6bb0-c517-4cf9-a969-26b485550a84"
      },
      "outputs": [
        {
          "data": {
            "text/plain": [
              "(100, 2)"
            ]
          },
          "execution_count": 17,
          "metadata": {},
          "output_type": "execute_result"
        }
      ],
      "source": [
        "mean = [0, 0]\n",
        "cov = [[1, 2],\n",
        "       [2, 5]]\n",
        "X = rand.multivariate_normal(mean, cov, 100)\n",
        "X.shape"
      ]
    },
    {
      "cell_type": "code",
      "execution_count": null,
      "metadata": {
        "id": "CSu16JngkunN",
        "outputId": "35114079-4124-4c33-8c0e-068adbed1756"
      },
      "outputs": [
        {
          "data": {
            "text/plain": [
              "array([[-0.644508  , -0.46220608],\n",
              "       [ 0.7376352 ,  1.21236921],\n",
              "       [ 0.88151763,  1.12795177],\n",
              "       [ 2.04998983,  5.97778598],\n",
              "       [-0.1711348 , -2.06258746],\n",
              "       [ 0.67956979,  0.83705124],\n",
              "       [ 1.46860232,  1.22961093],\n",
              "       [ 0.35282131,  1.49875397],\n",
              "       [-2.51552505, -5.64629995],\n",
              "       [ 0.0843329 , -0.3543059 ],\n",
              "       [ 0.19199272,  1.48901291],\n",
              "       [-0.02566217, -0.74987887],\n",
              "       [ 1.00569227,  2.25287315],\n",
              "       [ 0.49514263,  1.18939673],\n",
              "       [ 0.0629872 ,  0.57349278],\n",
              "       [ 0.75093031,  2.99487004],\n",
              "       [-3.0236127 , -6.00766046],\n",
              "       [-0.53943081, -0.3478899 ],\n",
              "       [ 1.53817376,  1.99973464],\n",
              "       [-0.50886808, -1.81099656],\n",
              "       [ 1.58115602,  2.86410319],\n",
              "       [ 0.99305043,  2.54294059],\n",
              "       [-0.87753796, -1.15767204],\n",
              "       [-1.11518048, -1.87508012],\n",
              "       [ 0.4299908 ,  0.36324254],\n",
              "       [ 0.97253528,  3.53815717],\n",
              "       [ 0.32124996,  0.33137032],\n",
              "       [-0.74618649, -2.77366681],\n",
              "       [-0.88473953, -1.81495444],\n",
              "       [ 0.98783862,  2.30280401],\n",
              "       [-1.2033623 , -2.04402725],\n",
              "       [-1.51101746, -3.2818741 ],\n",
              "       [-2.76337717, -7.66760648],\n",
              "       [ 0.39158553,  0.87949228],\n",
              "       [ 0.91181024,  3.32968944],\n",
              "       [-0.84202629, -2.01226547],\n",
              "       [ 1.06586877,  0.95500019],\n",
              "       [ 0.44457363,  1.87828298],\n",
              "       [ 0.35936721,  0.40554974],\n",
              "       [-0.90649669, -0.93486441],\n",
              "       [-0.35790389, -0.52363012],\n",
              "       [-1.33461668, -3.03203218],\n",
              "       [ 0.02815138,  0.79654924],\n",
              "       [ 0.37785618,  0.51409383],\n",
              "       [-1.06505097, -2.88726779],\n",
              "       [ 2.32083881,  5.97698647],\n",
              "       [ 0.47605744,  0.83634485],\n",
              "       [-0.35490984, -1.03657119],\n",
              "       [ 0.57532883, -0.79997124],\n",
              "       [ 0.33399913,  2.32597923],\n",
              "       [ 0.6575612 , -0.22389518],\n",
              "       [ 1.3707365 ,  2.2348831 ],\n",
              "       [ 0.07099548, -0.29685467],\n",
              "       [ 0.6074983 ,  1.47089233],\n",
              "       [-0.34226126, -1.10666237],\n",
              "       [ 0.69226246,  1.21504303],\n",
              "       [-0.31112937, -0.75912097],\n",
              "       [-0.26888327, -1.89366817],\n",
              "       [ 0.42044896,  1.85189522],\n",
              "       [ 0.21115245,  2.00781492],\n",
              "       [-1.83106042, -2.91352836],\n",
              "       [ 0.7841796 ,  1.97640753],\n",
              "       [ 0.10259314,  1.24690575],\n",
              "       [-1.91100558, -3.66800923],\n",
              "       [ 0.13143756, -0.07833855],\n",
              "       [-0.1317045 , -1.64159158],\n",
              "       [-0.14547282, -1.34125678],\n",
              "       [-0.51172373, -1.40960773],\n",
              "       [ 0.69758045,  0.72563649],\n",
              "       [ 0.11677083,  0.88385162],\n",
              "       [-1.16586444, -2.24482237],\n",
              "       [-2.23176235, -2.63958101],\n",
              "       [ 0.37857234,  0.69112594],\n",
              "       [ 0.87475323,  3.400675  ],\n",
              "       [-0.86864365, -3.03568353],\n",
              "       [-1.03637857, -1.18469125],\n",
              "       [-0.53334959, -0.37039911],\n",
              "       [ 0.30414557, -0.5828419 ],\n",
              "       [-1.47656656, -2.13046298],\n",
              "       [-0.31332021, -1.7895623 ],\n",
              "       [ 1.12659538,  1.49627535],\n",
              "       [-1.19675798, -1.51633442],\n",
              "       [-0.75210154, -0.79770535],\n",
              "       [ 0.74577693,  1.95834451],\n",
              "       [ 1.56094354,  2.9330816 ],\n",
              "       [-0.72009966, -1.99780959],\n",
              "       [-1.32319163, -2.61218347],\n",
              "       [-2.56215914, -6.08410838],\n",
              "       [ 1.31256297,  3.13143269],\n",
              "       [ 0.51575983,  2.30284639],\n",
              "       [ 0.01374713, -0.11539344],\n",
              "       [-0.16863279,  0.39422355],\n",
              "       [ 0.12065651,  1.13236323],\n",
              "       [-0.83504984, -2.38632016],\n",
              "       [ 1.05185885,  1.98418223],\n",
              "       [-0.69144553, -1.56919875],\n",
              "       [-1.2567603 , -1.125898  ],\n",
              "       [ 0.09619333, -0.64335574],\n",
              "       [-0.99658689, -2.35038099],\n",
              "       [-1.21405259, -1.77693724]])"
            ]
          },
          "execution_count": 18,
          "metadata": {},
          "output_type": "execute_result"
        }
      ],
      "source": [
        "X"
      ]
    },
    {
      "cell_type": "markdown",
      "metadata": {
        "id": "Kofz8j4JYYjW"
      },
      "source": [
        "we can visualize these points as a scatter-plot:"
      ]
    },
    {
      "cell_type": "code",
      "execution_count": null,
      "metadata": {
        "id": "AXQ-SJYiYYjW",
        "outputId": "de9f3a97-0ae6-4820-e968-4cbf96d64a4c"
      },
      "outputs": [
        {
          "data": {
            "image/png": "[encoded data removed]",
            "text/plain": [
              "<Figure size 432x288 with 1 Axes>"
            ]
          },
          "metadata": {},
          "output_type": "display_data"
        }
      ],
      "source": [
        "%matplotlib inline\n",
        "import matplotlib.pyplot as plt\n",
        "import seaborn; seaborn.set()  # for plot styling\n",
        "\n",
        "plt.scatter(X[:, 0], X[:, 1]);"
      ]
    },
    {
      "cell_type": "markdown",
      "metadata": {
        "id": "8AVAcK_qYYjX"
      },
      "source": [
        "Let's use fancy indexing to select 20 random points. We'll do this by first choosing 20 random indices with no repeats, and use these indices to select a portion of the original array:"
      ]
    },
    {
      "cell_type": "code",
      "execution_count": null,
      "metadata": {
        "id": "jg7UQjd3YYjX",
        "outputId": "cafa42ea-6932-4506-a4ce-c5c91e6f0e24"
      },
      "outputs": [
        {
          "data": {
            "text/plain": [
              "array([87,  5, 42, 88, 36, 35, 15, 18, 60, 13, 61, 53, 47, 50, 76, 58, 74,\n",
              "       75, 21, 23])"
            ]
          },
          "execution_count": 20,
          "metadata": {},
          "output_type": "execute_result"
        }
      ],
      "source": [
        "indices = np.random.choice(X.shape[0], 20, replace=False)\n",
        "indices"
      ]
    },
    {
      "cell_type": "code",
      "execution_count": null,
      "metadata": {
        "id": "_0LyvNQWYYjX",
        "outputId": "1978320e-df7a-49cf-9833-2510a1b58f50"
      },
      "outputs": [
        {
          "data": {
            "text/plain": [
              "(20, 2)"
            ]
          },
          "execution_count": 21,
          "metadata": {},
          "output_type": "execute_result"
        }
      ],
      "source": [
        "selection = X[indices]  # fancy indexing here\n",
        "selection.shape"
      ]
    },
    {
      "cell_type": "markdown",
      "metadata": {
        "id": "9VtkbqtGYYjX"
      },
      "source": [
        "Now to see which points were selected, let's over-plot large circles at the locations of the selected points:"
      ]
    },
    {
      "cell_type": "code",
      "execution_count": null,
      "metadata": {
        "id": "scbaBCMoYYjY",
        "outputId": "a2250102-b3f2-48ac-ce6d-e202ba154012"
      },
      "outputs": [
        {
          "data": {
            "image/png": "[encoded data removed]",
            "text/plain": [
              "<Figure size 432x288 with 1 Axes>"
            ]
          },
          "metadata": {},
          "output_type": "display_data"
        }
      ],
      "source": [
        "plt.scatter(X[:, 0], X[:, 1], facecolor='green', alpha=0.8)\n",
        "plt.scatter(selection[:, 0], selection[:, 1],\n",
        "            facecolor='red', s=100);"
      ]
    },
    {
      "cell_type": "markdown",
      "metadata": {
        "id": "YAY0rp6aYYjY"
      },
      "source": [
        "This sort of strategy is often used to quickly partition datasets, as is often needed in train/test splitting for validation of statistical models, and in sampling approaches to answering statistical questions."
      ]
    },
    {
      "cell_type": "markdown",
      "metadata": {
        "id": "Lx2twHVXYYjY"
      },
      "source": [
        "## Modifying Values with Fancy Indexing\n",
        "\n",
        "Just as fancy indexing can be used to access parts of an array, it can also be used to modify parts of an array.\n",
        "For example, imagine we have an array of indices and we'd like to set the corresponding items in an array to some value:"
      ]
    },
    {
      "cell_type": "code",
      "execution_count": null,
      "metadata": {
        "id": "pgGFrJaLYYjY"
      },
      "outputs": [],
      "source": [
        "x = np.arange(10)\n",
        "i = np.array([2, 1, 8, 4])\n",
        "x[i] = 99\n",
        "print(x)"
      ]
    },
    {
      "cell_type": "markdown",
      "metadata": {
        "id": "ByrWT4jcYYjY"
      },
      "source": [
        "We can use any assignment-type operator for this. For example:"
      ]
    },
    {
      "cell_type": "code",
      "execution_count": null,
      "metadata": {
        "id": "gY_wFSBYYYjZ"
      },
      "outputs": [],
      "source": [
        "x[i] -= 10\n",
        "print(x)"
      ]
    },
    {
      "cell_type": "markdown",
      "metadata": {
        "id": "daqEOUdRYYjZ"
      },
      "source": [
        "Notice, though, that repeated indices with these operations can cause some potentially unexpected results. Consider the following:"
      ]
    },
    {
      "cell_type": "code",
      "execution_count": null,
      "metadata": {
        "id": "OqqdfIudYYjZ"
      },
      "outputs": [],
      "source": [
        "x = np.zeros(10)\n",
        "x[[0, 0]] = [4, 6]\n",
        "print(x)"
      ]
    },
    {
      "cell_type": "markdown",
      "metadata": {
        "id": "Wp8sVpe7YYja"
      },
      "source": [
        "Where did the 4 go? The result of this operation is to first assign ``x[0] = 4``, followed by ``x[0] = 6``.\n",
        "The result, of course, is that ``x[0]`` contains the value 6.\n",
        "\n",
        "Fair enough, but consider this operation:"
      ]
    },
    {
      "cell_type": "code",
      "execution_count": null,
      "metadata": {
        "id": "pn2h2rDZYYja"
      },
      "outputs": [],
      "source": [
        "i = [2, 3, 3, 4, 4, 4]\n",
        "x[i] += 1\n",
        "x"
      ]
    },
    {
      "cell_type": "markdown",
      "metadata": {
        "id": "Y1aTeF6YYYja"
      },
      "source": [
        "You might expect that ``x[3]`` would contain the value 2, and ``x[4]`` would contain the value 3, as this is how many times each index is repeated. Why is this not the case?\n",
        "Conceptually, this is because ``x[i] += 1`` is meant as a shorthand of ``x[i] = x[i] + 1``. ``x[i] + 1`` is evaluated, and then the result is assigned to the indices in x.\n",
        "With this in mind, it is not the augmentation that happens multiple times, but the assignment, which leads to the rather nonintuitive results.\n",
        "\n",
        "So what if you want the other behavior where the operation is repeated? For this, you can use the ``at()`` method of ufuncs (available since NumPy 1.8), and do the following:"
      ]
    },
    {
      "cell_type": "code",
      "execution_count": null,
      "metadata": {
        "id": "wno506jwYYja"
      },
      "outputs": [],
      "source": [
        "x = np.zeros(10)\n",
        "np.add.at(x, i, 1)\n",
        "print(x)"
      ]
    },
    {
      "cell_type": "code",
      "execution_count": null,
      "metadata": {
        "id": "jLMXZz4okunb"
      },
      "outputs": [],
      "source": [
        "a = np.array([1, 2, 3, 4])\n",
        "np.add.at(a, [0, 1, 2, 2], 1)\n",
        "a"
      ]
    },
    {
      "cell_type": "markdown",
      "metadata": {
        "id": "P8dRn9p_YYjb"
      },
      "source": [
        "The ``at()`` method does an in-place application of the given operator at the specified indices (here, ``i``) with the specified value (here, 1).\n",
        "Another method that is similar in spirit is the ``reduceat()`` method of ufuncs, which you can read about in the NumPy documentation."
      ]
    },
    {
      "cell_type": "code",
      "execution_count": null,
      "metadata": {
        "id": "4qln8c5vkunc"
      },
      "outputs": [],
      "source": [
        "np.negative.at(a, [0, 1]) #Set items 0 and 1 to their negative values\n",
        "a"
      ]
    },
    {
      "cell_type": "markdown",
      "metadata": {
        "id": "mq185ivMYYjb"
      },
      "source": [
        "## Example: Binning Data\n",
        "\n",
        "You can use these ideas to efficiently bin data to create a histogram by hand.\n",
        "For example, imagine we have 1,000 values and would like to quickly find where they fall within an array of bins.\n",
        "We could compute it using ``ufunc.at`` like this:"
      ]
    },
    {
      "cell_type": "code",
      "execution_count": null,
      "metadata": {
        "id": "UGhKrMSnYYjb"
      },
      "outputs": [],
      "source": [
        "np.random.seed(42)\n",
        "x = np.random.randn(100)\n",
        "x"
      ]
    },
    {
      "cell_type": "code",
      "execution_count": null,
      "metadata": {
        "id": "B_ww4NV9kune"
      },
      "outputs": [],
      "source": [
        "# compute a histogram by hand\n",
        "bins = np.linspace(-5, 5, 20)\n",
        "print(bins)"
      ]
    },
    {
      "cell_type": "code",
      "execution_count": null,
      "metadata": {
        "id": "u6TcDWiWkunf"
      },
      "outputs": [],
      "source": [
        "# find the appropriate bin for each x\n",
        "i = np.searchsorted(bins, x)\n",
        "i"
      ]
    },
    {
      "cell_type": "code",
      "execution_count": null,
      "metadata": {
        "id": "OFF_qhEJkung"
      },
      "outputs": [],
      "source": [
        "# add 1 to each of these bins\n",
        "counts = np.zeros_like(bins)\n",
        "np.add.at(counts, i, 1)\n",
        "counts"
      ]
    },
    {
      "cell_type": "markdown",
      "metadata": {
        "id": "M6OiFjnYYYjc"
      },
      "source": [
        "The counts now reflect the number of points within each bin–in other words, a histogram:"
      ]
    },
    {
      "cell_type": "code",
      "execution_count": null,
      "metadata": {
        "id": "BRtW8cDRYYjc"
      },
      "outputs": [],
      "source": [
        "# plot the results\n",
        "plt.plot(bins, counts, linestyle='dashed');"
      ]
    },
    {
      "cell_type": "code",
      "execution_count": null,
      "metadata": {
        "id": "621vs-3-kuni"
      },
      "outputs": [],
      "source": [
        "plt.hist(x, bins, histtype='dashed');"
      ]
    },
    {
      "cell_type": "markdown",
      "metadata": {
        "id": "Kekb49w6YYjc"
      },
      "source": [
        "Of course, it would be silly to have to do this each time you want to plot a histogram.\n",
        "This is why Matplotlib provides the ``plt.hist()`` routine, which does the same in a single line:\n",
        "\n",
        "```python\n",
        "plt.hist(x, bins, histtype='step');\n",
        "```\n",
        "\n",
        "This function will create a nearly identical plot to the one seen here.\n",
        "To compute the binning, ``matplotlib`` uses the ``np.histogram`` function, which does a very similar computation to what we did before. Let's compare the two here:"
      ]
    },
    {
      "cell_type": "code",
      "execution_count": null,
      "metadata": {
        "id": "4kwOjYYoYYjc"
      },
      "outputs": [],
      "source": [
        "print(\"NumPy routine:\")\n",
        "%timeit counts, edges = np.histogram(x, bins)\n",
        "\n",
        "print(\"Custom routine:\")\n",
        "%timeit np.add.at(counts, np.searchsorted(bins, x), 1)"
      ]
    },
    {
      "cell_type": "markdown",
      "metadata": {
        "id": "8U0zIElAYYjd"
      },
      "source": [
        "Our own one-line algorithm is several times faster than the optimized algorithm in NumPy! How can this be?\n",
        "If you dig into the ``np.histogram`` source code (you can do this in IPython by typing ``np.histogram??``), you'll see that it's quite a bit more involved than the simple search-and-count that we've done; this is because NumPy's algorithm is more flexible, and particularly is designed for better performance when the number of data points becomes large:"
      ]
    },
    {
      "cell_type": "code",
      "execution_count": null,
      "metadata": {
        "id": "Hhb9gr5LYYjd"
      },
      "outputs": [],
      "source": [
        "x = np.random.randn(1000000)\n",
        "print(\"NumPy routine:\")\n",
        "%timeit counts, edges = np.histogram(x, bins)\n",
        "\n",
        "print(\"Custom routine:\")\n",
        "%timeit np.add.at(counts, np.searchsorted(bins, x), 1)"
      ]
    },
    {
      "cell_type": "markdown",
      "metadata": {
        "id": "qVrR3UhAYYjd"
      },
      "source": [
        "What this comparison shows is that algorithmic efficiency is almost never a simple question. An algorithm efficient for large datasets will not always be the best choice for small datasets, and vice versa (see [Big-O Notation](02.08-Sorting.ipynb#Aside:-Big-O-Notation)).\n",
        "But the advantage of coding this algorithm yourself is that with an understanding of these basic methods, you could use these building blocks to extend this to do some very interesting custom behaviors.\n",
        "The key to efficiently using Python in data-intensive applications is knowing about general convenience routines like ``np.histogram`` and when they're appropriate, but also knowing how to make use of lower-level functionality when you need more pointed behavior."
      ]
    }
  ],
  "metadata": {
    "anaconda-cloud": {},
    "colab": {
      "name": "02_07_Fancy_Indexing.ipynb",
      "provenance": [],
      "include_colab_link": true
    },
    "kernelspec": {
      "display_name": "Python 3 (ipykernel)",
      "language": "python",
      "name": "python3"
    },
    "language_info": {
      "codemirror_mode": {
        "name": "ipython",
        "version": 3
      },
      "file_extension": ".py",
      "mimetype": "text/x-python",
      "name": "python",
      "nbconvert_exporter": "python",
      "pygments_lexer": "ipython3",
      "version": "3.9.7"
    }
  },
  "nbformat": 4,
  "nbformat_minor": 0
}