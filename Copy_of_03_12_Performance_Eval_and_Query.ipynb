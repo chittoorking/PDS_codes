{
  "cells": [
    {
      "cell_type": "markdown",
      "metadata": {
        "id": "view-in-github",
        "colab_type": "text"
      },
      "source": [
        "<a href=\"https://colab.research.google.com/github/chittoorking/PDS_codes/blob/main/Copy_of_03_12_Performance_Eval_and_Query.ipynb\" target=\"_parent\"><img src=\"https://colab.research.google.com/assets/colab-badge.svg\" alt=\"Open In Colab\"/></a>"
      ]
    },
    {
      "cell_type": "markdown",
      "metadata": {
        "id": "M9RN2SOYELFm"
      },
      "source": [
        "# High-Performance Pandas: eval() and query()"
      ]
    },
    {
      "cell_type": "markdown",
      "metadata": {
        "id": "JbfZXbkEELFm"
      },
      "source": [
        "While Numpy and Pandas abstractions are efficient and effective for many common use cases, they often rely on the creation of temporary intermediate objects, which can cause undue overhead in computational time and memory use.\n",
        "\n",
        "As of version 0.13 (released January 2014), Pandas includes some experimental tools that allow you to directly access C-speed operations without costly allocation of intermediate arrays.\n",
        "These are the ``eval()`` and ``query()`` functions, which rely on the [Numexpr](https://github.com/pydata/numexpr) package.\n",
        "In this notebook we will walk through their use and give some rules-of-thumb about when you might think about using them."
      ]
    },
    {
      "cell_type": "markdown",
      "metadata": {
        "id": "vX1NblsWELFn"
      },
      "source": [
        "## Motivating ``query()`` and ``eval()``: Compound Expressions\n",
        "\n",
        "We've seen previously that NumPy and Pandas support fast vectorized operations; for example, when adding the elements of two arrays:"
      ]
    },
    {
      "cell_type": "code",
      "execution_count": null,
      "metadata": {
        "id": "HP5xdePkELFn",
        "outputId": "5c3423a6-1096-4689-c88b-09f54d9cc3ea"
      },
      "outputs": [
        {
          "name": "stdout",
          "output_type": "stream",
          "text": [
            "100 loops, best of 3: 3.39 ms per loop\n"
          ]
        }
      ],
      "source": [
        "import numpy as np\n",
        "rng = np.random.RandomState(42)\n",
        "x = rng.rand(1000000)\n",
        "y = rng.rand(1000000)\n",
        "%timeit x + y"
      ]
    },
    {
      "cell_type": "markdown",
      "metadata": {
        "id": "pLEf3wwpELFp"
      },
      "source": [
        "As discussed in `[Computation on NumPy Arrays: Universal Functions]`, this is much faster than doing the addition via a Python loop or comprehension:"
      ]
    },
    {
      "cell_type": "code",
      "execution_count": null,
      "metadata": {
        "id": "-u2mVbFyELFp",
        "outputId": "db84f50d-cda7-4eda-9c6d-7b660aeaf884"
      },
      "outputs": [
        {
          "name": "stdout",
          "output_type": "stream",
          "text": [
            "1 loop, best of 3: 266 ms per loop\n"
          ]
        }
      ],
      "source": [
        "%timeit np.fromiter((xi + yi for xi, yi in zip(x, y)), dtype=x.dtype, count=len(x))"
      ]
    },
    {
      "cell_type": "markdown",
      "metadata": {
        "id": "N3DxXRoLELFq"
      },
      "source": [
        "But this abstraction can become less efficient when computing compound expressions.\n",
        "For example, consider the following expression:"
      ]
    },
    {
      "cell_type": "code",
      "execution_count": null,
      "metadata": {
        "id": "GMe6Ru5mELFq",
        "outputId": "cd7950e9-22ff-46a5-8550-9280d837962e"
      },
      "outputs": [
        {
          "ename": "NameError",
          "evalue": "name 'x' is not defined",
          "output_type": "error",
          "traceback": [
            "\u001b[0;31m---------------------------------------------------------------------------\u001b[0m",
            "\u001b[0;31mNameError\u001b[0m                                 Traceback (most recent call last)",
            "\u001b[0;32m/var/folders/93/xfc0v8hd5dgdxb83wcj0199h0000gn/T/ipykernel_75523/4206196334.py\u001b[0m in \u001b[0;36m<module>\u001b[0;34m\u001b[0m\n\u001b[1;32m      1\u001b[0m \u001b[0;32mimport\u001b[0m \u001b[0mnumpy\u001b[0m \u001b[0;32mas\u001b[0m \u001b[0mnp\u001b[0m\u001b[0;34m\u001b[0m\u001b[0;34m\u001b[0m\u001b[0m\n\u001b[0;32m----> 2\u001b[0;31m \u001b[0mmask\u001b[0m \u001b[0;34m=\u001b[0m \u001b[0;34m(\u001b[0m\u001b[0mx\u001b[0m \u001b[0;34m>\u001b[0m \u001b[0;36m0.5\u001b[0m\u001b[0;34m)\u001b[0m \u001b[0;34m&\u001b[0m \u001b[0;34m(\u001b[0m\u001b[0my\u001b[0m \u001b[0;34m<\u001b[0m \u001b[0;36m0.5\u001b[0m\u001b[0;34m)\u001b[0m\u001b[0;34m\u001b[0m\u001b[0;34m\u001b[0m\u001b[0m\n\u001b[0m",
            "\u001b[0;31mNameError\u001b[0m: name 'x' is not defined"
          ]
        }
      ],
      "source": [
        "import numpy as np\n",
        "mask = (x > 0.5) & (y < 0.5)"
      ]
    },
    {
      "cell_type": "markdown",
      "metadata": {
        "id": "E0-aUk3xELFq"
      },
      "source": [
        "Because NumPy evaluates each subexpression, this is roughly equivalent to the following:"
      ]
    },
    {
      "cell_type": "code",
      "execution_count": null,
      "metadata": {
        "collapsed": true,
        "id": "D876qPsXELFq"
      },
      "outputs": [],
      "source": [
        "tmp1 = (x > 0.5)\n",
        "tmp2 = (y < 0.5)\n",
        "mask = tmp1 & tmp2"
      ]
    },
    {
      "cell_type": "markdown",
      "metadata": {
        "id": "tx37PkdKELFr"
      },
      "source": [
        "In other words, *every intermediate step is explicitly allocated in memory*. If the ``x`` and ``y`` arrays are very large, this can lead to significant memory and computational overhead.\n",
        "The Numexpr library gives you the ability to compute this type of compound expression element by element, without the need to allocate full intermediate arrays.\n",
        "The [Numexpr documentation](https://github.com/pydata/numexpr) has more details, but for the time being it is sufficient to say that the library accepts a *string* giving the NumPy-style expression you'd like to compute:"
      ]
    },
    {
      "cell_type": "code",
      "execution_count": null,
      "metadata": {
        "id": "zP03OsbZELFr",
        "outputId": "5cdd69f8-75cd-4994-f6a1-38196bbce6fe"
      },
      "outputs": [
        {
          "data": {
            "text/plain": [
              "True"
            ]
          },
          "execution_count": 5,
          "metadata": {},
          "output_type": "execute_result"
        }
      ],
      "source": [
        "import numexpr\n",
        "mask_numexpr = numexpr.evaluate('(x > 0.5) & (y < 0.5)')\n",
        "np.allclose(mask, mask_numexpr)"
      ]
    },
    {
      "cell_type": "markdown",
      "metadata": {
        "id": "U6mpWa8JELFs"
      },
      "source": [
        "The benefit here is that Numexpr evaluates the expression in a way that does not use full-sized temporary arrays, and thus can be much more efficient than NumPy, especially for large arrays.\n",
        "The Pandas ``eval()`` and ``query()`` tools that we will discuss here are conceptually similar, and depend on the Numexpr package."
      ]
    },
    {
      "cell_type": "markdown",
      "metadata": {
        "id": "L0e3qFPHELFs"
      },
      "source": [
        "## ``pandas.eval()`` for Efficient Operations\n",
        "\n",
        "The ``eval()`` function in Pandas uses string expressions to efficiently compute operations using ``DataFrame``s.\n",
        "For example, consider the following ``DataFrame``s:"
      ]
    },
    {
      "cell_type": "code",
      "execution_count": null,
      "metadata": {
        "id": "S3ltkz_dELFt"
      },
      "outputs": [],
      "source": [
        "import pandas as pd\n",
        "nrows, ncols = 100000, 100\n",
        "rng = np.random.RandomState(42)\n",
        "df1, df2, df3, df4 = (pd.DataFrame(rng.rand(nrows, ncols))\n",
        "                      for i in range(4))"
      ]
    },
    {
      "cell_type": "markdown",
      "metadata": {
        "id": "ZiSBHgdJELFt"
      },
      "source": [
        "To compute the sum of all four ``DataFrame``s using the typical Pandas approach, we can just write the sum:"
      ]
    },
    {
      "cell_type": "code",
      "execution_count": null,
      "metadata": {
        "id": "SSYRA4z4ELFt",
        "outputId": "d534b306-64fd-46bc-cf70-eb5617629e66"
      },
      "outputs": [
        {
          "name": "stdout",
          "output_type": "stream",
          "text": [
            "10 loops, best of 3: 87.1 ms per loop\n"
          ]
        }
      ],
      "source": [
        "%timeit df1 + df2 + df3 + df4"
      ]
    },
    {
      "cell_type": "markdown",
      "metadata": {
        "id": "GX22q4tZELFu"
      },
      "source": [
        "The same result can be computed via ``pd.eval`` by constructing the expression as a string:"
      ]
    },
    {
      "cell_type": "code",
      "execution_count": null,
      "metadata": {
        "id": "a9JVhNTnELFu",
        "outputId": "8e71a924-5672-4bed-c806-46499a7c0716"
      },
      "outputs": [
        {
          "name": "stdout",
          "output_type": "stream",
          "text": [
            "10 loops, best of 3: 42.2 ms per loop\n"
          ]
        }
      ],
      "source": [
        "%timeit pd.eval('df1 + df2 + df3 + df4')"
      ]
    },
    {
      "cell_type": "markdown",
      "metadata": {
        "id": "0HftjydGELFu"
      },
      "source": [
        "The ``eval()`` version of this expression is about 50% faster (and uses much less memory), while giving the same result:"
      ]
    },
    {
      "cell_type": "code",
      "execution_count": null,
      "metadata": {
        "id": "lZtPW7OyELFu",
        "outputId": "e563fbc0-f99f-4685-c726-81bb6bc514ff"
      },
      "outputs": [
        {
          "data": {
            "text/plain": [
              "True"
            ]
          },
          "execution_count": 9,
          "metadata": {},
          "output_type": "execute_result"
        }
      ],
      "source": [
        "np.allclose(df1 + df2 + df3 + df4,\n",
        "            pd.eval('df1 + df2 + df3 + df4'))"
      ]
    },
    {
      "cell_type": "markdown",
      "metadata": {
        "id": "eSILLJisELFv"
      },
      "source": [
        "### Operations supported by ``pd.eval()``\n",
        "\n",
        "As of Pandas v0.16, ``pd.eval()`` supports a wide range of operations.\n",
        "To demonstrate these, we'll use the following integer ``DataFrame``s:"
      ]
    },
    {
      "cell_type": "code",
      "execution_count": null,
      "metadata": {
        "collapsed": true,
        "id": "3q62md6XELFv"
      },
      "outputs": [],
      "source": [
        "df1, df2, df3, df4, df5 = (pd.DataFrame(rng.randint(0, 1000, (100, 3)))\n",
        "                           for i in range(5))"
      ]
    },
    {
      "cell_type": "markdown",
      "metadata": {
        "id": "Qnzh-20XELFv"
      },
      "source": [
        "#### Arithmetic operators\n",
        "``pd.eval()`` supports all arithmetic operators. For example:"
      ]
    },
    {
      "cell_type": "code",
      "execution_count": null,
      "metadata": {
        "id": "p_27e566ELFv",
        "outputId": "f1e11ed5-3058-448a-e124-dee99761e57a"
      },
      "outputs": [
        {
          "data": {
            "text/plain": [
              "True"
            ]
          },
          "execution_count": 11,
          "metadata": {},
          "output_type": "execute_result"
        }
      ],
      "source": [
        "result1 = -df1 * df2 / (df3 + df4) - df5\n",
        "result2 = pd.eval('-df1 * df2 / (df3 + df4) - df5')\n",
        "np.allclose(result1, result2)"
      ]
    },
    {
      "cell_type": "markdown",
      "metadata": {
        "id": "IBfsCtdkELFw"
      },
      "source": [
        "#### Comparison operators\n",
        "``pd.eval()`` supports all comparison operators, including chained expressions:"
      ]
    },
    {
      "cell_type": "code",
      "execution_count": null,
      "metadata": {
        "id": "r2Sgs6C7ELFw",
        "outputId": "88e94afa-5264-4a63-d983-d7a4f6c2e980"
      },
      "outputs": [
        {
          "data": {
            "text/plain": [
              "True"
            ]
          },
          "execution_count": 12,
          "metadata": {},
          "output_type": "execute_result"
        }
      ],
      "source": [
        "result1 = (df1 < df2) & (df2 <= df3) & (df3 != df4)\n",
        "result2 = pd.eval('df1 < df2 <= df3 != df4')\n",
        "np.allclose(result1, result2)"
      ]
    },
    {
      "cell_type": "markdown",
      "metadata": {
        "id": "rFARN2tUELFw"
      },
      "source": [
        "#### Bitwise operators\n",
        "``pd.eval()`` supports the ``&`` and ``|`` bitwise operators:"
      ]
    },
    {
      "cell_type": "code",
      "execution_count": null,
      "metadata": {
        "id": "tAgiadtfELFx",
        "outputId": "b52bf27f-9906-4104-81c4-4f4ad8f9ba07"
      },
      "outputs": [
        {
          "data": {
            "text/plain": [
              "True"
            ]
          },
          "execution_count": 13,
          "metadata": {},
          "output_type": "execute_result"
        }
      ],
      "source": [
        "result1 = (df1 < 0.5) & (df2 < 0.5) | (df3 < df4)\n",
        "result2 = pd.eval('(df1 < 0.5) & (df2 < 0.5) | (df3 < df4)')\n",
        "np.allclose(result1, result2)"
      ]
    },
    {
      "cell_type": "markdown",
      "metadata": {
        "id": "V1InvhnWELFx"
      },
      "source": [
        "In addition, it supports the use of the literal ``and`` and ``or`` in Boolean expressions:"
      ]
    },
    {
      "cell_type": "code",
      "execution_count": null,
      "metadata": {
        "id": "-0X-HJn9ELFz",
        "outputId": "acd71b24-88da-4015-806a-264d931d3212"
      },
      "outputs": [
        {
          "data": {
            "text/plain": [
              "True"
            ]
          },
          "execution_count": 14,
          "metadata": {},
          "output_type": "execute_result"
        }
      ],
      "source": [
        "result3 = pd.eval('(df1 < 0.5) and (df2 < 0.5) or (df3 < df4)')\n",
        "np.allclose(result1, result3)"
      ]
    },
    {
      "cell_type": "markdown",
      "metadata": {
        "id": "03sxQKjnELF1"
      },
      "source": [
        "#### Object attributes and indices\n",
        "\n",
        "``pd.eval()`` supports access to object attributes via the ``obj.attr`` syntax, and indexes via the ``obj[index]`` syntax:"
      ]
    },
    {
      "cell_type": "code",
      "execution_count": null,
      "metadata": {
        "id": "TuV5yiiYELF3",
        "outputId": "c10f197c-451f-4da5-d98e-5ba7153bb5dc"
      },
      "outputs": [
        {
          "data": {
            "text/plain": [
              "True"
            ]
          },
          "execution_count": 15,
          "metadata": {},
          "output_type": "execute_result"
        }
      ],
      "source": [
        "result1 = df2.T[0] + df3.iloc[1]\n",
        "result2 = pd.eval('df2.T[0] + df3.iloc[1]')\n",
        "np.allclose(result1, result2)"
      ]
    },
    {
      "cell_type": "markdown",
      "metadata": {
        "id": "nwn3a3vMELF4"
      },
      "source": [
        "#### Other operations\n",
        "Other operations such as function calls, conditional statements, loops, and other more involved constructs are currently *not* implemented in ``pd.eval()``.\n",
        "If you'd like to execute these more complicated types of expressions, you can use the Numexpr library itself."
      ]
    },
    {
      "cell_type": "markdown",
      "metadata": {
        "id": "Wo3RCZQcELF5"
      },
      "source": [
        "## ``DataFrame.eval()`` for Column-Wise Operations\n",
        "\n",
        "Just as Pandas has a top-level ``pd.eval()`` function, ``DataFrame``s have an ``eval()`` method that works in similar ways.\n",
        "The benefit of the ``eval()`` method is that columns can be referred to *by name*.\n",
        "We'll use this labeled array as an example:"
      ]
    },
    {
      "cell_type": "code",
      "execution_count": null,
      "metadata": {
        "id": "LFlX0DV-ELF6",
        "outputId": "49a6f921-e55f-45fb-f40e-dd53cf05c638"
      },
      "outputs": [
        {
          "data": {
            "text/html": [
              "<div>\n",
              "<style scoped>\n",
              "    .dataframe tbody tr th:only-of-type {\n",
              "        vertical-align: middle;\n",
              "    }\n",
              "\n",
              "    .dataframe tbody tr th {\n",
              "        vertical-align: top;\n",
              "    }\n",
              "\n",
              "    .dataframe thead th {\n",
              "        text-align: right;\n",
              "    }\n",
              "</style>\n",
              "<table border=\"1\" class=\"dataframe\">\n",
              "  <thead>\n",
              "    <tr style=\"text-align: right;\">\n",
              "      <th></th>\n",
              "      <th>A</th>\n",
              "      <th>B</th>\n",
              "      <th>C</th>\n",
              "    </tr>\n",
              "  </thead>\n",
              "  <tbody>\n",
              "    <tr>\n",
              "      <th>0</th>\n",
              "      <td>0.374540</td>\n",
              "      <td>0.950714</td>\n",
              "      <td>0.731994</td>\n",
              "    </tr>\n",
              "    <tr>\n",
              "      <th>1</th>\n",
              "      <td>0.598658</td>\n",
              "      <td>0.156019</td>\n",
              "      <td>0.155995</td>\n",
              "    </tr>\n",
              "    <tr>\n",
              "      <th>2</th>\n",
              "      <td>0.058084</td>\n",
              "      <td>0.866176</td>\n",
              "      <td>0.601115</td>\n",
              "    </tr>\n",
              "    <tr>\n",
              "      <th>3</th>\n",
              "      <td>0.708073</td>\n",
              "      <td>0.020584</td>\n",
              "      <td>0.969910</td>\n",
              "    </tr>\n",
              "    <tr>\n",
              "      <th>4</th>\n",
              "      <td>0.832443</td>\n",
              "      <td>0.212339</td>\n",
              "      <td>0.181825</td>\n",
              "    </tr>\n",
              "  </tbody>\n",
              "</table>\n",
              "</div>"
            ],
            "text/plain": [
              "          A         B         C\n",
              "0  0.374540  0.950714  0.731994\n",
              "1  0.598658  0.156019  0.155995\n",
              "2  0.058084  0.866176  0.601115\n",
              "3  0.708073  0.020584  0.969910\n",
              "4  0.832443  0.212339  0.181825"
            ]
          },
          "execution_count": 6,
          "metadata": {},
          "output_type": "execute_result"
        }
      ],
      "source": [
        "import pandas as pd\n",
        "import numpy as np\n",
        "rng = np.random.RandomState(42)\n",
        "\n",
        "df = pd.DataFrame(rng.rand(1000, 3), columns=['A', 'B', 'C'])\n",
        "df.head()"
      ]
    },
    {
      "cell_type": "markdown",
      "metadata": {
        "id": "dZuGQAtoELF6"
      },
      "source": [
        "Using ``pd.eval()`` as above, we can compute expressions with the three columns like this:"
      ]
    },
    {
      "cell_type": "code",
      "execution_count": null,
      "metadata": {
        "id": "dHAoqmVXELF6",
        "outputId": "1b330e0c-0fab-4717-bf39-a4567ec6857b"
      },
      "outputs": [
        {
          "data": {
            "text/plain": [
              "True"
            ]
          },
          "execution_count": 7,
          "metadata": {},
          "output_type": "execute_result"
        }
      ],
      "source": [
        "result1 = (df['A'] + df['B']) / (df['C'] - 1)\n",
        "result2 = pd.eval(\"(df.A + df.B) / (df.C - 1)\")\n",
        "np.allclose(result1, result2)"
      ]
    },
    {
      "cell_type": "markdown",
      "metadata": {
        "id": "JcYHnDvfELF6"
      },
      "source": [
        "The ``DataFrame.eval()`` method allows much more succinct evaluation of expressions with the columns:"
      ]
    },
    {
      "cell_type": "code",
      "execution_count": null,
      "metadata": {
        "id": "muzwmj_PELF7",
        "outputId": "9c795e40-9a89-4de1-b963-3e8f208308f8"
      },
      "outputs": [
        {
          "data": {
            "text/plain": [
              "True"
            ]
          },
          "execution_count": 8,
          "metadata": {},
          "output_type": "execute_result"
        }
      ],
      "source": [
        "result3 = df.eval('(A + B) / (C - 1)')\n",
        "np.allclose(result1, result3)"
      ]
    },
    {
      "cell_type": "markdown",
      "metadata": {
        "id": "7FbwF2pgELF7"
      },
      "source": [
        "Notice here that we treat *column names as variables* within the evaluated expression, and the result is what we would wish."
      ]
    },
    {
      "cell_type": "markdown",
      "metadata": {
        "id": "z6l2Na5mELF8"
      },
      "source": [
        "### Assignment in DataFrame.eval()\n",
        "\n",
        "In addition to the options just discussed, ``DataFrame.eval()``  also allows assignment to any column.\n",
        "Let's use the ``DataFrame`` from before, which has columns ``'A'``, ``'B'``, and ``'C'``:"
      ]
    },
    {
      "cell_type": "code",
      "execution_count": null,
      "metadata": {
        "id": "vjs2eb33ELF8",
        "outputId": "37984f51-e38c-408c-c532-4d4ba89afe98"
      },
      "outputs": [
        {
          "data": {
            "text/html": [
              "<div>\n",
              "<style scoped>\n",
              "    .dataframe tbody tr th:only-of-type {\n",
              "        vertical-align: middle;\n",
              "    }\n",
              "\n",
              "    .dataframe tbody tr th {\n",
              "        vertical-align: top;\n",
              "    }\n",
              "\n",
              "    .dataframe thead th {\n",
              "        text-align: right;\n",
              "    }\n",
              "</style>\n",
              "<table border=\"1\" class=\"dataframe\">\n",
              "  <thead>\n",
              "    <tr style=\"text-align: right;\">\n",
              "      <th></th>\n",
              "      <th>A</th>\n",
              "      <th>B</th>\n",
              "      <th>C</th>\n",
              "    </tr>\n",
              "  </thead>\n",
              "  <tbody>\n",
              "    <tr>\n",
              "      <th>0</th>\n",
              "      <td>0.374540</td>\n",
              "      <td>0.950714</td>\n",
              "      <td>0.731994</td>\n",
              "    </tr>\n",
              "    <tr>\n",
              "      <th>1</th>\n",
              "      <td>0.598658</td>\n",
              "      <td>0.156019</td>\n",
              "      <td>0.155995</td>\n",
              "    </tr>\n",
              "    <tr>\n",
              "      <th>2</th>\n",
              "      <td>0.058084</td>\n",
              "      <td>0.866176</td>\n",
              "      <td>0.601115</td>\n",
              "    </tr>\n",
              "    <tr>\n",
              "      <th>3</th>\n",
              "      <td>0.708073</td>\n",
              "      <td>0.020584</td>\n",
              "      <td>0.969910</td>\n",
              "    </tr>\n",
              "    <tr>\n",
              "      <th>4</th>\n",
              "      <td>0.832443</td>\n",
              "      <td>0.212339</td>\n",
              "      <td>0.181825</td>\n",
              "    </tr>\n",
              "  </tbody>\n",
              "</table>\n",
              "</div>"
            ],
            "text/plain": [
              "          A         B         C\n",
              "0  0.374540  0.950714  0.731994\n",
              "1  0.598658  0.156019  0.155995\n",
              "2  0.058084  0.866176  0.601115\n",
              "3  0.708073  0.020584  0.969910\n",
              "4  0.832443  0.212339  0.181825"
            ]
          },
          "execution_count": 9,
          "metadata": {},
          "output_type": "execute_result"
        }
      ],
      "source": [
        "df.head()"
      ]
    },
    {
      "cell_type": "markdown",
      "metadata": {
        "id": "mH8WVc6zELF8"
      },
      "source": [
        "We can use ``df.eval()`` to create a new column ``'D'`` and assign to it a value computed from the other columns:"
      ]
    },
    {
      "cell_type": "code",
      "execution_count": null,
      "metadata": {
        "id": "wdYWF4FbELF8",
        "outputId": "763d83f7-4400-445c-d548-09bbb50400ea"
      },
      "outputs": [
        {
          "data": {
            "text/html": [
              "<div>\n",
              "<table border=\"1\" class=\"dataframe\">\n",
              "  <thead>\n",
              "    <tr style=\"text-align: right;\">\n",
              "      <th></th>\n",
              "      <th>A</th>\n",
              "      <th>B</th>\n",
              "      <th>C</th>\n",
              "      <th>D</th>\n",
              "    </tr>\n",
              "  </thead>\n",
              "  <tbody>\n",
              "    <tr>\n",
              "      <th>0</th>\n",
              "      <td>0.375506</td>\n",
              "      <td>0.406939</td>\n",
              "      <td>0.069938</td>\n",
              "      <td>11.187620</td>\n",
              "    </tr>\n",
              "    <tr>\n",
              "      <th>1</th>\n",
              "      <td>0.069087</td>\n",
              "      <td>0.235615</td>\n",
              "      <td>0.154374</td>\n",
              "      <td>1.973796</td>\n",
              "    </tr>\n",
              "    <tr>\n",
              "      <th>2</th>\n",
              "      <td>0.677945</td>\n",
              "      <td>0.433839</td>\n",
              "      <td>0.652324</td>\n",
              "      <td>1.704344</td>\n",
              "    </tr>\n",
              "    <tr>\n",
              "      <th>3</th>\n",
              "      <td>0.264038</td>\n",
              "      <td>0.808055</td>\n",
              "      <td>0.347197</td>\n",
              "      <td>3.087857</td>\n",
              "    </tr>\n",
              "    <tr>\n",
              "      <th>4</th>\n",
              "      <td>0.589161</td>\n",
              "      <td>0.252418</td>\n",
              "      <td>0.557789</td>\n",
              "      <td>1.508776</td>\n",
              "    </tr>\n",
              "  </tbody>\n",
              "</table>\n",
              "</div>"
            ],
            "text/plain": [
              "          A         B         C          D\n",
              "0  0.375506  0.406939  0.069938  11.187620\n",
              "1  0.069087  0.235615  0.154374   1.973796\n",
              "2  0.677945  0.433839  0.652324   1.704344\n",
              "3  0.264038  0.808055  0.347197   3.087857\n",
              "4  0.589161  0.252418  0.557789   1.508776"
            ]
          },
          "execution_count": 20,
          "metadata": {},
          "output_type": "execute_result"
        }
      ],
      "source": [
        "df.eval('D = (A + B) / C', inplace=True)\n",
        "df.head()"
      ]
    },
    {
      "cell_type": "markdown",
      "metadata": {
        "id": "r1BRk-g_ELF8"
      },
      "source": [
        "In the same way, any existing column can be modified:"
      ]
    },
    {
      "cell_type": "code",
      "execution_count": null,
      "metadata": {
        "id": "Q0L0nuweELF9",
        "outputId": "db42ffbb-818b-4852-8bdb-69c18c0d83f7"
      },
      "outputs": [
        {
          "data": {
            "text/html": [
              "<div>\n",
              "<style scoped>\n",
              "    .dataframe tbody tr th:only-of-type {\n",
              "        vertical-align: middle;\n",
              "    }\n",
              "\n",
              "    .dataframe tbody tr th {\n",
              "        vertical-align: top;\n",
              "    }\n",
              "\n",
              "    .dataframe thead th {\n",
              "        text-align: right;\n",
              "    }\n",
              "</style>\n",
              "<table border=\"1\" class=\"dataframe\">\n",
              "  <thead>\n",
              "    <tr style=\"text-align: right;\">\n",
              "      <th></th>\n",
              "      <th>A</th>\n",
              "      <th>B</th>\n",
              "      <th>C</th>\n",
              "      <th>D</th>\n",
              "    </tr>\n",
              "  </thead>\n",
              "  <tbody>\n",
              "    <tr>\n",
              "      <th>0</th>\n",
              "      <td>0.374540</td>\n",
              "      <td>0.950714</td>\n",
              "      <td>0.731994</td>\n",
              "      <td>-0.787130</td>\n",
              "    </tr>\n",
              "    <tr>\n",
              "      <th>1</th>\n",
              "      <td>0.598658</td>\n",
              "      <td>0.156019</td>\n",
              "      <td>0.155995</td>\n",
              "      <td>2.837535</td>\n",
              "    </tr>\n",
              "    <tr>\n",
              "      <th>2</th>\n",
              "      <td>0.058084</td>\n",
              "      <td>0.866176</td>\n",
              "      <td>0.601115</td>\n",
              "      <td>-1.344323</td>\n",
              "    </tr>\n",
              "    <tr>\n",
              "      <th>3</th>\n",
              "      <td>0.708073</td>\n",
              "      <td>0.020584</td>\n",
              "      <td>0.969910</td>\n",
              "      <td>0.708816</td>\n",
              "    </tr>\n",
              "    <tr>\n",
              "      <th>4</th>\n",
              "      <td>0.832443</td>\n",
              "      <td>0.212339</td>\n",
              "      <td>0.181825</td>\n",
              "      <td>3.410442</td>\n",
              "    </tr>\n",
              "  </tbody>\n",
              "</table>\n",
              "</div>"
            ],
            "text/plain": [
              "          A         B         C         D\n",
              "0  0.374540  0.950714  0.731994 -0.787130\n",
              "1  0.598658  0.156019  0.155995  2.837535\n",
              "2  0.058084  0.866176  0.601115 -1.344323\n",
              "3  0.708073  0.020584  0.969910  0.708816\n",
              "4  0.832443  0.212339  0.181825  3.410442"
            ]
          },
          "execution_count": 10,
          "metadata": {},
          "output_type": "execute_result"
        }
      ],
      "source": [
        "df.eval('D = (A - B) / C', inplace=True)\n",
        "df.head()"
      ]
    },
    {
      "cell_type": "code",
      "execution_count": null,
      "metadata": {
        "id": "Awg-3OmAxRbI",
        "outputId": "ab53cbdc-263f-47bc-a5d1-be40ad3d2e73"
      },
      "outputs": [
        {
          "data": {
            "text/html": [
              "<div>\n",
              "<style scoped>\n",
              "    .dataframe tbody tr th:only-of-type {\n",
              "        vertical-align: middle;\n",
              "    }\n",
              "\n",
              "    .dataframe tbody tr th {\n",
              "        vertical-align: top;\n",
              "    }\n",
              "\n",
              "    .dataframe thead th {\n",
              "        text-align: right;\n",
              "    }\n",
              "</style>\n",
              "<table border=\"1\" class=\"dataframe\">\n",
              "  <thead>\n",
              "    <tr style=\"text-align: right;\">\n",
              "      <th></th>\n",
              "      <th>A</th>\n",
              "      <th>B</th>\n",
              "      <th>C</th>\n",
              "      <th>D</th>\n",
              "    </tr>\n",
              "  </thead>\n",
              "  <tbody>\n",
              "    <tr>\n",
              "      <th>0</th>\n",
              "      <td>0.695917</td>\n",
              "      <td>0.950714</td>\n",
              "      <td>0.731994</td>\n",
              "      <td>-0.787130</td>\n",
              "    </tr>\n",
              "    <tr>\n",
              "      <th>1</th>\n",
              "      <td>0.024338</td>\n",
              "      <td>0.156019</td>\n",
              "      <td>0.155995</td>\n",
              "      <td>2.837535</td>\n",
              "    </tr>\n",
              "    <tr>\n",
              "      <th>2</th>\n",
              "      <td>0.520671</td>\n",
              "      <td>0.866176</td>\n",
              "      <td>0.601115</td>\n",
              "      <td>-1.344323</td>\n",
              "    </tr>\n",
              "    <tr>\n",
              "      <th>3</th>\n",
              "      <td>0.019965</td>\n",
              "      <td>0.020584</td>\n",
              "      <td>0.969910</td>\n",
              "      <td>0.708816</td>\n",
              "    </tr>\n",
              "    <tr>\n",
              "      <th>4</th>\n",
              "      <td>0.038609</td>\n",
              "      <td>0.212339</td>\n",
              "      <td>0.181825</td>\n",
              "      <td>3.410442</td>\n",
              "    </tr>\n",
              "    <tr>\n",
              "      <th>5</th>\n",
              "      <td>0.159653</td>\n",
              "      <td>0.304242</td>\n",
              "      <td>0.524756</td>\n",
              "      <td>-0.230274</td>\n",
              "    </tr>\n",
              "    <tr>\n",
              "      <th>6</th>\n",
              "      <td>0.178189</td>\n",
              "      <td>0.291229</td>\n",
              "      <td>0.611853</td>\n",
              "      <td>0.229983</td>\n",
              "    </tr>\n",
              "    <tr>\n",
              "      <th>7</th>\n",
              "      <td>0.107031</td>\n",
              "      <td>0.292145</td>\n",
              "      <td>0.366362</td>\n",
              "      <td>-0.416667</td>\n",
              "    </tr>\n",
              "    <tr>\n",
              "      <th>8</th>\n",
              "      <td>0.156779</td>\n",
              "      <td>0.785176</td>\n",
              "      <td>0.199674</td>\n",
              "      <td>-1.648218</td>\n",
              "    </tr>\n",
              "    <tr>\n",
              "      <th>9</th>\n",
              "      <td>0.027518</td>\n",
              "      <td>0.592415</td>\n",
              "      <td>0.046450</td>\n",
              "      <td>-1.683088</td>\n",
              "    </tr>\n",
              "  </tbody>\n",
              "</table>\n",
              "</div>"
            ],
            "text/plain": [
              "          A         B         C         D\n",
              "0  0.695917  0.950714  0.731994 -0.787130\n",
              "1  0.024338  0.156019  0.155995  2.837535\n",
              "2  0.520671  0.866176  0.601115 -1.344323\n",
              "3  0.019965  0.020584  0.969910  0.708816\n",
              "4  0.038609  0.212339  0.181825  3.410442\n",
              "5  0.159653  0.304242  0.524756 -0.230274\n",
              "6  0.178189  0.291229  0.611853  0.229983\n",
              "7  0.107031  0.292145  0.366362 -0.416667\n",
              "8  0.156779  0.785176  0.199674 -1.648218\n",
              "9  0.027518  0.592415  0.046450 -1.683088"
            ]
          },
          "execution_count": 11,
          "metadata": {},
          "output_type": "execute_result"
        }
      ],
      "source": [
        "df.eval('A = B*C', inplace = True)\n",
        "df.head(10)"
      ]
    },
    {
      "cell_type": "code",
      "execution_count": null,
      "metadata": {
        "id": "7jKSeNgyxRbJ",
        "outputId": "b2b51ac4-c7ba-451e-eb31-9414b89ed23f"
      },
      "outputs": [
        {
          "data": {
            "text/plain": [
              "0      0.397874\n",
              "1      0.793471\n",
              "2      0.160910\n",
              "3      0.429819\n",
              "4      0.960804\n",
              "         ...   \n",
              "995    0.598972\n",
              "996    0.098042\n",
              "997    0.448013\n",
              "998   -0.876429\n",
              "999    0.359216\n",
              "Length: 1000, dtype: float64"
            ]
          },
          "execution_count": 14,
          "metadata": {},
          "output_type": "execute_result"
        }
      ],
      "source": [
        "column_mean = df.mean(1)\n",
        "column_mean"
      ]
    },
    {
      "cell_type": "markdown",
      "metadata": {
        "id": "dUKbJt00ELF9"
      },
      "source": [
        "### Local variables in DataFrame.eval()\n",
        "\n",
        "The ``DataFrame.eval()`` method supports an additional syntax that lets it work with local Python variables.\n",
        "Consider the following:"
      ]
    },
    {
      "cell_type": "code",
      "execution_count": null,
      "metadata": {
        "id": "iH67Ff4HELF9",
        "outputId": "1a1c3426-1719-417e-eff1-8030573eb922"
      },
      "outputs": [
        {
          "data": {
            "text/plain": [
              "True"
            ]
          },
          "execution_count": 22,
          "metadata": {},
          "output_type": "execute_result"
        }
      ],
      "source": [
        "column_mean = df.mean(1)\n",
        "result1 = df['A'] + column_mean\n",
        "result2 = df.eval('A + @column_mean')\n",
        "np.allclose(result1, result2)"
      ]
    },
    {
      "cell_type": "markdown",
      "metadata": {
        "id": "o4A7bT4WELF9"
      },
      "source": [
        "The ``@`` character here marks a *variable name* rather than a *column name*, and lets you efficiently evaluate expressions involving the two \"namespaces\": the namespace of columns, and the namespace of Python objects.\n",
        "Notice that this ``@`` character is only supported by the ``DataFrame.eval()`` *method*, not by the ``pandas.eval()`` *function*, because the ``pandas.eval()`` function only has access to the one (Python) namespace."
      ]
    },
    {
      "cell_type": "markdown",
      "metadata": {
        "id": "7EjqN9IcELF9"
      },
      "source": [
        "## DataFrame.query() Method\n",
        "\n",
        "The ``DataFrame`` has another method based on evaluated strings, called the ``query()`` method.\n",
        "Consider the following:"
      ]
    },
    {
      "cell_type": "code",
      "execution_count": null,
      "metadata": {
        "id": "ipvBU-A6ELF9",
        "outputId": "ceb8e96a-20ea-4892-f4ac-ed73c9f2e5f7"
      },
      "outputs": [
        {
          "data": {
            "text/plain": [
              "True"
            ]
          },
          "execution_count": 23,
          "metadata": {},
          "output_type": "execute_result"
        }
      ],
      "source": [
        "result1 = df[(df.A < 0.5) & (df.B < 0.5)]\n",
        "result2 = pd.eval('df[(df.A < 0.5) & (df.B < 0.5)]')\n",
        "np.allclose(result1, result2)"
      ]
    },
    {
      "cell_type": "markdown",
      "metadata": {
        "id": "3wwEGYA9ELF9"
      },
      "source": [
        "As with the example used in our discussion of ``DataFrame.eval()``, this is an expression involving columns of the ``DataFrame``.\n",
        "It cannot be expressed using the ``DataFrame.eval()`` syntax, however!\n",
        "Instead, for this type of filtering operation, you can use the ``query()`` method:"
      ]
    },
    {
      "cell_type": "code",
      "execution_count": null,
      "metadata": {
        "id": "oiW0UwV8ELF-",
        "outputId": "326c72a7-e2b2-4b2b-a904-555308d3eeaa"
      },
      "outputs": [
        {
          "data": {
            "text/plain": [
              "True"
            ]
          },
          "execution_count": 24,
          "metadata": {},
          "output_type": "execute_result"
        }
      ],
      "source": [
        "result2 = df.query('A < 0.5 and B < 0.5')\n",
        "np.allclose(result1, result2)"
      ]
    },
    {
      "cell_type": "markdown",
      "metadata": {
        "id": "gs2JaXNRELF-"
      },
      "source": [
        "In addition to being a more efficient computation, compared to the masking expression this is much easier to read and understand.\n",
        "Note that the ``query()`` method also accepts the ``@`` flag to mark local variables:"
      ]
    },
    {
      "cell_type": "code",
      "execution_count": null,
      "metadata": {
        "id": "SzzelBGgELF-",
        "outputId": "3e3da680-7663-4da7-ea04-3bf5f2e390d6"
      },
      "outputs": [
        {
          "data": {
            "text/plain": [
              "True"
            ]
          },
          "execution_count": 25,
          "metadata": {},
          "output_type": "execute_result"
        }
      ],
      "source": [
        "Cmean = df['C'].mean()\n",
        "result1 = df[(df.A < Cmean) & (df.B < Cmean)]\n",
        "result2 = df.query('A < @Cmean and B < @Cmean')\n",
        "np.allclose(result1, result2)"
      ]
    },
    {
      "cell_type": "markdown",
      "metadata": {
        "id": "pNSXWM8DELF-"
      },
      "source": [
        "## Performance: When to Use These Functions\n",
        "\n",
        "When considering whether to use these functions, there are two considerations: *computation time* and *memory use*.\n",
        "Memory use is the most predictable aspect. As already mentioned, every compound expression involving NumPy arrays or Pandas ``DataFrame``s will result in implicit creation of temporary arrays:\n",
        "For example, this:"
      ]
    },
    {
      "cell_type": "code",
      "execution_count": null,
      "metadata": {
        "collapsed": true,
        "id": "R689AS3dELF-"
      },
      "outputs": [],
      "source": [
        "x = df[(df.A < 0.5) & (df.B < 0.5)]"
      ]
    },
    {
      "cell_type": "markdown",
      "metadata": {
        "id": "gYvvULInELF-"
      },
      "source": [
        "Is roughly equivalent to this:"
      ]
    },
    {
      "cell_type": "code",
      "execution_count": null,
      "metadata": {
        "id": "I_sIDqjQELF-"
      },
      "outputs": [],
      "source": [
        "tmp1 = df.A < 0.5\n",
        "tmp2 = df.B < 0.5\n",
        "tmp3 = tmp1 & tmp2\n",
        "x = df[tmp3]"
      ]
    },
    {
      "cell_type": "markdown",
      "metadata": {
        "id": "WEQzzLvLELF-"
      },
      "source": [
        "If the size of the temporary ``DataFrame``s is significant compared to your available system memory (typically several gigabytes) then it's a good idea to use an ``eval()`` or ``query()`` expression.\n",
        "You can check the approximate size of your array in bytes using this:"
      ]
    },
    {
      "cell_type": "code",
      "execution_count": null,
      "metadata": {
        "id": "xdmeC285ELF-",
        "outputId": "4cb45475-309e-4117-aebc-6074eefe332b"
      },
      "outputs": [
        {
          "data": {
            "text/plain": [
              "32000"
            ]
          },
          "execution_count": 28,
          "metadata": {},
          "output_type": "execute_result"
        }
      ],
      "source": [
        "df.values.nbytes"
      ]
    },
    {
      "cell_type": "markdown",
      "metadata": {
        "id": "zlC3kh-TELF_"
      },
      "source": [
        "On the performance side, ``eval()`` can be faster even when you are not maxing-out your system memory.\n",
        "The issue is how your temporary ``DataFrame``s compare to the size of the L1 or L2 CPU cache on your system (typically a few megabytes in 2016); if they are much bigger, then ``eval()`` can avoid some potentially slow movement of values between the different memory caches.\n",
        "In practice, I find that the difference in computation time between the traditional methods and the ``eval``/``query`` method is usually not significant–if anything, the traditional method is faster for smaller arrays!\n",
        "The benefit of ``eval``/``query`` is mainly in the saved memory, and the sometimes cleaner syntax they offer."
      ]
    },
    {
      "cell_type": "code",
      "execution_count": null,
      "metadata": {
        "id": "BNDcsof7xRbU"
      },
      "outputs": [],
      "source": [
        ""
      ]
    }
  ],
  "metadata": {
    "anaconda-cloud": {},
    "colab": {
      "name": "Copy of 03_12_Performance_Eval_and_Query.ipynb",
      "provenance": [],
      "include_colab_link": true
    },
    "kernelspec": {
      "display_name": "Python 3 (ipykernel)",
      "language": "python",
      "name": "python3"
    },
    "language_info": {
      "codemirror_mode": {
        "name": "ipython",
        "version": 3
      },
      "file_extension": ".py",
      "mimetype": "text/x-python",
      "name": "python",
      "nbconvert_exporter": "python",
      "pygments_lexer": "ipython3",
      "version": "3.9.7"
    }
  },
  "nbformat": 4,
  "nbformat_minor": 0
}