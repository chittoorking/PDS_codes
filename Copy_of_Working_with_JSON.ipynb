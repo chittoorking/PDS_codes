{
  "cells": [
    {
      "cell_type": "markdown",
      "metadata": {
        "id": "view-in-github",
        "colab_type": "text"
      },
      "source": [
        "<a href=\"https://colab.research.google.com/github/chittoorking/PDS_codes/blob/main/Copy_of_Working_with_JSON.ipynb\" target=\"_parent\"><img src=\"https://colab.research.google.com/assets/colab-badge.svg\" alt=\"Open In Colab\"/></a>"
      ]
    },
    {
      "cell_type": "markdown",
      "id": "94772dd9",
      "metadata": {
        "id": "94772dd9"
      },
      "source": [
        "JSON (JavaScript Object Notation) is a popular data format used for representing structured data. It's common to transmit and receive data between a server and web application in JSON format.\n",
        "\n",
        "In Python, JSON exists as a string. For example:"
      ]
    },
    {
      "cell_type": "code",
      "execution_count": null,
      "id": "d2382aa0",
      "metadata": {
        "id": "d2382aa0",
        "outputId": "5ece9b9b-3bb4-4317-87f0-c8af1910cf01"
      },
      "outputs": [
        {
          "data": {
            "text/plain": [
              "'{\"name\": \"Bob\", \"languages\": [\"Python\", \"Java\"]}'"
            ]
          },
          "execution_count": 6,
          "metadata": {},
          "output_type": "execute_result"
        }
      ],
      "source": [
        "p = '{\"name\": \"Bob\", \"languages\": [\"Python\", \"Java\"]}'\n",
        "p"
      ]
    },
    {
      "cell_type": "markdown",
      "id": "2caa42d7",
      "metadata": {
        "id": "2caa42d7"
      },
      "source": [
        "To work with JSON (string, or file containing JSON object), you can use Python's `json` module. You need to import the module before you can use it."
      ]
    },
    {
      "cell_type": "code",
      "execution_count": null,
      "id": "b735c038",
      "metadata": {
        "id": "b735c038"
      },
      "outputs": [],
      "source": [
        "import json"
      ]
    },
    {
      "cell_type": "markdown",
      "id": "4874d988",
      "metadata": {
        "id": "4874d988"
      },
      "source": [
        "The `json` module makes it easy to parse JSON strings and files containing JSON object."
      ]
    },
    {
      "cell_type": "code",
      "execution_count": null,
      "id": "061a0123",
      "metadata": {
        "id": "061a0123",
        "outputId": "c019d019-d9c6-49ea-e8bc-908f6c439407"
      },
      "outputs": [
        {
          "name": "stdout",
          "output_type": "stream",
          "text": [
            "<class 'dict'>\n"
          ]
        }
      ],
      "source": [
        "person = '{\"name\": \"Bob\", \"languages\": [\"English\", \"French\"]}'\n",
        "\n",
        "p_dict = json.loads(person)\n",
        "print(type(p_dict))\n"
      ]
    },
    {
      "cell_type": "code",
      "execution_count": null,
      "id": "c96bb685",
      "metadata": {
        "id": "c96bb685",
        "outputId": "8570bdd4-57fb-41bb-c18e-bab04518a04f"
      },
      "outputs": [
        {
          "name": "stdout",
          "output_type": "stream",
          "text": [
            "<class 'str'>\n"
          ]
        }
      ],
      "source": [
        "print(type(person))"
      ]
    },
    {
      "cell_type": "markdown",
      "id": "0c2b4db1",
      "metadata": {
        "id": "0c2b4db1"
      },
      "source": [
        "Here, `person` is a JSON string, and `person_dict` is a dictionary."
      ]
    },
    {
      "cell_type": "code",
      "execution_count": null,
      "id": "c1722e87",
      "metadata": {
        "id": "c1722e87",
        "outputId": "1c54d6ef-7d9a-4448-eba1-124b2c67a3ec"
      },
      "outputs": [
        {
          "name": "stdout",
          "output_type": "stream",
          "text": [
            "['English', 'French']\n"
          ]
        }
      ],
      "source": [
        "print(p_dict['languages'])"
      ]
    },
    {
      "cell_type": "markdown",
      "id": "d0ea0db5",
      "metadata": {
        "id": "d0ea0db5"
      },
      "source": [
        "### Convert dict to JSON"
      ]
    },
    {
      "cell_type": "code",
      "execution_count": null,
      "id": "551b9e5a",
      "metadata": {
        "id": "551b9e5a",
        "outputId": "77215d92-cc43-4b81-9293-9b3ad5f1c3a6"
      },
      "outputs": [
        {
          "name": "stdout",
          "output_type": "stream",
          "text": [
            "{\"name\": \"Bob\", \"age\": 12, \"children\": null}\n"
          ]
        }
      ],
      "source": [
        "person_dict = {'name': 'Bob',\n",
        "'age': 12,\n",
        "'children': None\n",
        "}\n",
        "\n",
        "p_json = json.dumps(person_dict)\n",
        "print(p_json)"
      ]
    },
    {
      "cell_type": "markdown",
      "id": "5910e59c",
      "metadata": {
        "id": "5910e59c"
      },
      "source": [
        "### Writing JSON to a file\n",
        "\n",
        "To write JSON to a file in Python, we can use json.dump() method.\n",
        "\n"
      ]
    },
    {
      "cell_type": "code",
      "execution_count": null,
      "id": "44a63353",
      "metadata": {
        "id": "44a63353"
      },
      "outputs": [],
      "source": [
        "person_dict = {\"name\": \"Bob\",\n",
        "\"languages\": [\"English\", \"French\"],\n",
        "\"married\": True,\n",
        "\"age\": 32\n",
        "}\n",
        "\n",
        "with open('person.txt', 'w') as json_file:\n",
        "    json.dump(person_dict, json_file)\n",
        "\n"
      ]
    },
    {
      "cell_type": "markdown",
      "id": "c9472b72",
      "metadata": {
        "id": "c9472b72"
      },
      "source": [
        "### Python pretty print JSON\n",
        "\n",
        "To analyze and debug JSON data, we may need to print it in a more readable format. This can be done by passing additional parameters indent and sort_keys to json.dumps() and json.dump() method."
      ]
    },
    {
      "cell_type": "code",
      "execution_count": null,
      "id": "ce32630d",
      "metadata": {
        "id": "ce32630d",
        "outputId": "21b22659-28f3-43d9-857c-29f3d60951b4"
      },
      "outputs": [
        {
          "name": "stdout",
          "output_type": "stream",
          "text": [
            "{'name': 'Bob', 'languages': 'English', 'numbers': [2, 1.6, None]}\n"
          ]
        }
      ],
      "source": [
        "person_string = '{\"name\": \"Bob\", \"languages\": \"English\", \"numbers\": [2, 1.6, null]}'\n",
        "\n",
        "# Getting dictionary\n",
        "person_dict = json.loads(person_string)\n",
        "print(person_dict)"
      ]
    },
    {
      "cell_type": "code",
      "execution_count": null,
      "id": "672f1212",
      "metadata": {
        "id": "672f1212",
        "outputId": "9cf516bb-f1e3-43eb-aab9-5bd3d79ac404"
      },
      "outputs": [
        {
          "name": "stdout",
          "output_type": "stream",
          "text": [
            "{\n",
            "  \"languages\": \"English\",\n",
            "  \"name\": \"Bob\",\n",
            "  \"numbers\": [\n",
            "    2,\n",
            "    1.6,\n",
            "    null\n",
            "  ]\n",
            "}\n"
          ]
        }
      ],
      "source": [
        "print(json.dumps(person_dict, indent = 2, sort_keys = True))"
      ]
    },
    {
      "cell_type": "code",
      "execution_count": null,
      "id": "d436f0b9",
      "metadata": {
        "id": "d436f0b9"
      },
      "outputs": [],
      "source": [
        "Faculty_string = '''\n",
        "{\n",
        "\"Faculty\": [\n",
        "{\n",
        "\"name\" : \"Sreeja\",\n",
        "\"emails\": \"sreeja@gmail.com\",\n",
        "\"subjects\" : [\"PDS\", \"CP\", \"DAV\"]\n",
        "},\n",
        "{\n",
        "\"name\" : \"Annu\",\n",
        "\"emails\": \"annu@gmail.com\",\n",
        "\"subjects\" : [\"AI\", \"BCI\"]\n",
        "}\n",
        "]\n",
        "}'''"
      ]
    },
    {
      "cell_type": "code",
      "execution_count": null,
      "id": "874f3d02",
      "metadata": {
        "id": "874f3d02"
      },
      "outputs": [],
      "source": [
        "data = json.loads(Faculty_string)"
      ]
    },
    {
      "cell_type": "code",
      "execution_count": null,
      "id": "0c73564f",
      "metadata": {
        "id": "0c73564f",
        "outputId": "ae328d93-7ca4-4f37-e929-e826ddd03564"
      },
      "outputs": [
        {
          "name": "stdout",
          "output_type": "stream",
          "text": [
            "{'Faculty': [{'name': 'Sreeja', 'emails': 'sreeja@gmail.com', 'subjects': ['PDS', 'CP', 'DAV']}, {'name': 'Annu', 'emails': 'annu@gmail.com', 'subjects': ['AI', 'BCI']}]}\n"
          ]
        }
      ],
      "source": [
        "print(data)"
      ]
    },
    {
      "cell_type": "code",
      "execution_count": null,
      "id": "31832bdb",
      "metadata": {
        "id": "31832bdb",
        "outputId": "fc643e19-871f-4c50-d77f-1d8e104c0aef"
      },
      "outputs": [
        {
          "data": {
            "text/plain": [
              "[{'name': 'Sreeja',\n",
              "  'emails': 'sreeja@gmail.com',\n",
              "  'subjects': ['PDS', 'CP', 'DAV']},\n",
              " {'name': 'Annu', 'emails': 'annu@gmail.com', 'subjects': ['AI', 'BCI']}]"
            ]
          },
          "execution_count": 22,
          "metadata": {},
          "output_type": "execute_result"
        }
      ],
      "source": [
        "data['Faculty']"
      ]
    },
    {
      "cell_type": "code",
      "execution_count": null,
      "id": "2f22801c",
      "metadata": {
        "id": "2f22801c"
      },
      "outputs": [],
      "source": [
        "for item in data['Faculty']:\n",
        "    del item['emails']"
      ]
    },
    {
      "cell_type": "code",
      "execution_count": null,
      "id": "dac6ece1",
      "metadata": {
        "id": "dac6ece1",
        "outputId": "d25d6ade-0a63-426a-9043-bd1ba409681d"
      },
      "outputs": [
        {
          "name": "stdout",
          "output_type": "stream",
          "text": [
            "{'Faculty': [{'name': 'Sreeja', 'subjects': ['PDS', 'CP', 'DAV']}, {'name': 'Annu', 'subjects': ['AI', 'BCI']}]}\n"
          ]
        }
      ],
      "source": [
        "print(data)"
      ]
    },
    {
      "cell_type": "code",
      "execution_count": null,
      "id": "44dafa8c",
      "metadata": {
        "id": "44dafa8c"
      },
      "outputs": [],
      "source": [
        "with open('Faculty.txt', 'w') as f:\n",
        "    json.dump(data, f)"
      ]
    },
    {
      "cell_type": "code",
      "execution_count": null,
      "id": "2e9a857f",
      "metadata": {
        "id": "2e9a857f"
      },
      "outputs": [],
      "source": [
        "from urllib.request import urlopen\n",
        "\n",
        "with urlopen(\"https://jsonplaceholder.typicode.com/todos\") as response:\n",
        "    source = response.read()\n",
        "\n",
        "data = json.loads(source)"
      ]
    },
    {
      "cell_type": "code",
      "execution_count": null,
      "id": "b473cb68",
      "metadata": {
        "id": "b473cb68"
      },
      "outputs": [],
      "source": [
        "import pandas as pd\n",
        "todo = pd.read_json(\"https://jsonplaceholder.typicode.com/todos\")"
      ]
    },
    {
      "cell_type": "code",
      "execution_count": null,
      "id": "279f7c8c",
      "metadata": {
        "id": "279f7c8c",
        "outputId": "917d8fe9-c99a-4c40-bf6f-a3a5bd2539e5"
      },
      "outputs": [
        {
          "data": {
            "text/html": [
              "<div>\n",
              "<style scoped>\n",
              "    .dataframe tbody tr th:only-of-type {\n",
              "        vertical-align: middle;\n",
              "    }\n",
              "\n",
              "    .dataframe tbody tr th {\n",
              "        vertical-align: top;\n",
              "    }\n",
              "\n",
              "    .dataframe thead th {\n",
              "        text-align: right;\n",
              "    }\n",
              "</style>\n",
              "<table border=\"1\" class=\"dataframe\">\n",
              "  <thead>\n",
              "    <tr style=\"text-align: right;\">\n",
              "      <th></th>\n",
              "      <th>userId</th>\n",
              "      <th>id</th>\n",
              "      <th>title</th>\n",
              "      <th>completed</th>\n",
              "    </tr>\n",
              "  </thead>\n",
              "  <tbody>\n",
              "    <tr>\n",
              "      <th>0</th>\n",
              "      <td>1</td>\n",
              "      <td>1</td>\n",
              "      <td>delectus aut autem</td>\n",
              "      <td>False</td>\n",
              "    </tr>\n",
              "    <tr>\n",
              "      <th>1</th>\n",
              "      <td>1</td>\n",
              "      <td>2</td>\n",
              "      <td>quis ut nam facilis et officia qui</td>\n",
              "      <td>False</td>\n",
              "    </tr>\n",
              "    <tr>\n",
              "      <th>2</th>\n",
              "      <td>1</td>\n",
              "      <td>3</td>\n",
              "      <td>fugiat veniam minus</td>\n",
              "      <td>False</td>\n",
              "    </tr>\n",
              "    <tr>\n",
              "      <th>3</th>\n",
              "      <td>1</td>\n",
              "      <td>4</td>\n",
              "      <td>et porro tempora</td>\n",
              "      <td>True</td>\n",
              "    </tr>\n",
              "    <tr>\n",
              "      <th>4</th>\n",
              "      <td>1</td>\n",
              "      <td>5</td>\n",
              "      <td>laboriosam mollitia et enim quasi adipisci qui...</td>\n",
              "      <td>False</td>\n",
              "    </tr>\n",
              "    <tr>\n",
              "      <th>...</th>\n",
              "      <td>...</td>\n",
              "      <td>...</td>\n",
              "      <td>...</td>\n",
              "      <td>...</td>\n",
              "    </tr>\n",
              "    <tr>\n",
              "      <th>195</th>\n",
              "      <td>10</td>\n",
              "      <td>196</td>\n",
              "      <td>consequuntur aut ut fugit similique</td>\n",
              "      <td>True</td>\n",
              "    </tr>\n",
              "    <tr>\n",
              "      <th>196</th>\n",
              "      <td>10</td>\n",
              "      <td>197</td>\n",
              "      <td>dignissimos quo nobis earum saepe</td>\n",
              "      <td>True</td>\n",
              "    </tr>\n",
              "    <tr>\n",
              "      <th>197</th>\n",
              "      <td>10</td>\n",
              "      <td>198</td>\n",
              "      <td>quis eius est sint explicabo</td>\n",
              "      <td>True</td>\n",
              "    </tr>\n",
              "    <tr>\n",
              "      <th>198</th>\n",
              "      <td>10</td>\n",
              "      <td>199</td>\n",
              "      <td>numquam repellendus a magnam</td>\n",
              "      <td>True</td>\n",
              "    </tr>\n",
              "    <tr>\n",
              "      <th>199</th>\n",
              "      <td>10</td>\n",
              "      <td>200</td>\n",
              "      <td>ipsam aperiam voluptates qui</td>\n",
              "      <td>False</td>\n",
              "    </tr>\n",
              "  </tbody>\n",
              "</table>\n",
              "<p>200 rows × 4 columns</p>\n",
              "</div>"
            ],
            "text/plain": [
              "     userId   id                                              title  completed\n",
              "0         1    1                                 delectus aut autem      False\n",
              "1         1    2                 quis ut nam facilis et officia qui      False\n",
              "2         1    3                                fugiat veniam minus      False\n",
              "3         1    4                                   et porro tempora       True\n",
              "4         1    5  laboriosam mollitia et enim quasi adipisci qui...      False\n",
              "..      ...  ...                                                ...        ...\n",
              "195      10  196                consequuntur aut ut fugit similique       True\n",
              "196      10  197                  dignissimos quo nobis earum saepe       True\n",
              "197      10  198                       quis eius est sint explicabo       True\n",
              "198      10  199                       numquam repellendus a magnam       True\n",
              "199      10  200                       ipsam aperiam voluptates qui      False\n",
              "\n",
              "[200 rows x 4 columns]"
            ]
          },
          "execution_count": 33,
          "metadata": {},
          "output_type": "execute_result"
        }
      ],
      "source": [
        "todo"
      ]
    },
    {
      "cell_type": "code",
      "execution_count": null,
      "id": "ccc45e7d",
      "metadata": {
        "id": "ccc45e7d",
        "outputId": "0bfe77c8-6567-450f-f118-c6005399b57d"
      },
      "outputs": [
        {
          "data": {
            "text/plain": [
              "0      18\n",
              "1      34\n",
              "2      19\n",
              "3      16\n",
              "4      63\n",
              "       ..\n",
              "195    35\n",
              "196    33\n",
              "197    28\n",
              "198    28\n",
              "199    28\n",
              "Name: title, Length: 200, dtype: int64"
            ]
          },
          "execution_count": 34,
          "metadata": {},
          "output_type": "execute_result"
        }
      ],
      "source": [
        "todo.title.str.len()"
      ]
    },
    {
      "cell_type": "code",
      "execution_count": null,
      "id": "72d46d30",
      "metadata": {
        "id": "72d46d30",
        "outputId": "2135a1fc-7320-4804-bfe0-05c66491a0b5"
      },
      "outputs": [
        {
          "data": {
            "text/plain": [
              "count    200.000000\n",
              "mean      41.435000\n",
              "std       15.429065\n",
              "min       11.000000\n",
              "25%       28.000000\n",
              "50%       41.000000\n",
              "75%       53.000000\n",
              "max       73.000000\n",
              "Name: title, dtype: float64"
            ]
          },
          "execution_count": 35,
          "metadata": {},
          "output_type": "execute_result"
        }
      ],
      "source": [
        "todo.title.str.len().describe()"
      ]
    },
    {
      "cell_type": "code",
      "execution_count": null,
      "id": "7e29c10f",
      "metadata": {
        "id": "7e29c10f",
        "outputId": "5f225979-0157-495c-cfce-c7184327bd42"
      },
      "outputs": [
        {
          "data": {
            "text/plain": [
              "'aliquid amet impedit consequatur aspernatur placeat eaque fugiat suscipit'"
            ]
          },
          "execution_count": 54,
          "metadata": {},
          "output_type": "execute_result"
        }
      ],
      "source": [
        "import numpy as np\n",
        "todo.title[np.argmax(todo.title.str.len())]"
      ]
    },
    {
      "cell_type": "code",
      "execution_count": null,
      "id": "5d19326f",
      "metadata": {
        "id": "5d19326f",
        "outputId": "9e08c543-2894-4550-ef47-e6be0cc35d2d"
      },
      "outputs": [
        {
          "data": {
            "text/plain": [
              "'qui sit non'"
            ]
          },
          "execution_count": 55,
          "metadata": {},
          "output_type": "execute_result"
        }
      ],
      "source": [
        "todo.title[np.argmin(todo.title.str.len())]"
      ]
    },
    {
      "cell_type": "code",
      "execution_count": null,
      "id": "05e575db",
      "metadata": {
        "id": "05e575db",
        "outputId": "f87d843b-2e63-4723-bb95-85913de718cf"
      },
      "outputs": [
        {
          "data": {
            "text/plain": [
              "0      [d]\n",
              "1      [q]\n",
              "2      [f]\n",
              "3       []\n",
              "4      [l]\n",
              "      ... \n",
              "195    [c]\n",
              "196    [d]\n",
              "197    [q]\n",
              "198    [n]\n",
              "199     []\n",
              "Name: title, Length: 200, dtype: object"
            ]
          },
          "execution_count": 58,
          "metadata": {},
          "output_type": "execute_result"
        }
      ],
      "source": [
        "todo.title.str.findall(r'^[^aeiou]')"
      ]
    },
    {
      "cell_type": "code",
      "execution_count": null,
      "id": "25df9f63",
      "metadata": {
        "id": "25df9f63",
        "outputId": "2e442faa-929c-46b5-bd87-faf2df954357"
      },
      "outputs": [
        {
          "data": {
            "text/plain": [
              "0      False\n",
              "1       True\n",
              "2      False\n",
              "3      False\n",
              "4       True\n",
              "       ...  \n",
              "195     True\n",
              "196     True\n",
              "197     True\n",
              "198     True\n",
              "199     True\n",
              "Name: title, Length: 200, dtype: bool"
            ]
          },
          "execution_count": 62,
          "metadata": {},
          "output_type": "execute_result"
        }
      ],
      "source": [
        "todo.title.str.contains('[q]')"
      ]
    },
    {
      "cell_type": "code",
      "execution_count": null,
      "id": "c196d04c",
      "metadata": {
        "id": "c196d04c"
      },
      "outputs": [],
      "source": [
        "complete = todo.groupby('userId').sum()"
      ]
    },
    {
      "cell_type": "code",
      "execution_count": null,
      "id": "b5816054",
      "metadata": {
        "id": "b5816054",
        "outputId": "06a0807a-752e-4978-c29d-1288dcd1bc4e"
      },
      "outputs": [
        {
          "data": {
            "text/html": [
              "<div>\n",
              "<style scoped>\n",
              "    .dataframe tbody tr th:only-of-type {\n",
              "        vertical-align: middle;\n",
              "    }\n",
              "\n",
              "    .dataframe tbody tr th {\n",
              "        vertical-align: top;\n",
              "    }\n",
              "\n",
              "    .dataframe thead th {\n",
              "        text-align: right;\n",
              "    }\n",
              "</style>\n",
              "<table border=\"1\" class=\"dataframe\">\n",
              "  <thead>\n",
              "    <tr style=\"text-align: right;\">\n",
              "      <th></th>\n",
              "      <th>id</th>\n",
              "      <th>completed</th>\n",
              "    </tr>\n",
              "    <tr>\n",
              "      <th>userId</th>\n",
              "      <th></th>\n",
              "      <th></th>\n",
              "    </tr>\n",
              "  </thead>\n",
              "  <tbody>\n",
              "    <tr>\n",
              "      <th>1</th>\n",
              "      <td>210</td>\n",
              "      <td>11</td>\n",
              "    </tr>\n",
              "    <tr>\n",
              "      <th>2</th>\n",
              "      <td>610</td>\n",
              "      <td>8</td>\n",
              "    </tr>\n",
              "    <tr>\n",
              "      <th>3</th>\n",
              "      <td>1010</td>\n",
              "      <td>7</td>\n",
              "    </tr>\n",
              "    <tr>\n",
              "      <th>4</th>\n",
              "      <td>1410</td>\n",
              "      <td>6</td>\n",
              "    </tr>\n",
              "    <tr>\n",
              "      <th>5</th>\n",
              "      <td>1810</td>\n",
              "      <td>12</td>\n",
              "    </tr>\n",
              "    <tr>\n",
              "      <th>6</th>\n",
              "      <td>2210</td>\n",
              "      <td>6</td>\n",
              "    </tr>\n",
              "    <tr>\n",
              "      <th>7</th>\n",
              "      <td>2610</td>\n",
              "      <td>9</td>\n",
              "    </tr>\n",
              "    <tr>\n",
              "      <th>8</th>\n",
              "      <td>3010</td>\n",
              "      <td>11</td>\n",
              "    </tr>\n",
              "    <tr>\n",
              "      <th>9</th>\n",
              "      <td>3410</td>\n",
              "      <td>8</td>\n",
              "    </tr>\n",
              "    <tr>\n",
              "      <th>10</th>\n",
              "      <td>3810</td>\n",
              "      <td>12</td>\n",
              "    </tr>\n",
              "  </tbody>\n",
              "</table>\n",
              "</div>"
            ],
            "text/plain": [
              "          id  completed\n",
              "userId                 \n",
              "1        210         11\n",
              "2        610          8\n",
              "3       1010          7\n",
              "4       1410          6\n",
              "5       1810         12\n",
              "6       2210          6\n",
              "7       2610          9\n",
              "8       3010         11\n",
              "9       3410          8\n",
              "10      3810         12"
            ]
          },
          "execution_count": 68,
          "metadata": {},
          "output_type": "execute_result"
        }
      ],
      "source": [
        "complete"
      ]
    },
    {
      "cell_type": "code",
      "execution_count": null,
      "id": "7e32b5fa",
      "metadata": {
        "id": "7e32b5fa",
        "outputId": "513b3c61-0020-4e7c-a643-79f5502ab36e"
      },
      "outputs": [
        {
          "data": {
            "text/html": [
              "<div>\n",
              "<style scoped>\n",
              "    .dataframe tbody tr th:only-of-type {\n",
              "        vertical-align: middle;\n",
              "    }\n",
              "\n",
              "    .dataframe tbody tr th {\n",
              "        vertical-align: top;\n",
              "    }\n",
              "\n",
              "    .dataframe thead th {\n",
              "        text-align: right;\n",
              "    }\n",
              "</style>\n",
              "<table border=\"1\" class=\"dataframe\">\n",
              "  <thead>\n",
              "    <tr style=\"text-align: right;\">\n",
              "      <th></th>\n",
              "      <th>id</th>\n",
              "      <th>completed</th>\n",
              "    </tr>\n",
              "    <tr>\n",
              "      <th>userId</th>\n",
              "      <th></th>\n",
              "      <th></th>\n",
              "    </tr>\n",
              "  </thead>\n",
              "  <tbody>\n",
              "    <tr>\n",
              "      <th>1</th>\n",
              "      <td>210</td>\n",
              "      <td>11.0</td>\n",
              "    </tr>\n",
              "    <tr>\n",
              "      <th>2</th>\n",
              "      <td>610</td>\n",
              "      <td>NaN</td>\n",
              "    </tr>\n",
              "    <tr>\n",
              "      <th>3</th>\n",
              "      <td>1010</td>\n",
              "      <td>NaN</td>\n",
              "    </tr>\n",
              "    <tr>\n",
              "      <th>4</th>\n",
              "      <td>1410</td>\n",
              "      <td>NaN</td>\n",
              "    </tr>\n",
              "    <tr>\n",
              "      <th>5</th>\n",
              "      <td>1810</td>\n",
              "      <td>12.0</td>\n",
              "    </tr>\n",
              "    <tr>\n",
              "      <th>6</th>\n",
              "      <td>2210</td>\n",
              "      <td>NaN</td>\n",
              "    </tr>\n",
              "    <tr>\n",
              "      <th>7</th>\n",
              "      <td>2610</td>\n",
              "      <td>NaN</td>\n",
              "    </tr>\n",
              "    <tr>\n",
              "      <th>8</th>\n",
              "      <td>3010</td>\n",
              "      <td>11.0</td>\n",
              "    </tr>\n",
              "    <tr>\n",
              "      <th>9</th>\n",
              "      <td>3410</td>\n",
              "      <td>NaN</td>\n",
              "    </tr>\n",
              "    <tr>\n",
              "      <th>10</th>\n",
              "      <td>3810</td>\n",
              "      <td>12.0</td>\n",
              "    </tr>\n",
              "  </tbody>\n",
              "</table>\n",
              "</div>"
            ],
            "text/plain": [
              "          id  completed\n",
              "userId                 \n",
              "1        210       11.0\n",
              "2        610        NaN\n",
              "3       1010        NaN\n",
              "4       1410        NaN\n",
              "5       1810       12.0\n",
              "6       2210        NaN\n",
              "7       2610        NaN\n",
              "8       3010       11.0\n",
              "9       3410        NaN\n",
              "10      3810       12.0"
            ]
          },
          "execution_count": 69,
          "metadata": {},
          "output_type": "execute_result"
        }
      ],
      "source": [
        "complete[completed > 10]"
      ]
    },
    {
      "cell_type": "code",
      "execution_count": null,
      "id": "5041aae8",
      "metadata": {
        "id": "5041aae8",
        "outputId": "d9922f65-f32a-469b-d150-12682836b388"
      },
      "outputs": [
        {
          "data": {
            "text/html": [
              "<div>\n",
              "<style scoped>\n",
              "    .dataframe tbody tr th:only-of-type {\n",
              "        vertical-align: middle;\n",
              "    }\n",
              "\n",
              "    .dataframe tbody tr th {\n",
              "        vertical-align: top;\n",
              "    }\n",
              "\n",
              "    .dataframe thead th {\n",
              "        text-align: right;\n",
              "    }\n",
              "</style>\n",
              "<table border=\"1\" class=\"dataframe\">\n",
              "  <thead>\n",
              "    <tr style=\"text-align: right;\">\n",
              "      <th></th>\n",
              "      <th>id</th>\n",
              "      <th>completed</th>\n",
              "    </tr>\n",
              "    <tr>\n",
              "      <th>userId</th>\n",
              "      <th></th>\n",
              "      <th></th>\n",
              "    </tr>\n",
              "  </thead>\n",
              "  <tbody>\n",
              "    <tr>\n",
              "      <th>1</th>\n",
              "      <td>210</td>\n",
              "      <td>11</td>\n",
              "    </tr>\n",
              "    <tr>\n",
              "      <th>5</th>\n",
              "      <td>1810</td>\n",
              "      <td>12</td>\n",
              "    </tr>\n",
              "    <tr>\n",
              "      <th>8</th>\n",
              "      <td>3010</td>\n",
              "      <td>11</td>\n",
              "    </tr>\n",
              "    <tr>\n",
              "      <th>10</th>\n",
              "      <td>3810</td>\n",
              "      <td>12</td>\n",
              "    </tr>\n",
              "  </tbody>\n",
              "</table>\n",
              "</div>"
            ],
            "text/plain": [
              "          id  completed\n",
              "userId                 \n",
              "1        210         11\n",
              "5       1810         12\n",
              "8       3010         11\n",
              "10      3810         12"
            ]
          },
          "execution_count": 71,
          "metadata": {},
          "output_type": "execute_result"
        }
      ],
      "source": [
        "complete.query('completed > 10')"
      ]
    },
    {
      "cell_type": "code",
      "execution_count": null,
      "id": "8c1ffac9",
      "metadata": {
        "id": "8c1ffac9"
      },
      "outputs": [],
      "source": [
        ""
      ]
    }
  ],
  "metadata": {
    "kernelspec": {
      "display_name": "Python 3 (ipykernel)",
      "language": "python",
      "name": "python3"
    },
    "language_info": {
      "codemirror_mode": {
        "name": "ipython",
        "version": 3
      },
      "file_extension": ".py",
      "mimetype": "text/x-python",
      "name": "python",
      "nbconvert_exporter": "python",
      "pygments_lexer": "ipython3",
      "version": "3.9.7"
    },
    "colab": {
      "name": "Copy of Working with JSON.ipynb",
      "provenance": [],
      "include_colab_link": true
    }
  },
  "nbformat": 4,
  "nbformat_minor": 5
}