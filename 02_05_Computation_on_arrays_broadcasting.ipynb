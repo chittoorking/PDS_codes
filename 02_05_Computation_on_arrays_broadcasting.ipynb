{
  "cells": [
    {
      "cell_type": "markdown",
      "metadata": {
        "id": "view-in-github",
        "colab_type": "text"
      },
      "source": [
        "<a href=\"https://colab.research.google.com/github/chittoorking/PDS_codes/blob/main/02_05_Computation_on_arrays_broadcasting.ipynb\" target=\"_parent\"><img src=\"https://colab.research.google.com/assets/colab-badge.svg\" alt=\"Open In Colab\"/></a>"
      ]
    },
    {
      "cell_type": "markdown",
      "metadata": {
        "id": "fl-YzKK9XKuF"
      },
      "source": [
        "# Computation on Arrays: Broadcasting"
      ]
    },
    {
      "cell_type": "markdown",
      "metadata": {
        "id": "aCApxOgzXKuF"
      },
      "source": [
        "We saw in the previous section how NumPy's universal functions can be used to *vectorize* operations and thereby remove slow Python loops.\n",
        "Another means of vectorizing operations is to use NumPy's *broadcasting* functionality.\n",
        "Broadcasting is simply a set of rules for applying binary ufuncs (e.g., addition, subtraction, multiplication, etc.) on arrays of different sizes."
      ]
    },
    {
      "cell_type": "markdown",
      "metadata": {
        "id": "ECLD616yXKuG"
      },
      "source": [
        "## Introducing Broadcasting\n",
        "\n",
        "Recall that for arrays of the same size, binary operations are performed on an element-by-element basis:"
      ]
    },
    {
      "cell_type": "code",
      "execution_count": null,
      "metadata": {
        "id": "o9oJYMsFXKuH"
      },
      "outputs": [],
      "source": [
        "import numpy as np"
      ]
    },
    {
      "cell_type": "code",
      "execution_count": null,
      "metadata": {
        "id": "9yAHb1lVXKuI",
        "outputId": "c7be9648-1ed1-4637-9a13-69181eb01cd8"
      },
      "outputs": [
        {
          "data": {
            "text/plain": [
              "array([5, 6, 7])"
            ]
          },
          "execution_count": 3,
          "metadata": {},
          "output_type": "execute_result"
        }
      ],
      "source": [
        "a = np.array([0, 1, 2])\n",
        "b = np.array([5, 5, 5])\n",
        "a + b"
      ]
    },
    {
      "cell_type": "markdown",
      "metadata": {
        "id": "Rm76KP9tXKuJ"
      },
      "source": [
        "Broadcasting allows these types of binary operations to be performed on arrays of different sizes–for example, we can just as easily add a scalar (think of it as a zero-dimensional array) to an array:"
      ]
    },
    {
      "cell_type": "code",
      "execution_count": null,
      "metadata": {
        "id": "CVRjQyG7XKuK",
        "outputId": "b69e609d-0b70-4bda-f782-f6edcf831e09"
      },
      "outputs": [
        {
          "data": {
            "text/plain": [
              "array([5, 6, 7])"
            ]
          },
          "execution_count": 4,
          "metadata": {},
          "output_type": "execute_result"
        }
      ],
      "source": [
        "a + 5"
      ]
    },
    {
      "cell_type": "markdown",
      "metadata": {
        "id": "_HeYzlfKXKuK"
      },
      "source": [
        "We can think of this as an operation that stretches or duplicates the value ``5`` into the array ``[5, 5, 5]``, and adds the results.\n",
        "The advantage of NumPy's broadcasting is that this duplication of values does not actually take place, but it is a useful mental model as we think about broadcasting.\n",
        "\n",
        "We can similarly extend this to arrays of higher dimension. Observe the result when we add a one-dimensional array to a two-dimensional array:"
      ]
    },
    {
      "cell_type": "code",
      "execution_count": null,
      "metadata": {
        "id": "Z9TS0pv2XKuL",
        "outputId": "1e1a1a17-79b4-4828-a8a1-016936011650"
      },
      "outputs": [
        {
          "data": {
            "text/plain": [
              "array([[1., 1., 1.],\n",
              "       [1., 1., 1.],\n",
              "       [1., 1., 1.]])"
            ]
          },
          "execution_count": 5,
          "metadata": {},
          "output_type": "execute_result"
        }
      ],
      "source": [
        "M = np.ones((3, 3))\n",
        "M"
      ]
    },
    {
      "cell_type": "code",
      "execution_count": null,
      "metadata": {
        "id": "bzZ2oFJoXKuM",
        "outputId": "b6857e0a-73e7-4326-ee6c-860ccb84b6c0"
      },
      "outputs": [
        {
          "data": {
            "text/plain": [
              "array([[1., 2., 3.],\n",
              "       [1., 2., 3.],\n",
              "       [1., 2., 3.]])"
            ]
          },
          "execution_count": 6,
          "metadata": {},
          "output_type": "execute_result"
        }
      ],
      "source": [
        "M + a"
      ]
    },
    {
      "cell_type": "markdown",
      "metadata": {
        "id": "i8Hhk4utXKuN"
      },
      "source": [
        "Here the one-dimensional array ``a`` is stretched, or broadcast across the second dimension in order to match the shape of ``M``.\n",
        "\n",
        "While these examples are relatively easy to understand, more complicated cases can involve broadcasting of both arrays. Consider the following example:"
      ]
    },
    {
      "cell_type": "code",
      "execution_count": null,
      "metadata": {
        "id": "edza54HXXKuO",
        "outputId": "dc8f70fc-e74e-46bd-f85b-43e12a2f3cd1"
      },
      "outputs": [
        {
          "name": "stdout",
          "output_type": "stream",
          "text": [
            "[0 1 2]\n",
            "[[0]\n",
            " [1]\n",
            " [2]]\n"
          ]
        }
      ],
      "source": [
        "a = np.arange(3)\n",
        "b = np.arange(3)[:, np.newaxis]\n",
        "\n",
        "print(a)\n",
        "print(b)"
      ]
    },
    {
      "cell_type": "code",
      "execution_count": null,
      "metadata": {
        "id": "BZr6H9ryXKuP",
        "outputId": "bffc1f05-ba82-4c3c-8865-548e1b64caad"
      },
      "outputs": [
        {
          "data": {
            "text/plain": [
              "array([[0, 1, 2],\n",
              "       [1, 2, 3],\n",
              "       [2, 3, 4]])"
            ]
          },
          "execution_count": 8,
          "metadata": {},
          "output_type": "execute_result"
        }
      ],
      "source": [
        "a + b"
      ]
    },
    {
      "cell_type": "markdown",
      "metadata": {
        "id": "IOtCOKR4XKuQ"
      },
      "source": [
        "Just as before we stretched or broadcasted one value to match the shape of the other, here we've stretched *both* ``a`` and ``b`` to match a common shape, and the result is a two-dimensional array!"
      ]
    },
    {
      "cell_type": "markdown",
      "metadata": {
        "id": "VqLKzcb3XKuQ"
      },
      "source": [
        "![Broadcasting Visual](https://github.com/jakevdp/PythonDataScienceHandbook/blob/master/notebooks/figures/02.05-broadcasting.png?raw=1)"
      ]
    },
    {
      "cell_type": "markdown",
      "metadata": {
        "id": "tETPXzDbXKuQ"
      },
      "source": [
        "The light boxes represent the broadcasted values: again, this extra memory is not actually allocated in the course of the operation, but it can be useful conceptually to imagine that it is."
      ]
    },
    {
      "cell_type": "markdown",
      "metadata": {
        "id": "tdnNsjuxXKuR"
      },
      "source": [
        "## Rules of Broadcasting\n",
        "\n",
        "Broadcasting in NumPy follows a strict set of rules to determine the interaction between the two arrays:\n",
        "\n",
        "- Rule 1: If the two arrays differ in their number of dimensions, the shape of the one with fewer dimensions is *padded* with ones on its leading (left) side.\n",
        "- Rule 2: If the shape of the two arrays does not match in any dimension, the array with shape equal to 1 in that dimension is stretched to match the other shape.\n",
        "- Rule 3: If in any dimension the sizes disagree and neither is equal to 1, an error is raised.\n",
        "\n",
        "To make these rules clear, let's consider a few examples in detail."
      ]
    },
    {
      "cell_type": "markdown",
      "metadata": {
        "id": "4zqmtH3iXKuS"
      },
      "source": [
        "### Broadcasting example 1\n",
        "\n",
        "Let's look at adding a two-dimensional array to a one-dimensional array:"
      ]
    },
    {
      "cell_type": "code",
      "execution_count": null,
      "metadata": {
        "id": "b6FTnXOCXKuT",
        "outputId": "ad93033c-6fb0-4fb6-b3b7-7a40e336d331"
      },
      "outputs": [
        {
          "name": "stdout",
          "output_type": "stream",
          "text": [
            "[[1. 1. 1.]\n",
            " [1. 1. 1.]] [0 1 2]\n"
          ]
        }
      ],
      "source": [
        "M = np.ones((2, 3))\n",
        "a = np.arange(3)\n",
        "print(M, a)"
      ]
    },
    {
      "cell_type": "markdown",
      "metadata": {
        "id": "QVAkwL_bXKuU"
      },
      "source": [
        "Let's consider an operation on these two arrays. The shape of the arrays are\n",
        "\n",
        "- ``M.shape = (2, 3)``\n",
        "- ``a.shape = (3,)``\n",
        "\n",
        "We see by rule 1 that the array ``a`` has fewer dimensions, so we pad it on the left with ones:\n",
        "\n",
        "- ``M.shape -> (2, 3)``\n",
        "- ``a.shape -> (1, 3)``\n",
        "\n",
        "By rule 2, we now see that the first dimension disagrees, so we stretch this dimension to match:\n",
        "\n",
        "- ``M.shape -> (2, 3)``\n",
        "- ``a.shape -> (2, 3)``\n",
        "\n",
        "The shapes match, and we see that the final shape will be ``(2, 3)``:"
      ]
    },
    {
      "cell_type": "code",
      "execution_count": null,
      "metadata": {
        "id": "y4CvVRY4XKuU",
        "outputId": "a4ed20a7-3fe8-496b-f877-d6274e9cd1d2"
      },
      "outputs": [
        {
          "data": {
            "text/plain": [
              "array([[1., 2., 3.],\n",
              "       [1., 2., 3.]])"
            ]
          },
          "execution_count": 10,
          "metadata": {},
          "output_type": "execute_result"
        }
      ],
      "source": [
        "M + a"
      ]
    },
    {
      "cell_type": "markdown",
      "metadata": {
        "id": "G64DzZPFXKuU"
      },
      "source": [
        "### Broadcasting example 2\n",
        "\n",
        "Let's take a look at an example where both arrays need to be broadcast:"
      ]
    },
    {
      "cell_type": "code",
      "execution_count": null,
      "metadata": {
        "id": "Alzw77jkXKuV"
      },
      "outputs": [],
      "source": [
        "a = np.arange(3).reshape((3, 1))\n",
        "b = np.arange(3)"
      ]
    },
    {
      "cell_type": "markdown",
      "metadata": {
        "id": "L90DEz6dXKuV"
      },
      "source": [
        "Again, we'll start by writing out the shape of the arrays:\n",
        "\n",
        "- ``a.shape = (3, 1)``\n",
        "- ``b.shape = (3,)``\n",
        "\n",
        "Rule 1 says we must pad the shape of ``b`` with ones:\n",
        "\n",
        "- ``a.shape -> (3, 1)``\n",
        "- ``b.shape -> (1, 3)``\n",
        "\n",
        "And rule 2 tells us that we upgrade each of these ones to match the corresponding size of the other array:\n",
        "\n",
        "- ``a.shape -> (3, 3)``\n",
        "- ``b.shape -> (3, 3)``\n",
        "\n",
        "Because the result matches, these shapes are compatible. We can see this here:"
      ]
    },
    {
      "cell_type": "code",
      "execution_count": null,
      "metadata": {
        "id": "Xz7cyW6bXKuW"
      },
      "outputs": [],
      "source": [
        "a + b"
      ]
    },
    {
      "cell_type": "markdown",
      "metadata": {
        "id": "Ya9ROAmwXKuX"
      },
      "source": [
        "### Broadcasting example 3\n",
        "\n",
        "Now let's take a look at an example in which the two arrays are not compatible:"
      ]
    },
    {
      "cell_type": "code",
      "execution_count": null,
      "metadata": {
        "id": "Roxt5BW7XKuY"
      },
      "outputs": [],
      "source": [
        "M = np.ones((3, 2))\n",
        "a = np.arange(3)"
      ]
    },
    {
      "cell_type": "markdown",
      "metadata": {
        "id": "DKlUwPQfXKuZ"
      },
      "source": [
        "This is just a slightly different situation than in the first example: the matrix ``M`` is transposed.\n",
        "How does this affect the calculation? The shape of the arrays are\n",
        "\n",
        "- ``M.shape = (3, 2)``\n",
        "- ``a.shape = (3,)``\n",
        "\n",
        "Again, rule 1 tells us that we must pad the shape of ``a`` with ones:\n",
        "\n",
        "- ``M.shape -> (3, 2)``\n",
        "- ``a.shape -> (1, 3)``\n",
        "\n",
        "By rule 2, the first dimension of ``a`` is stretched to match that of ``M``:\n",
        "\n",
        "- ``M.shape -> (3, 2)``\n",
        "- ``a.shape -> (3, 3)``\n",
        "\n",
        "Now we hit rule 3–the final shapes do not match, so these two arrays are incompatible, as we can observe by attempting this operation:"
      ]
    },
    {
      "cell_type": "code",
      "execution_count": null,
      "metadata": {
        "id": "T9n9iHjeXKuZ",
        "outputId": "9dff00b0-7a55-48e8-9afb-b486c1b451e4"
      },
      "outputs": [
        {
          "ename": "ValueError",
          "evalue": "operands could not be broadcast together with shapes (3,2) (3,) ",
          "output_type": "error",
          "traceback": [
            "\u001b[0;31m---------------------------------------------------------------------------\u001b[0m",
            "\u001b[0;31mValueError\u001b[0m                                Traceback (most recent call last)",
            "\u001b[0;32m/var/folders/93/xfc0v8hd5dgdxb83wcj0199h0000gn/T/ipykernel_18239/3374645918.py\u001b[0m in \u001b[0;36m<module>\u001b[0;34m\u001b[0m\n\u001b[0;32m----> 1\u001b[0;31m \u001b[0mM\u001b[0m \u001b[0;34m+\u001b[0m \u001b[0ma\u001b[0m\u001b[0;34m\u001b[0m\u001b[0;34m\u001b[0m\u001b[0m\n\u001b[0m",
            "\u001b[0;31mValueError\u001b[0m: operands could not be broadcast together with shapes (3,2) (3,) "
          ]
        }
      ],
      "source": [
        "M + a"
      ]
    },
    {
      "cell_type": "markdown",
      "metadata": {
        "id": "BF2387bbXKua"
      },
      "source": [
        "Note the potential confusion here: you could imagine making ``a`` and ``M`` compatible by, say, padding ``a``'s shape with ones on the right rather than the left.\n",
        "But this is not how the broadcasting rules work!\n",
        "That sort of flexibility might be useful in some cases, but it would lead to potential areas of ambiguity.\n",
        "If right-side padding is what you'd like, you can do this explicitly by reshaping the array."
      ]
    },
    {
      "cell_type": "code",
      "execution_count": null,
      "metadata": {
        "id": "ZHRE2ZpPXKua",
        "outputId": "9ba6a282-eafc-4c11-9ed4-11eb70b3d847"
      },
      "outputs": [
        {
          "data": {
            "text/plain": [
              "(3, 1)"
            ]
          },
          "execution_count": 13,
          "metadata": {},
          "output_type": "execute_result"
        }
      ],
      "source": [
        "a[:, np.newaxis].shape"
      ]
    },
    {
      "cell_type": "code",
      "execution_count": null,
      "metadata": {
        "id": "Dk5j0lvPXKub",
        "outputId": "be1e0744-bd11-4f37-d024-da049427375e"
      },
      "outputs": [
        {
          "data": {
            "text/plain": [
              "array([[1., 1.],\n",
              "       [2., 2.],\n",
              "       [3., 3.]])"
            ]
          },
          "execution_count": 14,
          "metadata": {},
          "output_type": "execute_result"
        }
      ],
      "source": [
        "M + a[:, np.newaxis]"
      ]
    },
    {
      "cell_type": "markdown",
      "metadata": {
        "id": "E92OgI2TXKub"
      },
      "source": [
        "Also note that while we've been focusing on the ``+`` operator here, these broadcasting rules apply to *any* binary ``ufunc``.\n",
        "For example, here is the ``logaddexp(a, b)`` function, which computes ``log(exp(a) + exp(b))`` with more precision than the naive approach:"
      ]
    },
    {
      "cell_type": "code",
      "execution_count": null,
      "metadata": {
        "id": "6g75M_ZlXKuc",
        "outputId": "0f0098ce-f37e-42aa-9986-34502604b19a"
      },
      "outputs": [
        {
          "data": {
            "text/plain": [
              "array([[1.31326169, 1.31326169],\n",
              "       [1.69314718, 1.69314718],\n",
              "       [2.31326169, 2.31326169]])"
            ]
          },
          "execution_count": 15,
          "metadata": {},
          "output_type": "execute_result"
        }
      ],
      "source": [
        "np.logaddexp(M, a[:, np.newaxis])"
      ]
    },
    {
      "cell_type": "markdown",
      "metadata": {
        "id": "4swvgt8JXKug"
      },
      "source": [
        "## Broadcasting in Practice"
      ]
    },
    {
      "cell_type": "markdown",
      "metadata": {
        "id": "5QDqPWSMXKui"
      },
      "source": [
        "Broadcasting operations form the core of many examples we'll see throughout this book.\n",
        "We'll now take a look at a couple simple examples of where they can be useful."
      ]
    },
    {
      "cell_type": "markdown",
      "metadata": {
        "id": "sZ27d-dgXKul"
      },
      "source": [
        "### Centering an array"
      ]
    },
    {
      "cell_type": "markdown",
      "metadata": {
        "id": "jXZAixnhXKul"
      },
      "source": [
        "In the previous section, we saw that ufuncs allow a NumPy user to remove the need to explicitly write slow Python loops. Broadcasting extends this ability.\n",
        "One commonly seen example is when centering an array of data.\n",
        "Imagine you have an array of 10 observations, each of which consists of 3 values.\n",
        "Using the standard convention, we'll store this in a $10 \\times 3$ array:\n",
        "\n",
        "Example 1:"
      ]
    },
    {
      "cell_type": "code",
      "execution_count": null,
      "metadata": {
        "id": "6rqb1NHfXKum",
        "outputId": "7e8d8c56-acf1-4b20-b5cf-0ad777a3043a"
      },
      "outputs": [
        {
          "data": {
            "text/plain": [
              "array([[0.14797242, 0.40076003, 0.96094927],\n",
              "       [0.04856516, 0.21134363, 0.32717955],\n",
              "       [0.14790798, 0.7782592 , 0.30554807],\n",
              "       [0.27103542, 0.79315649, 0.82643125],\n",
              "       [0.40714879, 0.60723434, 0.62090991],\n",
              "       [0.32606845, 0.80455039, 0.99229252],\n",
              "       [0.72717848, 0.62865143, 0.8432188 ],\n",
              "       [0.9709489 , 0.52929963, 0.20606933],\n",
              "       [0.63721803, 0.43415816, 0.17619165],\n",
              "       [0.73513836, 0.24640879, 0.49918246]])"
            ]
          },
          "execution_count": 16,
          "metadata": {},
          "output_type": "execute_result"
        }
      ],
      "source": [
        "import numpy as np\n",
        "X = np.random.random((10, 3))\n",
        "X"
      ]
    },
    {
      "cell_type": "markdown",
      "metadata": {
        "id": "1i5xndO8XKum"
      },
      "source": [
        "We can compute the mean of each feature using the ``mean`` aggregate across the first dimension:"
      ]
    },
    {
      "cell_type": "code",
      "execution_count": null,
      "metadata": {
        "id": "3-f9hhQYXKun",
        "outputId": "3ce20c77-a79d-4e55-fb2a-d13af109e390"
      },
      "outputs": [
        {
          "data": {
            "text/plain": [
              "array([0.4419182 , 0.54338221, 0.57579728])"
            ]
          },
          "execution_count": 17,
          "metadata": {},
          "output_type": "execute_result"
        }
      ],
      "source": [
        "Xmean = X.mean(0)\n",
        "Xmean"
      ]
    },
    {
      "cell_type": "markdown",
      "metadata": {
        "id": "oLB24mLoXKun"
      },
      "source": [
        "And now we can center the ``X`` array by subtracting the mean (this is a broadcasting operation):"
      ]
    },
    {
      "cell_type": "code",
      "execution_count": null,
      "metadata": {
        "id": "cAT2P3ebXKun",
        "outputId": "e84f3e13-f9ff-4b99-c62a-fd70c310857e"
      },
      "outputs": [
        {
          "data": {
            "text/plain": [
              "array([[-0.29394578, -0.14262218,  0.38515199],\n",
              "       [-0.39335304, -0.33203858, -0.24861773],\n",
              "       [-0.29401022,  0.23487699, -0.27024921],\n",
              "       [-0.17088278,  0.24977428,  0.25063397],\n",
              "       [-0.03476941,  0.06385213,  0.04511263],\n",
              "       [-0.11584975,  0.26116818,  0.41649524],\n",
              "       [ 0.28526028,  0.08526922,  0.26742152],\n",
              "       [ 0.5290307 , -0.01408258, -0.36972795],\n",
              "       [ 0.19529983, -0.10922405, -0.39960563],\n",
              "       [ 0.29322016, -0.29697342, -0.07661482]])"
            ]
          },
          "execution_count": 18,
          "metadata": {},
          "output_type": "execute_result"
        }
      ],
      "source": [
        "X_centered = X - Xmean\n",
        "X_centered"
      ]
    },
    {
      "cell_type": "markdown",
      "metadata": {
        "id": "e4-Q_WKrXKuo"
      },
      "source": [
        "To double-check that we've done this correctly, we can check that the centered array has near zero mean:"
      ]
    },
    {
      "cell_type": "code",
      "execution_count": null,
      "metadata": {
        "id": "YbadLHyFXKup",
        "outputId": "6c05654d-2848-4f4e-de7e-39bb18797fe3"
      },
      "outputs": [
        {
          "data": {
            "text/plain": [
              "array([-6.66133815e-17, -1.11022302e-17, -2.22044605e-17])"
            ]
          },
          "execution_count": 19,
          "metadata": {},
          "output_type": "execute_result"
        }
      ],
      "source": [
        "X_centered.mean(0)"
      ]
    },
    {
      "cell_type": "markdown",
      "metadata": {
        "id": "CfXiq7WAkMuL"
      },
      "source": [
        "Example 2:"
      ]
    },
    {
      "cell_type": "code",
      "execution_count": null,
      "metadata": {
        "id": "lc_MEl4AkMuL",
        "outputId": "7f510c1a-5db6-45d2-8e7b-6b5aa65cf60d"
      },
      "outputs": [
        {
          "data": {
            "text/plain": [
              "array([[1, 2, 3],\n",
              "       [4, 5, 6],\n",
              "       [7, 8, 9]])"
            ]
          },
          "execution_count": 20,
          "metadata": {},
          "output_type": "execute_result"
        }
      ],
      "source": [
        "X = np.arange(1,10).reshape(3,3)\n",
        "X"
      ]
    },
    {
      "cell_type": "code",
      "execution_count": null,
      "metadata": {
        "id": "4xrtSX9bkMuM",
        "outputId": "e8631654-bcb3-443e-96ac-a21a5d876ddd"
      },
      "outputs": [
        {
          "data": {
            "text/plain": [
              "array([4., 5., 6.])"
            ]
          },
          "execution_count": 21,
          "metadata": {},
          "output_type": "execute_result"
        }
      ],
      "source": [
        "Xmean = X.mean(0)\n",
        "Xmean"
      ]
    },
    {
      "cell_type": "code",
      "execution_count": null,
      "metadata": {
        "id": "6Fqr5IlOkMuN",
        "outputId": "2556898b-e237-47fe-c274-f780aa12fdef"
      },
      "outputs": [
        {
          "data": {
            "text/plain": [
              "array([[-3., -3., -3.],\n",
              "       [ 0.,  0.,  0.],\n",
              "       [ 3.,  3.,  3.]])"
            ]
          },
          "execution_count": 22,
          "metadata": {},
          "output_type": "execute_result"
        }
      ],
      "source": [
        "X_centered = X - Xmean\n",
        "X_centered"
      ]
    },
    {
      "cell_type": "code",
      "execution_count": null,
      "metadata": {
        "id": "_CSuj0erkMuO",
        "outputId": "6eff7c87-1d4c-4044-8fc5-7e0c3bf85a4d"
      },
      "outputs": [
        {
          "data": {
            "text/plain": [
              "array([0., 0., 0.])"
            ]
          },
          "execution_count": 23,
          "metadata": {},
          "output_type": "execute_result"
        }
      ],
      "source": [
        "X_centered.mean(0)"
      ]
    },
    {
      "cell_type": "markdown",
      "metadata": {
        "id": "STSP_BmsXKup"
      },
      "source": [
        "To within machine precision, the mean is now zero."
      ]
    },
    {
      "cell_type": "markdown",
      "metadata": {
        "id": "Vyq5CrpfXKup"
      },
      "source": [
        "### Plotting a two-dimensional function"
      ]
    },
    {
      "cell_type": "markdown",
      "metadata": {
        "id": "UUJPWwL2XKup"
      },
      "source": [
        "One place that broadcasting is very useful is in displaying images based on two-dimensional functions.\n",
        "If we want to define a function $z = f(x, y)$, broadcasting can be used to compute the function across the grid:"
      ]
    },
    {
      "cell_type": "code",
      "execution_count": null,
      "metadata": {
        "id": "jpvRUbDyXKuq",
        "outputId": "04d0e3ca-8826-46cc-ba5d-4b5f1d7ab1d3"
      },
      "outputs": [
        {
          "name": "stdout",
          "output_type": "stream",
          "text": [
            "[[-0.83907153 -0.83470697 -0.8216586  ...  0.8956708   0.68617261\n",
            "   0.41940746]\n",
            " [-0.83907153 -0.82902677 -0.8103873  ...  0.92522407  0.75321348\n",
            "   0.52508175]\n",
            " [-0.83907153 -0.82325668 -0.79876457 ...  0.96427357  0.84172689\n",
            "   0.66446403]\n",
            " ...\n",
            " [-0.83907153 -0.48233077 -0.01646558 ...  0.96449925  0.75196531\n",
            "   0.41982581]\n",
            " [-0.83907153 -0.47324558  0.00392612 ...  0.92542163  0.68540362\n",
            "   0.37440839]\n",
            " [-0.83907153 -0.46410908  0.02431613 ...  0.89579384  0.65690314\n",
            "   0.40107702]]\n"
          ]
        },
        {
          "data": {
            "text/plain": [
              "(50, 50)"
            ]
          },
          "execution_count": 28,
          "metadata": {},
          "output_type": "execute_result"
        }
      ],
      "source": [
        "# x and y have 50 steps from 0 to 5\n",
        "x = np.linspace(0, 5, 50)\n",
        "y = np.linspace(0, 5, 50)[:, np.newaxis]\n",
        "\n",
        "z = np.sin(x) ** 10 + np.cos(10 + y * x) * np.cos(x)\n",
        "print(z)\n",
        "z.shape"
      ]
    },
    {
      "cell_type": "code",
      "execution_count": null,
      "metadata": {
        "id": "gkdebaYLXKuq"
      },
      "outputs": [],
      "source": [
        "%matplotlib inline\n",
        "import matplotlib.pyplot as plt"
      ]
    },
    {
      "cell_type": "code",
      "execution_count": null,
      "metadata": {
        "id": "Z_M_3oNjXKur",
        "outputId": "bf7c64eb-7770-418c-f385-b52e99fa2109"
      },
      "outputs": [
        {
          "data": {
            "image/png": "[encoded data removed]",
            "text/plain": [
              "<Figure size 432x288 with 2 Axes>"
            ]
          },
          "metadata": {
            "needs_background": "light"
          },
          "output_type": "display_data"
        }
      ],
      "source": [
        "plt.imshow(z, origin='lower', extent=[0, 5, 0, 5], cmap='plasma')\n",
        "plt.colorbar();"
      ]
    },
    {
      "cell_type": "markdown",
      "metadata": {
        "id": "WRDJKH9SXKur"
      },
      "source": [
        "The result is a compelling visualization of the two-dimensional function."
      ]
    },
    {
      "cell_type": "markdown",
      "metadata": {
        "id": "7lD2dXgEkMuU"
      },
      "source": [
        "# Histograms\n",
        "\n",
        "The NumPy histogram function applied to an array returns a pair of vectors: the histogram of the array and the vector of bins. Beware: matplotlib also has a function to build histograms (called hist, as in Matlab) that differs from the one in NumPy. The main difference is that pylab.hist plots the histogram automatically, while numpy.histogram only generates the data."
      ]
    },
    {
      "cell_type": "code",
      "execution_count": null,
      "metadata": {
        "id": "C4HjDEOekMuU",
        "outputId": "f3ccc763-9ee5-4bd4-c750-f8c510c59558"
      },
      "outputs": [
        {
          "data": {
            "image/png": "[encoded data removed]",
            "text/plain": [
              "<Figure size 432x288 with 1 Axes>"
            ]
          },
          "metadata": {},
          "output_type": "display_data"
        }
      ],
      "source": [
        "import matplotlib.pyplot as plt\n",
        "import seaborn; seaborn.set()\n",
        "\n",
        "# Build a vector of 10000 normal deviates with variance 0.5^2 and mean 2\n",
        "mu, sigma = 2, 0.5\n",
        "v = np.random.normal(mu,sigma,10000)\n",
        "# Plot a normalized histogram with 50 bins\n",
        "plt.hist(v, bins=50, density=1)       # matplotlib version (plot)\n",
        "plt.show()"
      ]
    },
    {
      "cell_type": "code",
      "execution_count": null,
      "metadata": {
        "id": "DK74XUuXkMuV",
        "outputId": "435cb39f-bdc9-4685-8225-9df0af2bc398"
      },
      "outputs": [
        {
          "name": "stdout",
          "output_type": "stream",
          "text": [
            "[0.00131394 0.         0.         0.         0.00525575 0.00131394\n",
            " 0.00788362 0.00656968 0.0144533  0.02890661 0.0499296  0.06306896\n",
            " 0.07095258 0.11694037 0.15504454 0.20234626 0.20891594 0.32585631\n",
            " 0.4112622  0.39812283 0.48352872 0.54922556 0.70032829 0.68587498\n",
            " 0.77522268 0.81726866 0.79230386 0.7436882  0.77653662 0.67142168\n",
            " 0.71215372 0.61229452 0.50586565 0.47301723 0.43754094 0.31928663\n",
            " 0.26278735 0.20760201 0.1786954  0.11825431 0.06963865 0.06044109\n",
            " 0.03679023 0.0249648  0.0249648  0.00788362 0.01182543 0.00788362\n",
            " 0.00131394 0.00262787] [-0.03007967  0.04602749  0.12213466  0.19824182  0.27434899  0.35045615\n",
            "  0.42656331  0.50267048  0.57877764  0.65488481  0.73099197  0.80709914\n",
            "  0.8832063   0.95931346  1.03542063  1.11152779  1.18763496  1.26374212\n",
            "  1.33984929  1.41595645  1.49206361  1.56817078  1.64427794  1.72038511\n",
            "  1.79649227  1.87259944  1.9487066   2.02481376  2.10092093  2.17702809\n",
            "  2.25313526  2.32924242  2.40534959  2.48145675  2.55756391  2.63367108\n",
            "  2.70977824  2.78588541  2.86199257  2.93809974  3.0142069   3.09031406\n",
            "  3.16642123  3.24252839  3.31863556  3.39474272  3.47084989  3.54695705\n",
            "  3.62306421  3.69917138  3.77527854]\n"
          ]
        }
      ],
      "source": [
        "# Compute the histogram with numpy and then plot it\n",
        "(n, bins) = np.histogram(v, bins=50, density=True)  # NumPy version (no plot)\n",
        "print(n, bins)\n"
      ]
    },
    {
      "cell_type": "code",
      "execution_count": null,
      "metadata": {
        "id": "MoEmv56ukMuW",
        "outputId": "6786b889-d2c2-4e5f-f173-751e84a60514"
      },
      "outputs": [
        {
          "data": {
            "image/png": "[encoded data removed]",
            "text/plain": [
              "<Figure size 432x288 with 1 Axes>"
            ]
          },
          "metadata": {},
          "output_type": "display_data"
        }
      ],
      "source": [
        "plt.plot(.5*(bins[1:]+bins[:-1]), n)\n",
        "plt.show()"
      ]
    },
    {
      "cell_type": "code",
      "execution_count": null,
      "metadata": {
        "id": "ujm8KcM2kMuX"
      },
      "outputs": [],
      "source": [
        ""
      ]
    }
  ],
  "metadata": {
    "anaconda-cloud": {},
    "colab": {
      "name": "02_05_Computation_on_arrays_broadcasting.ipynb",
      "provenance": [],
      "include_colab_link": true
    },
    "kernelspec": {
      "display_name": "Python 3 (ipykernel)",
      "language": "python",
      "name": "python3"
    },
    "language_info": {
      "codemirror_mode": {
        "name": "ipython",
        "version": 3
      },
      "file_extension": ".py",
      "mimetype": "text/x-python",
      "name": "python",
      "nbconvert_exporter": "python",
      "pygments_lexer": "ipython3",
      "version": "3.9.7"
    }
  },
  "nbformat": 4,
  "nbformat_minor": 0
}