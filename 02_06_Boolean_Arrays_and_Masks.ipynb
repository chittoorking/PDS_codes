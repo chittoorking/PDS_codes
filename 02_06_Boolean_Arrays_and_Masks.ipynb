{
  "cells": [
    {
      "cell_type": "markdown",
      "metadata": {
        "id": "view-in-github",
        "colab_type": "text"
      },
      "source": [
        "<a href=\"https://colab.research.google.com/github/chittoorking/PDS_codes/blob/main/02_06_Boolean_Arrays_and_Masks.ipynb\" target=\"_parent\"><img src=\"https://colab.research.google.com/assets/colab-badge.svg\" alt=\"Open In Colab\"/></a>"
      ]
    },
    {
      "cell_type": "markdown",
      "metadata": {
        "id": "qVeCM_pLX2SB"
      },
      "source": [
        "# Comparisons, Masks, and Boolean Logic"
      ]
    },
    {
      "cell_type": "markdown",
      "metadata": {
        "id": "omHLAeMjX2SC"
      },
      "source": [
        "This section covers the use of Boolean masks to examine and manipulate values within NumPy arrays.\n",
        "Masking comes up when you want to extract, modify, count, or otherwise manipulate values in an array based on some criterion: for example, you might wish to count all values greater than a certain value, or perhaps remove all outliers that are above some threshold.\n",
        "In NumPy, Boolean masking is often the most efficient way to accomplish these types of tasks."
      ]
    },
    {
      "cell_type": "markdown",
      "metadata": {
        "id": "0DX6R7UfX2SC"
      },
      "source": [
        "## Example: Counting Rainy Days\n",
        "\n",
        "Imagine you have a series of data that represents the amount of precipitation each day for a year in a given city.\n",
        "For example, here we'll load the daily rainfall statistics for the city of Seattle in 2014, using Pandas (which is covered in more detail in [Chapter 3]:"
      ]
    },
    {
      "cell_type": "code",
      "execution_count": null,
      "metadata": {
        "id": "M3JQW6sSX2SD",
        "outputId": "4d369321-7b74-4f0d-c52f-a428f4c35719"
      },
      "outputs": [
        {
          "name": "stdout",
          "output_type": "stream",
          "text": [
            "Download ready.\n"
          ]
        }
      ],
      "source": [
        "import numpy as np\n",
        "import pandas as pd\n",
        "import requests\n",
        "\n",
        "\n",
        "data_url ='https://raw.githubusercontent.com/jakevdp/PythonDataScienceHandbook/master/notebooks/data/Seattle2014.csv'\n",
        "target_csv_path = \"Seattle2014.csv\"\n",
        "\n",
        "response = requests.get(data_url)\n",
        "response.raise_for_status()    # Check that the request was successful\n",
        "with open(target_csv_path, \"wb\") as f:\n",
        "    f.write(response.content)\n",
        "print(\"Download ready.\")"
      ]
    },
    {
      "cell_type": "code",
      "execution_count": null,
      "metadata": {
        "id": "dy1mzD_tkaDJ",
        "outputId": "ab6450a4-f568-4e86-97db-c86b6d6246b9"
      },
      "outputs": [
        {
          "name": "stdout",
          "output_type": "stream",
          "text": [
            "STATION,STATION_NAME,DATE,PRCP,SNWD,SNOW,TMAX,TMIN,AWND,WDF2,WDF5,WSF2,WSF5,WT01,WT05,WT02,WT03\r\n",
            "GHCND:USW00024233,SEATTLE TACOMA INTERNATIONAL AIRPORT WA US,20140101,0,0,0,72,33,12,340,310,36,40,-9999,-9999,-9999,-9999\r\n",
            "GHCND:USW00024233,SEATTLE TACOMA INTERNATIONAL AIRPORT WA US,20140102,41,0,0,106,61,32,190,200,94,116,-9999,-9999,-9999,-9999\r\n",
            "GHCND:USW00024233,SEATTLE TACOMA INTERNATIONAL AIRPORT WA US,20140103,15,0,0,89,28,26,30,50,63,72,1,-9999,-9999,-9999\r\n"
          ]
        }
      ],
      "source": [
        "!head -4 Seattle2014.csv"
      ]
    },
    {
      "cell_type": "code",
      "execution_count": null,
      "metadata": {
        "id": "wh70Cy3lkaDL",
        "outputId": "6d8db70f-2bde-4b18-8757-a67d334bca8f"
      },
      "outputs": [
        {
          "data": {
            "text/plain": [
              "(365, 17)"
            ]
          },
          "execution_count": 3,
          "metadata": {},
          "output_type": "execute_result"
        }
      ],
      "source": [
        "data = pd.read_csv('Seattle2014.csv')\n",
        "data.shape"
      ]
    },
    {
      "cell_type": "code",
      "execution_count": null,
      "metadata": {
        "id": "ntuz0T8XkaDO",
        "outputId": "b50c63db-8060-48a0-dcde-d6e5856d1ac1"
      },
      "outputs": [
        {
          "data": {
            "text/plain": [
              "<bound method DataFrame.info of                STATION                                STATION_NAME      DATE  \\\n",
              "0    GHCND:USW00024233  SEATTLE TACOMA INTERNATIONAL AIRPORT WA US  20140101   \n",
              "1    GHCND:USW00024233  SEATTLE TACOMA INTERNATIONAL AIRPORT WA US  20140102   \n",
              "2    GHCND:USW00024233  SEATTLE TACOMA INTERNATIONAL AIRPORT WA US  20140103   \n",
              "3    GHCND:USW00024233  SEATTLE TACOMA INTERNATIONAL AIRPORT WA US  20140104   \n",
              "4    GHCND:USW00024233  SEATTLE TACOMA INTERNATIONAL AIRPORT WA US  20140105   \n",
              "..                 ...                                         ...       ...   \n",
              "360  GHCND:USW00024233  SEATTLE TACOMA INTERNATIONAL AIRPORT WA US  20141227   \n",
              "361  GHCND:USW00024233  SEATTLE TACOMA INTERNATIONAL AIRPORT WA US  20141228   \n",
              "362  GHCND:USW00024233  SEATTLE TACOMA INTERNATIONAL AIRPORT WA US  20141229   \n",
              "363  GHCND:USW00024233  SEATTLE TACOMA INTERNATIONAL AIRPORT WA US  20141230   \n",
              "364  GHCND:USW00024233  SEATTLE TACOMA INTERNATIONAL AIRPORT WA US  20141231   \n",
              "\n",
              "     PRCP  SNWD  SNOW  TMAX  TMIN  AWND  WDF2  WDF5  WSF2  WSF5  WT01  WT05  \\\n",
              "0       0     0     0    72    33    12   340   310    36    40 -9999 -9999   \n",
              "1      41     0     0   106    61    32   190   200    94   116 -9999 -9999   \n",
              "2      15     0     0    89    28    26    30    50    63    72     1 -9999   \n",
              "3       0     0     0    78     6    27    40    40    45    58     1 -9999   \n",
              "4       0     0     0    83    -5    37    10    10    67    76 -9999 -9999   \n",
              "..    ...   ...   ...   ...   ...   ...   ...   ...   ...   ...   ...   ...   \n",
              "360    33     0     0    94    44    49   210   210   112   161     1 -9999   \n",
              "361    41     0     0    67    28    18    50    30    58    72     1 -9999   \n",
              "362     0     0     0    61     6    43   350   350    76   103     1 -9999   \n",
              "363     0     0     0    33   -21    36    90    70    63    76 -9999 -9999   \n",
              "364     0     0     0    33   -27    30    30 -9999    58 -9999 -9999 -9999   \n",
              "\n",
              "     WT02  WT03  \n",
              "0   -9999 -9999  \n",
              "1   -9999 -9999  \n",
              "2   -9999 -9999  \n",
              "3   -9999 -9999  \n",
              "4   -9999 -9999  \n",
              "..    ...   ...  \n",
              "360 -9999 -9999  \n",
              "361 -9999 -9999  \n",
              "362 -9999 -9999  \n",
              "363 -9999 -9999  \n",
              "364 -9999 -9999  \n",
              "\n",
              "[365 rows x 17 columns]>"
            ]
          },
          "execution_count": 4,
          "metadata": {},
          "output_type": "execute_result"
        }
      ],
      "source": [
        "data.info"
      ]
    },
    {
      "cell_type": "code",
      "execution_count": null,
      "metadata": {
        "id": "oh64Z-__kaDQ",
        "outputId": "7f39bcae-f825-480b-f8ec-360f8286a8a7"
      },
      "outputs": [
        {
          "data": {
            "text/html": [
              "<div>\n",
              "<style scoped>\n",
              "    .dataframe tbody tr th:only-of-type {\n",
              "        vertical-align: middle;\n",
              "    }\n",
              "\n",
              "    .dataframe tbody tr th {\n",
              "        vertical-align: top;\n",
              "    }\n",
              "\n",
              "    .dataframe thead th {\n",
              "        text-align: right;\n",
              "    }\n",
              "</style>\n",
              "<table border=\"1\" class=\"dataframe\">\n",
              "  <thead>\n",
              "    <tr style=\"text-align: right;\">\n",
              "      <th></th>\n",
              "      <th>STATION</th>\n",
              "      <th>STATION_NAME</th>\n",
              "      <th>DATE</th>\n",
              "      <th>PRCP</th>\n",
              "      <th>SNWD</th>\n",
              "      <th>SNOW</th>\n",
              "      <th>TMAX</th>\n",
              "      <th>TMIN</th>\n",
              "      <th>AWND</th>\n",
              "      <th>WDF2</th>\n",
              "      <th>WDF5</th>\n",
              "      <th>WSF2</th>\n",
              "      <th>WSF5</th>\n",
              "      <th>WT01</th>\n",
              "      <th>WT05</th>\n",
              "      <th>WT02</th>\n",
              "      <th>WT03</th>\n",
              "    </tr>\n",
              "  </thead>\n",
              "  <tbody>\n",
              "    <tr>\n",
              "      <th>0</th>\n",
              "      <td>GHCND:USW00024233</td>\n",
              "      <td>SEATTLE TACOMA INTERNATIONAL AIRPORT WA US</td>\n",
              "      <td>20140101</td>\n",
              "      <td>0</td>\n",
              "      <td>0</td>\n",
              "      <td>0</td>\n",
              "      <td>72</td>\n",
              "      <td>33</td>\n",
              "      <td>12</td>\n",
              "      <td>340</td>\n",
              "      <td>310</td>\n",
              "      <td>36</td>\n",
              "      <td>40</td>\n",
              "      <td>-9999</td>\n",
              "      <td>-9999</td>\n",
              "      <td>-9999</td>\n",
              "      <td>-9999</td>\n",
              "    </tr>\n",
              "    <tr>\n",
              "      <th>1</th>\n",
              "      <td>GHCND:USW00024233</td>\n",
              "      <td>SEATTLE TACOMA INTERNATIONAL AIRPORT WA US</td>\n",
              "      <td>20140102</td>\n",
              "      <td>41</td>\n",
              "      <td>0</td>\n",
              "      <td>0</td>\n",
              "      <td>106</td>\n",
              "      <td>61</td>\n",
              "      <td>32</td>\n",
              "      <td>190</td>\n",
              "      <td>200</td>\n",
              "      <td>94</td>\n",
              "      <td>116</td>\n",
              "      <td>-9999</td>\n",
              "      <td>-9999</td>\n",
              "      <td>-9999</td>\n",
              "      <td>-9999</td>\n",
              "    </tr>\n",
              "    <tr>\n",
              "      <th>2</th>\n",
              "      <td>GHCND:USW00024233</td>\n",
              "      <td>SEATTLE TACOMA INTERNATIONAL AIRPORT WA US</td>\n",
              "      <td>20140103</td>\n",
              "      <td>15</td>\n",
              "      <td>0</td>\n",
              "      <td>0</td>\n",
              "      <td>89</td>\n",
              "      <td>28</td>\n",
              "      <td>26</td>\n",
              "      <td>30</td>\n",
              "      <td>50</td>\n",
              "      <td>63</td>\n",
              "      <td>72</td>\n",
              "      <td>1</td>\n",
              "      <td>-9999</td>\n",
              "      <td>-9999</td>\n",
              "      <td>-9999</td>\n",
              "    </tr>\n",
              "    <tr>\n",
              "      <th>3</th>\n",
              "      <td>GHCND:USW00024233</td>\n",
              "      <td>SEATTLE TACOMA INTERNATIONAL AIRPORT WA US</td>\n",
              "      <td>20140104</td>\n",
              "      <td>0</td>\n",
              "      <td>0</td>\n",
              "      <td>0</td>\n",
              "      <td>78</td>\n",
              "      <td>6</td>\n",
              "      <td>27</td>\n",
              "      <td>40</td>\n",
              "      <td>40</td>\n",
              "      <td>45</td>\n",
              "      <td>58</td>\n",
              "      <td>1</td>\n",
              "      <td>-9999</td>\n",
              "      <td>-9999</td>\n",
              "      <td>-9999</td>\n",
              "    </tr>\n",
              "    <tr>\n",
              "      <th>4</th>\n",
              "      <td>GHCND:USW00024233</td>\n",
              "      <td>SEATTLE TACOMA INTERNATIONAL AIRPORT WA US</td>\n",
              "      <td>20140105</td>\n",
              "      <td>0</td>\n",
              "      <td>0</td>\n",
              "      <td>0</td>\n",
              "      <td>83</td>\n",
              "      <td>-5</td>\n",
              "      <td>37</td>\n",
              "      <td>10</td>\n",
              "      <td>10</td>\n",
              "      <td>67</td>\n",
              "      <td>76</td>\n",
              "      <td>-9999</td>\n",
              "      <td>-9999</td>\n",
              "      <td>-9999</td>\n",
              "      <td>-9999</td>\n",
              "    </tr>\n",
              "  </tbody>\n",
              "</table>\n",
              "</div>"
            ],
            "text/plain": [
              "             STATION                                STATION_NAME      DATE  \\\n",
              "0  GHCND:USW00024233  SEATTLE TACOMA INTERNATIONAL AIRPORT WA US  20140101   \n",
              "1  GHCND:USW00024233  SEATTLE TACOMA INTERNATIONAL AIRPORT WA US  20140102   \n",
              "2  GHCND:USW00024233  SEATTLE TACOMA INTERNATIONAL AIRPORT WA US  20140103   \n",
              "3  GHCND:USW00024233  SEATTLE TACOMA INTERNATIONAL AIRPORT WA US  20140104   \n",
              "4  GHCND:USW00024233  SEATTLE TACOMA INTERNATIONAL AIRPORT WA US  20140105   \n",
              "\n",
              "   PRCP  SNWD  SNOW  TMAX  TMIN  AWND  WDF2  WDF5  WSF2  WSF5  WT01  WT05  \\\n",
              "0     0     0     0    72    33    12   340   310    36    40 -9999 -9999   \n",
              "1    41     0     0   106    61    32   190   200    94   116 -9999 -9999   \n",
              "2    15     0     0    89    28    26    30    50    63    72     1 -9999   \n",
              "3     0     0     0    78     6    27    40    40    45    58     1 -9999   \n",
              "4     0     0     0    83    -5    37    10    10    67    76 -9999 -9999   \n",
              "\n",
              "   WT02  WT03  \n",
              "0 -9999 -9999  \n",
              "1 -9999 -9999  \n",
              "2 -9999 -9999  \n",
              "3 -9999 -9999  \n",
              "4 -9999 -9999  "
            ]
          },
          "execution_count": 5,
          "metadata": {},
          "output_type": "execute_result"
        }
      ],
      "source": [
        "data.head(5)"
      ]
    },
    {
      "cell_type": "code",
      "execution_count": null,
      "metadata": {
        "id": "GaYOfyy8kaDS",
        "outputId": "78a90e1e-dedf-4b5d-dc5e-6c2470c8f183"
      },
      "outputs": [
        {
          "data": {
            "text/plain": [
              "467"
            ]
          },
          "execution_count": 6,
          "metadata": {},
          "output_type": "execute_result"
        }
      ],
      "source": [
        "rainfall = data['PRCP'].values\n",
        "rainfall.max()"
      ]
    },
    {
      "cell_type": "code",
      "execution_count": null,
      "metadata": {
        "id": "xZQwCQphkaDV",
        "outputId": "e552c4c3-91b8-4cd0-aa7d-fc8a745a4982"
      },
      "outputs": [
        {
          "data": {
            "text/plain": [
              "(365,)"
            ]
          },
          "execution_count": 7,
          "metadata": {},
          "output_type": "execute_result"
        }
      ],
      "source": [
        "inches = rainfall / 254.0  # 1/10mm -> inches\n",
        "#inches = rainfall\n",
        "inches.shape"
      ]
    },
    {
      "cell_type": "markdown",
      "metadata": {
        "id": "UU7huVurX2SE"
      },
      "source": [
        "The array contains 365 values, giving daily rainfall in inches from January 1 to December 31, 2014.\n",
        "\n",
        "As a first quick visualization, let's look at the histogram of rainy days, which was generated using Matplotlib."
      ]
    },
    {
      "cell_type": "code",
      "execution_count": null,
      "metadata": {
        "id": "PNRgiOSEX2SE"
      },
      "outputs": [],
      "source": [
        "%matplotlib inline\n",
        "import matplotlib.pyplot as plt\n",
        "import seaborn; seaborn.set()  # set plot styles"
      ]
    },
    {
      "cell_type": "code",
      "execution_count": null,
      "metadata": {
        "id": "kdqSDHGwX2SF",
        "outputId": "04eaeca3-9142-4c8b-9b50-81407a5033a3"
      },
      "outputs": [
        {
          "data": {
            "image/png": "[encoded data removed]",
            "text/plain": [
              "<Figure size 432x288 with 1 Axes>"
            ]
          },
          "metadata": {},
          "output_type": "display_data"
        }
      ],
      "source": [
        "plt.hist(inches, 30);"
      ]
    },
    {
      "cell_type": "markdown",
      "metadata": {
        "id": "BjhSpZzWX2SF"
      },
      "source": [
        "This histogram gives us a general idea of what the data looks like: despite its reputation, the vast majority of days in Seattle saw near zero measured rainfall in 2014.\n",
        "But this doesn't do a good job of conveying some information we'd like to see: for example, how many rainy days were there in the year? What is the average precipitation on those rainy days? How many days were there with more than half an inch of rain?"
      ]
    },
    {
      "cell_type": "markdown",
      "metadata": {
        "id": "EnxtIauoX2SG"
      },
      "source": [
        "### Digging into the data\n",
        "\n",
        "One approach to this would be to answer these questions by hand: loop through the data, incrementing a counter each time we see values in some desired range.\n",
        "For reasons discussed throughout this chapter, such an approach is very inefficient, both from the standpoint of time writing code and time computing the result.\n",
        "We saw in [Computation on NumPy Arrays: Universal Functions] that NumPy's ufuncs can be used in place of loops to do fast element-wise arithmetic operations on arrays; in the same way, we can use other ufuncs to do element-wise *comparisons* over arrays, and we can then manipulate the results to answer the questions we have.\n",
        "We'll leave the data aside for right now, and discuss some general tools in NumPy to use *masking* to quickly answer these types of questions."
      ]
    },
    {
      "cell_type": "markdown",
      "metadata": {
        "id": "UmQNWeGKX2SG"
      },
      "source": [
        "## Comparison Operators as ufuncs\n",
        "\n",
        "In [Computation on NumPy Arrays: Universal Functions] we introduced ufuncs, and focused in particular on arithmetic operators. We saw that using ``+``, ``-``, ``*``, ``/``, and others on arrays leads to element-wise operations.\n",
        "NumPy also implements comparison operators such as ``<`` (less than) and ``>`` (greater than) as element-wise ufuncs.\n",
        "The result of these comparison operators is always an array with a Boolean data type.\n",
        "All six of the standard comparison operations are available:"
      ]
    },
    {
      "cell_type": "code",
      "execution_count": null,
      "metadata": {
        "id": "DlCPRLGzX2SG"
      },
      "outputs": [],
      "source": [
        "x = np.array([1, 2, 3, 4, 5])"
      ]
    },
    {
      "cell_type": "code",
      "execution_count": null,
      "metadata": {
        "id": "_oIcZIY6kaDh",
        "outputId": "a5ad9b36-0f5d-4003-803d-08c54cf5b76b"
      },
      "outputs": [
        {
          "data": {
            "text/plain": [
              "array([1, 2])"
            ]
          },
          "execution_count": 26,
          "metadata": {},
          "output_type": "execute_result"
        }
      ],
      "source": [
        "x[x<3]"
      ]
    },
    {
      "cell_type": "code",
      "execution_count": null,
      "metadata": {
        "id": "0SdCS5i7X2SG",
        "outputId": "2c3c3e78-3e04-4992-f29a-bf2bd9904600"
      },
      "outputs": [
        {
          "data": {
            "text/plain": [
              "array([ True,  True, False, False, False])"
            ]
          },
          "execution_count": 11,
          "metadata": {},
          "output_type": "execute_result"
        }
      ],
      "source": [
        "x < 3  # less than"
      ]
    },
    {
      "cell_type": "code",
      "execution_count": null,
      "metadata": {
        "id": "DsyScDwHX2SH",
        "outputId": "4b4125d3-622a-4faa-f38c-58f589ec7581"
      },
      "outputs": [
        {
          "data": {
            "text/plain": [
              "array([False, False, False,  True,  True])"
            ]
          },
          "execution_count": 12,
          "metadata": {},
          "output_type": "execute_result"
        }
      ],
      "source": [
        "x > 3  # greater than"
      ]
    },
    {
      "cell_type": "code",
      "execution_count": null,
      "metadata": {
        "id": "E1cUly8eX2SH",
        "outputId": "509819bc-97ef-4fc2-ad84-0a946b463bde"
      },
      "outputs": [
        {
          "data": {
            "text/plain": [
              "array([ True,  True,  True, False, False])"
            ]
          },
          "execution_count": 13,
          "metadata": {},
          "output_type": "execute_result"
        }
      ],
      "source": [
        "x <= 3  # less than or equal"
      ]
    },
    {
      "cell_type": "code",
      "execution_count": null,
      "metadata": {
        "id": "6xPm_dfGX2SH",
        "outputId": "683ab03d-bf1b-4f5a-8e8a-6cf0259505ba"
      },
      "outputs": [
        {
          "data": {
            "text/plain": [
              "array([False, False,  True,  True,  True])"
            ]
          },
          "execution_count": 14,
          "metadata": {},
          "output_type": "execute_result"
        }
      ],
      "source": [
        "x >= 3  # greater than or equal"
      ]
    },
    {
      "cell_type": "code",
      "execution_count": null,
      "metadata": {
        "id": "On_-ZwhbX2SI",
        "outputId": "ab8a10a4-721c-4de8-d3f0-c80321b93f6c"
      },
      "outputs": [
        {
          "data": {
            "text/plain": [
              "array([ True,  True, False,  True,  True])"
            ]
          },
          "execution_count": 15,
          "metadata": {},
          "output_type": "execute_result"
        }
      ],
      "source": [
        "x != 3  # not equal"
      ]
    },
    {
      "cell_type": "code",
      "execution_count": null,
      "metadata": {
        "id": "KskK1C3sX2SI",
        "outputId": "49c7372d-e4c8-4dcf-c5b5-f78ad0e567e2"
      },
      "outputs": [
        {
          "data": {
            "text/plain": [
              "array([False, False,  True, False, False])"
            ]
          },
          "execution_count": 16,
          "metadata": {},
          "output_type": "execute_result"
        }
      ],
      "source": [
        "x == 3  # equal"
      ]
    },
    {
      "cell_type": "markdown",
      "metadata": {
        "id": "zauUD_WPX2SI"
      },
      "source": [
        "It is also possible to do an element-wise comparison of two arrays, and to include compound expressions:"
      ]
    },
    {
      "cell_type": "code",
      "execution_count": null,
      "metadata": {
        "id": "COKHs9ipX2SJ",
        "outputId": "36897f5b-60b2-4571-f7b1-0cf2d0ffe19d"
      },
      "outputs": [
        {
          "data": {
            "text/plain": [
              "array([False,  True, False, False, False])"
            ]
          },
          "execution_count": 17,
          "metadata": {},
          "output_type": "execute_result"
        }
      ],
      "source": [
        "(2 * x) == (x ** 2)"
      ]
    },
    {
      "cell_type": "markdown",
      "metadata": {
        "id": "eZVggMG7X2SJ"
      },
      "source": [
        "As in the case of arithmetic operators, the comparison operators are implemented as ufuncs in NumPy; for example, when you write ``x < 3``, internally NumPy uses ``np.less(x, 3)``.\n",
        "    A summary of the comparison operators and their equivalent ufunc is shown here:\n",
        "\n",
        "| Operator\t    | Equivalent ufunc    || Operator\t   | Equivalent ufunc    |\n",
        "|---------------|---------------------||---------------|---------------------|\n",
        "|``==``         |``np.equal``         ||``!=``         |``np.not_equal``     |\n",
        "|``<``          |``np.less``          ||``<=``         |``np.less_equal``    |\n",
        "|``>``          |``np.greater``       ||``>=``         |``np.greater_equal`` |"
      ]
    },
    {
      "cell_type": "markdown",
      "metadata": {
        "id": "8A0dEz1VX2SJ"
      },
      "source": [
        "Just as in the case of arithmetic ufuncs, these will work on arrays of any size and shape.\n",
        "Here is a two-dimensional example:"
      ]
    },
    {
      "cell_type": "code",
      "execution_count": null,
      "metadata": {
        "id": "xJZB_1NwX2SK",
        "outputId": "db60c774-c659-4bfc-9b0a-70bcfb2eef48"
      },
      "outputs": [
        {
          "data": {
            "text/plain": [
              "RandomState(MT19937) at 0x7FC6092FA240"
            ]
          },
          "execution_count": 19,
          "metadata": {},
          "output_type": "execute_result"
        }
      ],
      "source": [
        "rng = np.random.RandomState(0) #Mersenne Twister pseudo-random number generator. \n",
        "rng"
      ]
    },
    {
      "cell_type": "code",
      "execution_count": null,
      "metadata": {
        "id": "kQv14EcRkaDt",
        "outputId": "7ed90b0c-71c3-476d-e09f-c2b48745e3ea"
      },
      "outputs": [
        {
          "data": {
            "text/plain": [
              "array([[8, 8, 1, 6],\n",
              "       [7, 7, 8, 1],\n",
              "       [5, 9, 8, 9]])"
            ]
          },
          "execution_count": 27,
          "metadata": {},
          "output_type": "execute_result"
        }
      ],
      "source": [
        "x = rng.randint(10, size=(3, 4))\n",
        "x"
      ]
    },
    {
      "cell_type": "code",
      "execution_count": null,
      "metadata": {
        "id": "pUjfLDC-X2SK",
        "outputId": "d7a3dbdd-553b-4fbc-82bb-3d3c45bde8df"
      },
      "outputs": [
        {
          "data": {
            "text/plain": [
              "array([[False, False,  True, False],\n",
              "       [False, False, False,  True],\n",
              "       [ True, False, False, False]])"
            ]
          },
          "execution_count": 28,
          "metadata": {},
          "output_type": "execute_result"
        }
      ],
      "source": [
        "x < 6"
      ]
    },
    {
      "cell_type": "markdown",
      "metadata": {
        "id": "K_HpBph0X2SK"
      },
      "source": [
        "In each case, the result is a Boolean array, and NumPy provides a number of straightforward patterns for working with these Boolean results."
      ]
    },
    {
      "cell_type": "markdown",
      "metadata": {
        "id": "3DCYLfJxX2SK"
      },
      "source": [
        "## Working with Boolean Arrays\n",
        "\n",
        "Given a Boolean array, there are a host of useful operations you can do.\n",
        "We'll work with ``x``, the two-dimensional array we created earlier."
      ]
    },
    {
      "cell_type": "code",
      "execution_count": null,
      "metadata": {
        "id": "_39xJUmxX2SK",
        "outputId": "8ce3aaa1-d8f5-4a59-fa97-a69ad88c9e53"
      },
      "outputs": [
        {
          "name": "stdout",
          "output_type": "stream",
          "text": [
            "[[8 8 1 6]\n",
            " [7 7 8 1]\n",
            " [5 9 8 9]]\n"
          ]
        }
      ],
      "source": [
        "print(x)"
      ]
    },
    {
      "cell_type": "markdown",
      "metadata": {
        "id": "3dQqHdRyX2SL"
      },
      "source": [
        "### Counting entries\n",
        "\n",
        "To count the number of ``True`` entries in a Boolean array, ``np.count_nonzero`` is useful:"
      ]
    },
    {
      "cell_type": "code",
      "execution_count": null,
      "metadata": {
        "id": "RV44Y1dCX2SL",
        "outputId": "2eead531-bf68-4c41-874c-b2ea226d9def"
      },
      "outputs": [
        {
          "data": {
            "text/plain": [
              "3"
            ]
          },
          "execution_count": 30,
          "metadata": {},
          "output_type": "execute_result"
        }
      ],
      "source": [
        "# how many values less than 6?\n",
        "np.count_nonzero(x < 6)"
      ]
    },
    {
      "cell_type": "markdown",
      "metadata": {
        "id": "exSAorlQX2SL"
      },
      "source": [
        "We see that there are eight array entries that are less than 6.\n",
        "Another way to get at this information is to use ``np.sum``; in this case, ``False`` is interpreted as ``0``, and ``True`` is interpreted as ``1``:"
      ]
    },
    {
      "cell_type": "code",
      "execution_count": null,
      "metadata": {
        "id": "E3fifetjX2SL",
        "outputId": "ac3a09de-08b7-4de0-edf7-e72157a2727a"
      },
      "outputs": [
        {
          "data": {
            "text/plain": [
              "3"
            ]
          },
          "execution_count": 31,
          "metadata": {},
          "output_type": "execute_result"
        }
      ],
      "source": [
        "np.sum(x < 6)"
      ]
    },
    {
      "cell_type": "markdown",
      "metadata": {
        "id": "wwEASiUQX2SM"
      },
      "source": [
        "The benefit of ``sum()`` is that like with other NumPy aggregation functions, this summation can be done along rows or columns as well:"
      ]
    },
    {
      "cell_type": "code",
      "execution_count": null,
      "metadata": {
        "id": "T0ZUnZd2X2SM",
        "outputId": "71b18d46-dba8-418a-af3f-5278876b4674"
      },
      "outputs": [
        {
          "data": {
            "text/plain": [
              "array([1, 1, 1])"
            ]
          },
          "execution_count": 32,
          "metadata": {},
          "output_type": "execute_result"
        }
      ],
      "source": [
        "# how many values less than 6 in each row?\n",
        "np.sum(x < 6, axis=1)"
      ]
    },
    {
      "cell_type": "markdown",
      "metadata": {
        "id": "JL4q_3E4X2SM"
      },
      "source": [
        "This counts the number of values less than 6 in each row of the matrix.\n",
        "\n",
        "If we're interested in quickly checking whether any or all the values are true, we can use (you guessed it) ``np.any`` or ``np.all``:"
      ]
    },
    {
      "cell_type": "code",
      "execution_count": null,
      "metadata": {
        "id": "pSRvtKVEX2SM",
        "outputId": "8ded80af-7949-4c4e-865c-aae6977b5b2a"
      },
      "outputs": [
        {
          "data": {
            "text/plain": [
              "True"
            ]
          },
          "execution_count": 33,
          "metadata": {},
          "output_type": "execute_result"
        }
      ],
      "source": [
        "# are there any values greater than 8?\n",
        "np.any(x > 8)"
      ]
    },
    {
      "cell_type": "code",
      "execution_count": null,
      "metadata": {
        "id": "gnQZUXIwX2SM",
        "outputId": "82ffa7fb-e5a5-49f5-d8e5-cc990f7922df"
      },
      "outputs": [
        {
          "data": {
            "text/plain": [
              "False"
            ]
          },
          "execution_count": 34,
          "metadata": {},
          "output_type": "execute_result"
        }
      ],
      "source": [
        "# are there any values less than zero?\n",
        "np.any(x <= 0)"
      ]
    },
    {
      "cell_type": "code",
      "execution_count": null,
      "metadata": {
        "id": "78nj2WFMX2SN",
        "outputId": "a6d8328e-930c-431a-b8d8-330762707d3b"
      },
      "outputs": [
        {
          "data": {
            "text/plain": [
              "True"
            ]
          },
          "execution_count": 35,
          "metadata": {},
          "output_type": "execute_result"
        }
      ],
      "source": [
        "# are all values less than 10?\n",
        "np.all(x < 10)"
      ]
    },
    {
      "cell_type": "code",
      "execution_count": null,
      "metadata": {
        "id": "Jd9jN-BiX2SN",
        "outputId": "868f8f64-48ba-40ed-e979-5c5491f0d25d"
      },
      "outputs": [
        {
          "data": {
            "text/plain": [
              "False"
            ]
          },
          "execution_count": 36,
          "metadata": {},
          "output_type": "execute_result"
        }
      ],
      "source": [
        "# are all values equal to 6?\n",
        "np.all(x == 6)"
      ]
    },
    {
      "cell_type": "markdown",
      "metadata": {
        "id": "59adGMrwX2SN"
      },
      "source": [
        "``np.all`` and ``np.any`` can be used along particular axes as well. For example:"
      ]
    },
    {
      "cell_type": "code",
      "execution_count": null,
      "metadata": {
        "id": "hHIcu1SWX2SN",
        "outputId": "4d59ece6-b6dc-4387-e43e-fa50050bf4b7"
      },
      "outputs": [
        {
          "data": {
            "text/plain": [
              "array([False, False, False])"
            ]
          },
          "execution_count": 37,
          "metadata": {},
          "output_type": "execute_result"
        }
      ],
      "source": [
        "# are all values in each row less than 8?\n",
        "np.all(x < 8, axis=1)"
      ]
    },
    {
      "cell_type": "markdown",
      "metadata": {
        "id": "8bdP1RvFX2SN"
      },
      "source": [
        "Here all the elements in the first and third rows are less than 8, while this is not the case for the second row.\n",
        "\n",
        "Finally, a quick warning: as mentioned in [Aggregations: Min, Max, and Everything In Between], Python has built-in ``sum()``, ``any()``, and ``all()`` functions. These have a different syntax than the NumPy versions, and in particular will fail or produce unintended results when used on multidimensional arrays. Be sure that you are using ``np.sum()``, ``np.any()``, and ``np.all()`` for these examples!"
      ]
    },
    {
      "cell_type": "markdown",
      "metadata": {
        "id": "x_PCGulOX2SO"
      },
      "source": [
        "### Boolean operators\n",
        "\n",
        "We've already seen how we might count, say, all days with rain less than four inches, or all days with rain greater than two inches.\n",
        "But what if we want to know about all days with rain less than four inches and greater than one inch?\n",
        "This is accomplished through Python's *bitwise logic operators*, ``&``, ``|``, ``^``, and ``~``.\n",
        "Like with the standard arithmetic operators, NumPy overloads these as ufuncs which work element-wise on (usually Boolean) arrays.\n",
        "\n",
        "For example, we can address this sort of compound question as follows:"
      ]
    },
    {
      "cell_type": "code",
      "execution_count": null,
      "metadata": {
        "id": "FKYKEsV-X2SO",
        "outputId": "21482df1-1adb-4618-8ab6-7f2a81973379"
      },
      "outputs": [
        {
          "data": {
            "text/plain": [
              "29"
            ]
          },
          "execution_count": 38,
          "metadata": {},
          "output_type": "execute_result"
        }
      ],
      "source": [
        "np.sum((inches > 0.5) & (inches < 1))"
      ]
    },
    {
      "cell_type": "markdown",
      "metadata": {
        "id": "SMyRY1dDX2SO"
      },
      "source": [
        "So we see that there are 29 days with rainfall between 0.5 and 1.0 inches.\n",
        "\n",
        "Note that the parentheses here are important–because of operator precedence rules, with parentheses removed this expression would be evaluated as follows, which results in an error:\n",
        "\n",
        "``` python\n",
        "inches > (0.5 & inches) < 1\n",
        "```\n",
        "\n",
        "Using the equivalence of *A AND B* and *NOT (NOT A OR NOT B)* (which you may remember if you've taken an introductory logic course), we can compute the same result in a different manner:"
      ]
    },
    {
      "cell_type": "code",
      "execution_count": null,
      "metadata": {
        "id": "ino4kXiMX2SP",
        "outputId": "60f52ea7-e3b1-489a-d6a8-8f86682016b8"
      },
      "outputs": [
        {
          "data": {
            "text/plain": [
              "29"
            ]
          },
          "execution_count": 39,
          "metadata": {},
          "output_type": "execute_result"
        }
      ],
      "source": [
        "np.sum(~( (inches <= 0.5) | (inches >= 1) ))"
      ]
    },
    {
      "cell_type": "markdown",
      "metadata": {
        "id": "HWPCQ0kIX2SP"
      },
      "source": [
        "Combining comparison operators and Boolean operators on arrays can lead to a wide range of efficient logical operations.\n",
        "\n",
        "The following table summarizes the bitwise Boolean operators and their equivalent ufuncs:"
      ]
    },
    {
      "cell_type": "markdown",
      "metadata": {
        "id": "RlCAOML9X2SP"
      },
      "source": [
        "| Operator\t    | Equivalent ufunc    || Operator\t    | Equivalent ufunc    |\n",
        "|---------------|---------------------||---------------|---------------------|\n",
        "|``&``          |``np.bitwise_and``   ||&#124;         |``np.bitwise_or``    |\n",
        "|``^``          |``np.bitwise_xor``   ||``~``          |``np.bitwise_not``   |"
      ]
    },
    {
      "cell_type": "markdown",
      "metadata": {
        "id": "fsrCNaOoX2SP"
      },
      "source": [
        "Using these tools, we might start to answer the types of questions we have about our weather data.\n",
        "Here are some examples of results we can compute when combining masking with aggregations:"
      ]
    },
    {
      "cell_type": "code",
      "execution_count": null,
      "metadata": {
        "id": "nvQ0VG-MX2SP",
        "outputId": "b3125cb3-315b-4786-b68c-b2e386b96a1d"
      },
      "outputs": [
        {
          "name": "stdout",
          "output_type": "stream",
          "text": [
            "Number of days without rain:       215\n",
            "Number of days with rain:          150\n",
            "Number of days with rain:          150\n",
            "Days with more than 0.5 inches: 37\n",
            "Rainy days with < 0.2 inches  : 75\n"
          ]
        }
      ],
      "source": [
        "print(\"Number of days without rain:      \", np.sum(inches == 0))\n",
        "print(\"Number of days with rain:         \", np.sum(inches != 0))\n",
        "print(\"Number of days with rain:         \", np.count_nonzero(inches))\n",
        "print(\"Days with more than 0.5 inches:\", np.sum(inches > 0.5))\n",
        "print(\"Rainy days with < 0.2 inches  :\", np.sum((inches > 0) &\n",
        "                                                (inches < 0.2)))"
      ]
    },
    {
      "cell_type": "markdown",
      "metadata": {
        "id": "mKaHmViOX2SQ"
      },
      "source": [
        "## Boolean Arrays as Masks\n",
        "\n",
        "In the preceding section we looked at aggregates computed directly on Boolean arrays.\n",
        "A more powerful pattern is to use Boolean arrays as masks, to select particular subsets of the data themselves.\n",
        "Returning to our ``x`` array from before, suppose we want an array of all values in the array that are less than, say, 5:"
      ]
    },
    {
      "cell_type": "code",
      "execution_count": null,
      "metadata": {
        "id": "SFrvnlcVX2SQ",
        "outputId": "6ba68752-a723-4715-a73c-77ec2a1b3ea4"
      },
      "outputs": [
        {
          "data": {
            "text/plain": [
              "array([[8, 8, 1, 6],\n",
              "       [7, 7, 8, 1],\n",
              "       [5, 9, 8, 9]])"
            ]
          },
          "execution_count": 41,
          "metadata": {},
          "output_type": "execute_result"
        }
      ],
      "source": [
        "x"
      ]
    },
    {
      "cell_type": "markdown",
      "metadata": {
        "id": "65IOSKK7X2SQ"
      },
      "source": [
        "We can obtain a Boolean array for this condition easily, as we've already seen:"
      ]
    },
    {
      "cell_type": "code",
      "execution_count": null,
      "metadata": {
        "id": "8bnBW4b8X2SQ",
        "outputId": "8182e00f-bfec-40f6-a4c8-b2e83dbcd9ec"
      },
      "outputs": [
        {
          "data": {
            "text/plain": [
              "array([[False, False,  True,  True],\n",
              "       [False, False, False,  True],\n",
              "       [ True, False, False, False]])"
            ]
          },
          "execution_count": 44,
          "metadata": {},
          "output_type": "execute_result"
        }
      ],
      "source": [
        "x < 7"
      ]
    },
    {
      "cell_type": "markdown",
      "metadata": {
        "id": "4KEAseRuX2SQ"
      },
      "source": [
        "Now to *select* these values from the array, we can simply index on this Boolean array; this is known as a *masking* operation:"
      ]
    },
    {
      "cell_type": "code",
      "execution_count": null,
      "metadata": {
        "id": "xtsHA5bdX2SR",
        "outputId": "c7965936-fbd5-4392-8a34-a5e51cf781e6"
      },
      "outputs": [
        {
          "data": {
            "text/plain": [
              "array([1, 6, 1, 5])"
            ]
          },
          "execution_count": 45,
          "metadata": {},
          "output_type": "execute_result"
        }
      ],
      "source": [
        "x[x < 7]"
      ]
    },
    {
      "cell_type": "markdown",
      "metadata": {
        "id": "5RuHw3D0X2SR"
      },
      "source": [
        "What is returned is a one-dimensional array filled with all the values that meet this condition; in other words, all the values in positions at which the mask array is ``True``.\n",
        "\n",
        "We are then free to operate on these values as we wish.\n",
        "For example, we can compute some relevant statistics on our Seattle rain data:"
      ]
    },
    {
      "cell_type": "code",
      "execution_count": null,
      "metadata": {
        "id": "IH3fESu8kaEF",
        "outputId": "84041efa-c456-47c7-bac5-515bafd2d4a7"
      },
      "outputs": [
        {
          "data": {
            "text/plain": [
              "array([False,  True,  True, False, False,  True,  True,  True,  True,\n",
              "        True,  True,  True, False, False, False, False, False, False,\n",
              "       False, False, False,  True, False, False, False, False, False,\n",
              "        True,  True, False,  True,  True, False, False, False, False,\n",
              "       False, False,  True,  True,  True,  True,  True,  True,  True,\n",
              "        True,  True,  True,  True,  True,  True,  True,  True,  True,\n",
              "        True,  True, False, False, False,  True,  True,  True,  True,\n",
              "        True,  True, False,  True,  True,  True, False, False,  True,\n",
              "        True,  True,  True,  True, False,  True, False, False, False,\n",
              "       False, False,  True,  True,  True,  True,  True, False, False,\n",
              "       False, False,  True, False,  True, False, False,  True, False,\n",
              "       False, False, False, False, False,  True,  True,  True, False,\n",
              "        True, False,  True,  True,  True,  True, False,  True,  True,\n",
              "       False, False, False, False, False,  True,  True,  True, False,\n",
              "       False,  True,  True,  True, False, False, False, False, False,\n",
              "       False, False, False, False, False, False, False,  True, False,\n",
              "        True, False, False, False, False, False, False, False, False,\n",
              "       False, False, False, False, False, False, False, False, False,\n",
              "        True,  True, False,  True,  True,  True, False,  True,  True,\n",
              "       False, False, False, False, False, False,  True,  True, False,\n",
              "       False, False, False, False, False, False, False, False, False,\n",
              "       False, False, False, False, False, False, False, False, False,\n",
              "       False, False, False, False,  True,  True, False, False, False,\n",
              "       False, False, False, False, False, False,  True, False, False,\n",
              "       False, False, False, False, False, False,  True,  True,  True,\n",
              "       False,  True, False, False, False, False, False, False, False,\n",
              "       False, False, False, False, False, False, False,  True,  True,\n",
              "       False,  True, False, False, False, False, False, False, False,\n",
              "       False, False, False, False, False, False, False,  True,  True,\n",
              "       False, False, False,  True,  True,  True,  True,  True, False,\n",
              "       False,  True, False, False, False, False, False, False, False,\n",
              "       False, False, False,  True,  True, False,  True,  True,  True,\n",
              "       False,  True,  True, False,  True,  True,  True,  True,  True,\n",
              "        True,  True,  True,  True,  True,  True,  True, False,  True,\n",
              "        True,  True,  True,  True, False, False,  True, False, False,\n",
              "       False, False, False, False, False, False, False, False,  True,\n",
              "        True,  True,  True,  True,  True,  True,  True,  True,  True,\n",
              "       False, False, False, False,  True,  True,  True, False,  True,\n",
              "        True,  True,  True, False, False, False, False, False,  True,\n",
              "        True,  True,  True, False, False,  True,  True, False, False,\n",
              "        True,  True, False, False, False])"
            ]
          },
          "execution_count": 49,
          "metadata": {},
          "output_type": "execute_result"
        }
      ],
      "source": [
        "# construct a mask of all rainy days\n",
        "rainy = (inches > 0)\n",
        "rainy"
      ]
    },
    {
      "cell_type": "code",
      "execution_count": null,
      "metadata": {
        "id": "hVqhXpfekaEF",
        "outputId": "6ed0de75-e0ee-4755-af79-bfbd92d20aad"
      },
      "outputs": [
        {
          "data": {
            "text/plain": [
              "array([  0,   1,   2,   3,   4,   5,   6,   7,   8,   9,  10,  11,  12,\n",
              "        13,  14,  15,  16,  17,  18,  19,  20,  21,  22,  23,  24,  25,\n",
              "        26,  27,  28,  29,  30,  31,  32,  33,  34,  35,  36,  37,  38,\n",
              "        39,  40,  41,  42,  43,  44,  45,  46,  47,  48,  49,  50,  51,\n",
              "        52,  53,  54,  55,  56,  57,  58,  59,  60,  61,  62,  63,  64,\n",
              "        65,  66,  67,  68,  69,  70,  71,  72,  73,  74,  75,  76,  77,\n",
              "        78,  79,  80,  81,  82,  83,  84,  85,  86,  87,  88,  89,  90,\n",
              "        91,  92,  93,  94,  95,  96,  97,  98,  99, 100, 101, 102, 103,\n",
              "       104, 105, 106, 107, 108, 109, 110, 111, 112, 113, 114, 115, 116,\n",
              "       117, 118, 119, 120, 121, 122, 123, 124, 125, 126, 127, 128, 129,\n",
              "       130, 131, 132, 133, 134, 135, 136, 137, 138, 139, 140, 141, 142,\n",
              "       143, 144, 145, 146, 147, 148, 149, 150, 151, 152, 153, 154, 155,\n",
              "       156, 157, 158, 159, 160, 161, 162, 163, 164, 165, 166, 167, 168,\n",
              "       169, 170, 171, 172, 173, 174, 175, 176, 177, 178, 179, 180, 181,\n",
              "       182, 183, 184, 185, 186, 187, 188, 189, 190, 191, 192, 193, 194,\n",
              "       195, 196, 197, 198, 199, 200, 201, 202, 203, 204, 205, 206, 207,\n",
              "       208, 209, 210, 211, 212, 213, 214, 215, 216, 217, 218, 219, 220,\n",
              "       221, 222, 223, 224, 225, 226, 227, 228, 229, 230, 231, 232, 233,\n",
              "       234, 235, 236, 237, 238, 239, 240, 241, 242, 243, 244, 245, 246,\n",
              "       247, 248, 249, 250, 251, 252, 253, 254, 255, 256, 257, 258, 259,\n",
              "       260, 261, 262, 263, 264, 265, 266, 267, 268, 269, 270, 271, 272,\n",
              "       273, 274, 275, 276, 277, 278, 279, 280, 281, 282, 283, 284, 285,\n",
              "       286, 287, 288, 289, 290, 291, 292, 293, 294, 295, 296, 297, 298,\n",
              "       299, 300, 301, 302, 303, 304, 305, 306, 307, 308, 309, 310, 311,\n",
              "       312, 313, 314, 315, 316, 317, 318, 319, 320, 321, 322, 323, 324,\n",
              "       325, 326, 327, 328, 329, 330, 331, 332, 333, 334, 335, 336, 337,\n",
              "       338, 339, 340, 341, 342, 343, 344, 345, 346, 347, 348, 349, 350,\n",
              "       351, 352, 353, 354, 355, 356, 357, 358, 359, 360, 361, 362, 363,\n",
              "       364])"
            ]
          },
          "execution_count": 50,
          "metadata": {},
          "output_type": "execute_result"
        }
      ],
      "source": [
        "# construct a mask of all summer days (June 21st is the 172nd day)\n",
        "days = np.arange(365)\n",
        "days"
      ]
    },
    {
      "cell_type": "code",
      "execution_count": null,
      "metadata": {
        "id": "dFMnKrKDkaEG",
        "outputId": "1ebce84f-1ba9-4e5d-9aca-819596c0323a"
      },
      "outputs": [
        {
          "data": {
            "text/plain": [
              "array([0.        , 0.        , 0.        , 0.        , 0.07086614,\n",
              "       0.09055118, 0.        , 0.        , 0.        , 0.        ,\n",
              "       0.        , 0.        , 0.        , 0.        , 0.        ,\n",
              "       0.        , 0.        , 0.        , 0.        , 0.        ,\n",
              "       0.        , 0.        , 0.        , 0.        , 0.        ,\n",
              "       0.        , 0.        , 0.        , 0.        , 0.01181102,\n",
              "       0.75984252, 0.        , 0.        , 0.        , 0.        ,\n",
              "       0.        , 0.        , 0.        , 0.        , 0.        ,\n",
              "       0.01968504, 0.        , 0.        , 0.        , 0.        ,\n",
              "       0.        , 0.        , 0.        , 0.        , 0.01968504,\n",
              "       0.5       , 0.8503937 , 0.        , 0.03937008, 0.        ,\n",
              "       0.        , 0.        , 0.        , 0.        , 0.        ,\n",
              "       0.        , 0.        , 0.        , 0.        , 0.        ,\n",
              "       0.        , 0.        , 0.        , 0.33070866, 0.0511811 ,\n",
              "       0.        , 0.11811024, 0.        , 0.        , 0.        ,\n",
              "       0.        , 0.        , 0.        , 0.        , 0.        ,\n",
              "       0.        , 0.        , 0.        , 0.        , 0.        ,\n",
              "       0.        , 0.01968504, 0.01181102, 0.        ])"
            ]
          },
          "execution_count": 51,
          "metadata": {},
          "output_type": "execute_result"
        }
      ],
      "source": [
        "# construct a mask of all summer days (June 21st is the 172nd day)\n",
        "summer = (days > 172) & (days < 262)\n",
        "inches[summer]"
      ]
    },
    {
      "cell_type": "code",
      "execution_count": null,
      "metadata": {
        "id": "8XvoY_PUX2SR",
        "outputId": "08ccac49-bbd6-4366-c328-d0650eaa3f65"
      },
      "outputs": [
        {
          "name": "stdout",
          "output_type": "stream",
          "text": [
            "Median precip on rainy days in 2014 (inches):    0.19488188976377951\n",
            "Median precip on summer days in 2014 (inches):   0.0\n",
            "Maximum precip on summer days in 2014 (inches):  0.8503937007874016\n",
            "Median precip on non-summer rainy days (inches): 0.20078740157480315\n"
          ]
        }
      ],
      "source": [
        "print(\"Median precip on rainy days in 2014 (inches):   \", np.median(inches[rainy]))\n",
        "print(\"Median precip on summer days in 2014 (inches):  \", np.median(inches[summer]))\n",
        "print(\"Maximum precip on summer days in 2014 (inches): \", np.max(inches[summer]))\n",
        "print(\"Median precip on non-summer rainy days (inches):\", np.median(inches[rainy & ~summer]))"
      ]
    },
    {
      "cell_type": "markdown",
      "metadata": {
        "id": "rEuoR6l-X2SR"
      },
      "source": [
        "By combining Boolean operations, masking operations, and aggregates, we can very quickly answer these sorts of questions for our dataset."
      ]
    },
    {
      "cell_type": "markdown",
      "metadata": {
        "id": "HHhGJzTkX2SS"
      },
      "source": [
        "## Aside: Using the Keywords and/or Versus the Operators &/|\n",
        "\n",
        "One common point of confusion is the difference between the keywords ``and`` and ``or`` on one hand, and the operators ``&`` and ``|`` on the other hand.\n",
        "When would you use one versus the other?\n",
        "\n",
        "The difference is this: ``and`` and ``or`` gauge the truth or falsehood of *entire object*, while ``&`` and ``|`` refer to *bits within each object*.\n",
        "\n",
        "When you use ``and`` or ``or``, it's equivalent to asking Python to treat the object as a single Boolean entity.\n",
        "In Python, all nonzero integers will evaluate as True. Thus:"
      ]
    },
    {
      "cell_type": "code",
      "execution_count": null,
      "metadata": {
        "id": "wWc2vNF5X2SS",
        "outputId": "5589a888-f0fe-48ee-c88d-e49d11ee1cfa"
      },
      "outputs": [
        {
          "data": {
            "text/plain": [
              "(True, False)"
            ]
          },
          "execution_count": 53,
          "metadata": {},
          "output_type": "execute_result"
        }
      ],
      "source": [
        "bool(42), bool(0)"
      ]
    },
    {
      "cell_type": "code",
      "execution_count": null,
      "metadata": {
        "id": "dv7KXNbEX2SS",
        "outputId": "7a417a66-7284-4737-84ad-743c5b3928ee"
      },
      "outputs": [
        {
          "data": {
            "text/plain": [
              "False"
            ]
          },
          "execution_count": 54,
          "metadata": {},
          "output_type": "execute_result"
        }
      ],
      "source": [
        "bool(42 and 0)"
      ]
    },
    {
      "cell_type": "code",
      "execution_count": null,
      "metadata": {
        "id": "l3mfN2HfX2SS",
        "outputId": "7e443bc9-cd7e-4b69-babc-6a5f1883380c"
      },
      "outputs": [
        {
          "data": {
            "text/plain": [
              "True"
            ]
          },
          "execution_count": 55,
          "metadata": {},
          "output_type": "execute_result"
        }
      ],
      "source": [
        "bool(42 or 0)"
      ]
    },
    {
      "cell_type": "markdown",
      "metadata": {
        "id": "WZBV1x7xX2SS"
      },
      "source": [
        "When you use ``&`` and ``|`` on integers, the expression operates on the bits of the element, applying the *and* or the *or* to the individual bits making up the number:"
      ]
    },
    {
      "cell_type": "code",
      "execution_count": null,
      "metadata": {
        "id": "QiNpWDOsX2SS",
        "outputId": "8eb31b93-107c-4195-ec92-85425b15e13b"
      },
      "outputs": [
        {
          "data": {
            "text/plain": [
              "'0b101010'"
            ]
          },
          "execution_count": 56,
          "metadata": {},
          "output_type": "execute_result"
        }
      ],
      "source": [
        "bin(42)"
      ]
    },
    {
      "cell_type": "code",
      "execution_count": null,
      "metadata": {
        "id": "7tELfP5UX2ST",
        "outputId": "1e338916-d1b1-40c6-d0a6-58a96558a860"
      },
      "outputs": [
        {
          "data": {
            "text/plain": [
              "'0b111011'"
            ]
          },
          "execution_count": 57,
          "metadata": {},
          "output_type": "execute_result"
        }
      ],
      "source": [
        "bin(59)"
      ]
    },
    {
      "cell_type": "code",
      "execution_count": null,
      "metadata": {
        "id": "iMmLzTCBX2ST",
        "outputId": "50bff161-b8aa-43a0-fb14-ff1af7d24906"
      },
      "outputs": [
        {
          "data": {
            "text/plain": [
              "'0b101010'"
            ]
          },
          "execution_count": 58,
          "metadata": {},
          "output_type": "execute_result"
        }
      ],
      "source": [
        "bin(42 & 59)"
      ]
    },
    {
      "cell_type": "code",
      "execution_count": null,
      "metadata": {
        "id": "e0AuU_e0X2ST",
        "outputId": "d4859d1f-c9c6-4782-aaba-650eb8bc395c"
      },
      "outputs": [
        {
          "data": {
            "text/plain": [
              "'0b111011'"
            ]
          },
          "execution_count": 59,
          "metadata": {},
          "output_type": "execute_result"
        }
      ],
      "source": [
        "bin(42 | 59)"
      ]
    },
    {
      "cell_type": "markdown",
      "metadata": {
        "id": "_2R5KLyiX2ST"
      },
      "source": [
        "Notice that the corresponding bits of the binary representation are compared in order to yield the result.\n",
        "\n",
        "When you have an array of Boolean values in NumPy, this can be thought of as a string of bits where ``1 = True`` and ``0 = False``, and the result of ``&`` and ``|`` operates similarly to above:"
      ]
    },
    {
      "cell_type": "code",
      "execution_count": null,
      "metadata": {
        "id": "16JSLKPGX2SU",
        "outputId": "e777777d-78bf-4cef-bbab-f4dde11bb008"
      },
      "outputs": [
        {
          "data": {
            "text/plain": [
              "array([ True,  True,  True, False,  True,  True])"
            ]
          },
          "execution_count": 60,
          "metadata": {},
          "output_type": "execute_result"
        }
      ],
      "source": [
        "A = np.array([1, 0, 1, 0, 1, 0], dtype=bool)\n",
        "B = np.array([1, 1, 1, 0, 1, 1], dtype=bool)\n",
        "A | B"
      ]
    },
    {
      "cell_type": "markdown",
      "metadata": {
        "id": "eTBu89l-X2SU"
      },
      "source": [
        "Using ``or`` on these arrays will try to evaluate the truth or falsehood of the entire array object, which is not a well-defined value:"
      ]
    },
    {
      "cell_type": "code",
      "execution_count": null,
      "metadata": {
        "id": "oYoz36kVX2SU",
        "outputId": "ab2c854c-e94a-4f2c-90b4-23cbb7809b88"
      },
      "outputs": [
        {
          "ename": "ValueError",
          "evalue": "The truth value of an array with more than one element is ambiguous. Use a.any() or a.all()",
          "output_type": "error",
          "traceback": [
            "\u001b[0;31m---------------------------------------------------------------------------\u001b[0m",
            "\u001b[0;31mValueError\u001b[0m                                Traceback (most recent call last)",
            "\u001b[0;32m/var/folders/93/xfc0v8hd5dgdxb83wcj0199h0000gn/T/ipykernel_34517/3447948156.py\u001b[0m in \u001b[0;36m<module>\u001b[0;34m\u001b[0m\n\u001b[0;32m----> 1\u001b[0;31m \u001b[0mA\u001b[0m \u001b[0;32mor\u001b[0m \u001b[0mB\u001b[0m\u001b[0;34m\u001b[0m\u001b[0;34m\u001b[0m\u001b[0m\n\u001b[0m",
            "\u001b[0;31mValueError\u001b[0m: The truth value of an array with more than one element is ambiguous. Use a.any() or a.all()"
          ]
        }
      ],
      "source": [
        "A or B"
      ]
    },
    {
      "cell_type": "markdown",
      "metadata": {
        "id": "CriI7CBHX2SU"
      },
      "source": [
        "Similarly, when doing a Boolean expression on a given array, you should use ``|`` or ``&`` rather than ``or`` or ``and``:"
      ]
    },
    {
      "cell_type": "code",
      "execution_count": null,
      "metadata": {
        "id": "QOUct2vIX2SU",
        "outputId": "dfa10d39-b314-4925-bd13-a34f32a7dc30"
      },
      "outputs": [
        {
          "name": "stdout",
          "output_type": "stream",
          "text": [
            "[0 1 2 3 4 5 6 7 8 9]\n"
          ]
        },
        {
          "data": {
            "text/plain": [
              "array([False, False, False, False, False,  True,  True,  True, False,\n",
              "       False])"
            ]
          },
          "execution_count": 62,
          "metadata": {},
          "output_type": "execute_result"
        }
      ],
      "source": [
        "x = np.arange(10)\n",
        "print(x)\n",
        "(x > 4) & (x < 8)"
      ]
    },
    {
      "cell_type": "markdown",
      "metadata": {
        "id": "1cHD1yN9X2SU"
      },
      "source": [
        "Trying to evaluate the truth or falsehood of the entire array will give the same ``ValueError`` we saw previously:"
      ]
    },
    {
      "cell_type": "code",
      "execution_count": null,
      "metadata": {
        "id": "VCOhce68X2SV",
        "outputId": "91720601-b90b-41f4-8af5-61af05863dd3"
      },
      "outputs": [
        {
          "ename": "ValueError",
          "evalue": "The truth value of an array with more than one element is ambiguous. Use a.any() or a.all()",
          "output_type": "error",
          "traceback": [
            "\u001b[0;31m---------------------------------------------------------------------------\u001b[0m",
            "\u001b[0;31mValueError\u001b[0m                                Traceback (most recent call last)",
            "\u001b[0;32m/var/folders/93/xfc0v8hd5dgdxb83wcj0199h0000gn/T/ipykernel_34517/2869511139.py\u001b[0m in \u001b[0;36m<module>\u001b[0;34m\u001b[0m\n\u001b[0;32m----> 1\u001b[0;31m \u001b[0;34m(\u001b[0m\u001b[0mx\u001b[0m \u001b[0;34m>\u001b[0m \u001b[0;36m4\u001b[0m\u001b[0;34m)\u001b[0m \u001b[0;32mand\u001b[0m \u001b[0;34m(\u001b[0m\u001b[0mx\u001b[0m \u001b[0;34m<\u001b[0m \u001b[0;36m8\u001b[0m\u001b[0;34m)\u001b[0m\u001b[0;34m\u001b[0m\u001b[0;34m\u001b[0m\u001b[0m\n\u001b[0m",
            "\u001b[0;31mValueError\u001b[0m: The truth value of an array with more than one element is ambiguous. Use a.any() or a.all()"
          ]
        }
      ],
      "source": [
        "(x > 4) and (x < 8)"
      ]
    },
    {
      "cell_type": "markdown",
      "metadata": {
        "id": "smsB7AeoX2SV"
      },
      "source": [
        "So remember this: ``and`` and ``or`` perform a single Boolean evaluation on an entire object, while ``&`` and ``|`` perform multiple Boolean evaluations on the content (the individual bits or bytes) of an object.\n",
        "For Boolean NumPy arrays, the latter is nearly always the desired operation."
      ]
    }
  ],
  "metadata": {
    "anaconda-cloud": {},
    "colab": {
      "name": "02_06_Boolean_Arrays_and_Masks.ipynb",
      "provenance": [],
      "include_colab_link": true
    },
    "kernelspec": {
      "display_name": "Python 3 (ipykernel)",
      "language": "python",
      "name": "python3"
    },
    "language_info": {
      "codemirror_mode": {
        "name": "ipython",
        "version": 3
      },
      "file_extension": ".py",
      "mimetype": "text/x-python",
      "name": "python",
      "nbconvert_exporter": "python",
      "pygments_lexer": "ipython3",
      "version": "3.9.7"
    }
  },
  "nbformat": 4,
  "nbformat_minor": 0
}