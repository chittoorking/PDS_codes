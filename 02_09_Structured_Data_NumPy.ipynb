{
  "cells": [
    {
      "cell_type": "markdown",
      "metadata": {
        "id": "view-in-github",
        "colab_type": "text"
      },
      "source": [
        "<a href=\"https://colab.research.google.com/github/chittoorking/PDS_codes/blob/main/02_09_Structured_Data_NumPy.ipynb\" target=\"_parent\"><img src=\"https://colab.research.google.com/assets/colab-badge.svg\" alt=\"Open In Colab\"/></a>"
      ]
    },
    {
      "cell_type": "markdown",
      "metadata": {
        "id": "F3HwKPyMZXD4"
      },
      "source": [
        "# Structured Data: NumPy's Structured Arrays"
      ]
    },
    {
      "cell_type": "markdown",
      "metadata": {
        "id": "TB2hdz5kZXD5"
      },
      "source": [
        "While often our data can be well represented by a homogeneous array of values, sometimes this is not the case. This section demonstrates the use of NumPy's *structured arrays* and *record arrays*, which provide efficient storage for compound, heterogeneous data.  While the patterns shown here are useful for simple operations, scenarios like this often lend themselves to the use of Pandas ``Dataframe``s, which we'll explore in [Chapter 3](03.00-Introduction-to-Pandas.ipynb)."
      ]
    },
    {
      "cell_type": "code",
      "execution_count": null,
      "metadata": {
        "id": "u-ujPWV-ZXD6"
      },
      "outputs": [],
      "source": [
        "import numpy as np"
      ]
    },
    {
      "cell_type": "markdown",
      "metadata": {
        "id": "IWy3YKlkZXD7"
      },
      "source": [
        "Imagine that we have several categories of data on a number of people (say, name, age, and weight), and we'd like to store these values for use in a Python program.\n",
        "It would be possible to store these in three separate arrays:"
      ]
    },
    {
      "cell_type": "code",
      "execution_count": null,
      "metadata": {
        "id": "dOO4IB4HZXD8"
      },
      "outputs": [],
      "source": [
        "name = ['Alice', 'Bob', 'Cathy', 'Doug']\n",
        "age = [25, 45, 37, 19]\n",
        "weight = [55.0, 85.5, 68.0, 61.5]"
      ]
    },
    {
      "cell_type": "markdown",
      "metadata": {
        "id": "hzugSCRAZXD9"
      },
      "source": [
        "But this is a bit clumsy. There's nothing here that tells us that the three arrays are related; it would be more natural if we could use a single structure to store all of this data.\n",
        "NumPy can handle this through structured arrays, which are arrays with compound data types.\n",
        "\n",
        "Recall that previously we created a simple array using an expression like this:"
      ]
    },
    {
      "cell_type": "code",
      "execution_count": null,
      "metadata": {
        "id": "sCdO9mU4ZXD9"
      },
      "outputs": [],
      "source": [
        "x = np.zeros(4, dtype=int)"
      ]
    },
    {
      "cell_type": "markdown",
      "metadata": {
        "id": "XBodIzfAZXD-"
      },
      "source": [
        "We can similarly create a structured array using a compound data type specification:"
      ]
    },
    {
      "cell_type": "code",
      "execution_count": null,
      "metadata": {
        "id": "vr0UunAUZXD-",
        "outputId": "7f760eb4-808e-40bb-d2c6-a789332ac716"
      },
      "outputs": [
        {
          "name": "stdout",
          "output_type": "stream",
          "text": [
            "[('name', '<U10'), ('age', '<i4'), ('weight', '<f8')]\n"
          ]
        }
      ],
      "source": [
        "# Use a compound data type for structured arrays\n",
        "data = np.zeros(4, dtype={'names':('name', 'age', 'weight'),\n",
        "                          'formats':('U10', 'i4', 'f8')})\n",
        "print(data.dtype)"
      ]
    },
    {
      "cell_type": "markdown",
      "metadata": {
        "id": "yEKYmJR4ZXD_"
      },
      "source": [
        "Here ``'U10'`` translates to \"Unicode string of maximum length 10,\" ``'i4'`` translates to \"4-byte (i.e., 32 bit) integer,\" and ``'f8'`` translates to \"8-byte (i.e., 64 bit) float.\"\n",
        "We'll discuss other options for these type codes in the following section.\n",
        "\n",
        "Now that we've created an empty container array, we can fill the array with our lists of values:"
      ]
    },
    {
      "cell_type": "code",
      "execution_count": null,
      "metadata": {
        "id": "CKqguLDQZXD_",
        "outputId": "83e035d1-ff37-4620-cdaa-7cfdb84b6984"
      },
      "outputs": [
        {
          "name": "stdout",
          "output_type": "stream",
          "text": [
            "[('Alice', 25, 55. ) ('Bob', 45, 85.5) ('Cathy', 37, 68. )\n",
            " ('Doug', 19, 61.5)]\n"
          ]
        }
      ],
      "source": [
        "data['name'] = name\n",
        "data['age'] = age\n",
        "data['weight'] = weight\n",
        "print(data)"
      ]
    },
    {
      "cell_type": "markdown",
      "metadata": {
        "id": "h6D9wj6jZXEA"
      },
      "source": [
        "As we had hoped, the data is now arranged together in one convenient block of memory.\n",
        "\n",
        "The handy thing with structured arrays is that you can now refer to values either by index or by name:"
      ]
    },
    {
      "cell_type": "code",
      "execution_count": null,
      "metadata": {
        "id": "juGN0M95ZXEA",
        "outputId": "f6196093-e78b-4f09-b8d4-d2dc29514c5b"
      },
      "outputs": [
        {
          "data": {
            "text/plain": [
              "array(['Alice', 'Bob', 'Cathy', 'Doug'], \n",
              "      dtype='<U10')"
            ]
          },
          "execution_count": 6,
          "metadata": {},
          "output_type": "execute_result"
        }
      ],
      "source": [
        "# Get all names\n",
        "data['name']"
      ]
    },
    {
      "cell_type": "code",
      "execution_count": null,
      "metadata": {
        "id": "NQk7sLR1ZXEB",
        "outputId": "b26fe03e-6e9c-4ad6-c324-56a8128d9366"
      },
      "outputs": [
        {
          "data": {
            "text/plain": [
              "('Alice', 25, 55.0)"
            ]
          },
          "execution_count": 7,
          "metadata": {},
          "output_type": "execute_result"
        }
      ],
      "source": [
        "# Get first row of data\n",
        "data[0]"
      ]
    },
    {
      "cell_type": "code",
      "execution_count": null,
      "metadata": {
        "id": "TcdRW-lzlOZP",
        "outputId": "af5e5721-be7f-4685-80d0-1cadcf8636e9"
      },
      "outputs": [
        {
          "data": {
            "text/plain": [
              "('Doug', 19, 61.5)"
            ]
          },
          "execution_count": 6,
          "metadata": {},
          "output_type": "execute_result"
        }
      ],
      "source": [
        "data[-1]"
      ]
    },
    {
      "cell_type": "code",
      "execution_count": null,
      "metadata": {
        "id": "ILVu_PTvZXEB",
        "outputId": "81755905-b002-4cb7-b83a-b7c241318d4e"
      },
      "outputs": [
        {
          "data": {
            "text/plain": [
              "19"
            ]
          },
          "execution_count": 7,
          "metadata": {},
          "output_type": "execute_result"
        }
      ],
      "source": [
        "# Get the name from the last row\n",
        "data[-1]['age']"
      ]
    },
    {
      "cell_type": "markdown",
      "metadata": {
        "id": "6xONY1nWZXEC"
      },
      "source": [
        "Using Boolean masking, this even allows you to do some more sophisticated operations such as filtering on age:"
      ]
    },
    {
      "cell_type": "code",
      "execution_count": null,
      "metadata": {
        "id": "-G4kAYE7ZXEC",
        "outputId": "8d5b5a12-9d2c-43fa-bd33-035052a8f9d1"
      },
      "outputs": [
        {
          "data": {
            "text/plain": [
              "array(['Alice', 'Doug'], dtype='<U10')"
            ]
          },
          "execution_count": 9,
          "metadata": {},
          "output_type": "execute_result"
        }
      ],
      "source": [
        "# Get names where age is under 30\n",
        "data[data['age'] < 30]['name']"
      ]
    },
    {
      "cell_type": "markdown",
      "metadata": {
        "id": "Cj35ECzWZXED"
      },
      "source": [
        "Note that if you'd like to do any operations that are any more complicated than these, you should probably consider the Pandas package, covered in the next chapter.\n",
        "As we'll see, Pandas provides a ``Dataframe`` object, which is a structure built on NumPy arrays that offers a variety of useful data manipulation functionality similar to what we've shown here, as well as much, much more."
      ]
    },
    {
      "cell_type": "markdown",
      "metadata": {
        "id": "wyxXc0OjZXED"
      },
      "source": [
        "## Creating Structured Arrays\n",
        "\n",
        "Structured array data types can be specified in a number of ways.\n",
        "Earlier, we saw the dictionary method:"
      ]
    },
    {
      "cell_type": "code",
      "execution_count": null,
      "metadata": {
        "id": "WC5tFGQ9ZXED",
        "outputId": "7fd6cc8d-46af-45dd-990a-40ea8d1498e4"
      },
      "outputs": [
        {
          "data": {
            "text/plain": [
              "dtype([('name', '<U10'), ('age', '<i4'), ('weight', '<f8')])"
            ]
          },
          "execution_count": 10,
          "metadata": {},
          "output_type": "execute_result"
        }
      ],
      "source": [
        "np.dtype({'names':('name', 'age', 'weight'),\n",
        "          'formats':('U10', 'i4', 'f8')})"
      ]
    },
    {
      "cell_type": "markdown",
      "metadata": {
        "id": "46RZ_iV_ZXED"
      },
      "source": [
        "For clarity, numerical types can be specified using Python types or NumPy ``dtype``s instead:"
      ]
    },
    {
      "cell_type": "code",
      "execution_count": null,
      "metadata": {
        "id": "vyaRzg6eZXEE",
        "outputId": "2fc0f179-8f39-476d-8e19-eb929c084a2c"
      },
      "outputs": [
        {
          "data": {
            "text/plain": [
              "dtype([('name', '<U10'), ('age', '<i8'), ('weight', '<f4')])"
            ]
          },
          "execution_count": 11,
          "metadata": {},
          "output_type": "execute_result"
        }
      ],
      "source": [
        "np.dtype({'names':('name', 'age', 'weight'),\n",
        "          'formats':((np.str_, 10), int, np.float32)})"
      ]
    },
    {
      "cell_type": "markdown",
      "metadata": {
        "id": "T4XagBkjZXEE"
      },
      "source": [
        "A compound type can also be specified as a list of tuples:"
      ]
    },
    {
      "cell_type": "code",
      "execution_count": null,
      "metadata": {
        "id": "WsAmucmQZXEE",
        "outputId": "8022b0a7-5f65-452e-ed85-b9659788fe12"
      },
      "outputs": [
        {
          "data": {
            "text/plain": [
              "dtype([('name', 'S10'), ('age', '<i4'), ('weight', '<f8')])"
            ]
          },
          "execution_count": 12,
          "metadata": {},
          "output_type": "execute_result"
        }
      ],
      "source": [
        "np.dtype([('name', 'S10'), ('age', 'i4'), ('weight', 'f8')])"
      ]
    },
    {
      "cell_type": "markdown",
      "metadata": {
        "id": "a7SeKtXXZXEF"
      },
      "source": [
        "If the names of the types do not matter to you, you can specify the types alone in a comma-separated string:"
      ]
    },
    {
      "cell_type": "code",
      "execution_count": null,
      "metadata": {
        "id": "MjcpmFy2ZXEG",
        "outputId": "6e0ece46-ef1f-4c04-c60e-cf4a8d5d701a"
      },
      "outputs": [
        {
          "data": {
            "text/plain": [
              "dtype([('f0', 'S10'), ('f1', '<i4'), ('f2', '<f8')])"
            ]
          },
          "execution_count": 13,
          "metadata": {},
          "output_type": "execute_result"
        }
      ],
      "source": [
        "np.dtype('S10,i4,f8')"
      ]
    },
    {
      "cell_type": "markdown",
      "metadata": {
        "id": "rApzwjIWZXEG"
      },
      "source": [
        "The shortened string format codes may seem confusing, but they are built on simple principles.\n",
        "The first (optional) character is ``<`` or ``>``, which means \"little endian\" or \"big endian,\" respectively, and specifies the ordering convention for significant bits.\n",
        "The next character specifies the type of data: characters, bytes, ints, floating points, and so on (see the table below).\n",
        "The last character or characters represents the size of the object in bytes.\n",
        "\n",
        "| Character        | Description           | Example                             |\n",
        "| ---------        | -----------           | -------                             | \n",
        "| ``'b'``          | Byte                  | ``np.dtype('b')``                   |\n",
        "| ``'i'``          | Signed integer        | ``np.dtype('i4') == np.int32``      |\n",
        "| ``'u'``          | Unsigned integer      | ``np.dtype('u1') == np.uint8``      |\n",
        "| ``'f'``          | Floating point        | ``np.dtype('f8') == np.int64``      |\n",
        "| ``'c'``          | Complex floating point| ``np.dtype('c16') == np.complex128``|\n",
        "| ``'S'``, ``'a'`` | String                | ``np.dtype('S5')``                  |\n",
        "| ``'U'``          | Unicode string        | ``np.dtype('U') == np.str_``        |\n",
        "| ``'V'``          | Raw data (void)       | ``np.dtype('V') == np.void``        |"
      ]
    },
    {
      "cell_type": "markdown",
      "metadata": {
        "id": "cwrsHNMvZXEG"
      },
      "source": [
        "## More Advanced Compound Types\n",
        "\n",
        "It is possible to define even more advanced compound types.\n",
        "For example, you can create a type where each element contains an array or matrix of values.\n",
        "Here, we'll create a data type with a ``mat`` component consisting of a $3\\times 3$ floating-point matrix:"
      ]
    },
    {
      "cell_type": "code",
      "execution_count": null,
      "metadata": {
        "id": "XNb_JMchZXEH",
        "outputId": "e0c164c5-9b7a-417c-cf78-d75f9d09307a"
      },
      "outputs": [
        {
          "name": "stdout",
          "output_type": "stream",
          "text": [
            "(0, [[0.0, 0.0, 0.0], [0.0, 0.0, 0.0], [0.0, 0.0, 0.0]])\n",
            "[[ 0.  0.  0.]\n",
            " [ 0.  0.  0.]\n",
            " [ 0.  0.  0.]]\n"
          ]
        }
      ],
      "source": [
        "tp = np.dtype([('id', 'i8'), ('mat', 'f8', (3, 3))])\n",
        "X = np.zeros(1, dtype=tp)\n",
        "print(X[0])\n",
        "print(X['mat'][0])"
      ]
    },
    {
      "cell_type": "markdown",
      "metadata": {
        "id": "c1ulOt5dZXEH"
      },
      "source": [
        "Now each element in the ``X`` array consists of an ``id`` and a $3\\times 3$ matrix.\n",
        "Why would you use this rather than a simple multidimensional array, or perhaps a Python dictionary?\n",
        "The reason is that this NumPy ``dtype`` directly maps onto a C structure definition, so the buffer containing the array content can be accessed directly within an appropriately written C program.\n",
        "If you find yourself writing a Python interface to a legacy C or Fortran library that manipulates structured data, you'll probably find structured arrays quite useful!"
      ]
    },
    {
      "cell_type": "markdown",
      "metadata": {
        "id": "W2qWSabNZXEH"
      },
      "source": [
        "## RecordArrays: Structured Arrays with a Twist\n",
        "\n",
        "NumPy also provides the ``np.recarray`` class, which is almost identical to the structured arrays just described, but with one additional feature: fields can be accessed as attributes rather than as dictionary keys.\n",
        "Recall that we previously accessed the ages by writing:"
      ]
    },
    {
      "cell_type": "code",
      "execution_count": null,
      "metadata": {
        "id": "CuNchBasZXEI",
        "outputId": "bc7189c3-b6b9-479f-d521-79ec2fe5aec2"
      },
      "outputs": [
        {
          "data": {
            "text/plain": [
              "array([25, 45, 37, 19], dtype=int32)"
            ]
          },
          "execution_count": 15,
          "metadata": {},
          "output_type": "execute_result"
        }
      ],
      "source": [
        "data['age']"
      ]
    },
    {
      "cell_type": "markdown",
      "metadata": {
        "id": "RwfF2ynmZXEI"
      },
      "source": [
        "If we view our data as a record array instead, we can access this with slightly fewer keystrokes:"
      ]
    },
    {
      "cell_type": "code",
      "execution_count": null,
      "metadata": {
        "id": "C50yoRCdZXEI",
        "outputId": "b26ba19f-a9b7-46c7-da68-c07dd2a507d9"
      },
      "outputs": [
        {
          "data": {
            "text/plain": [
              "array([25, 45, 37, 19], dtype=int32)"
            ]
          },
          "execution_count": 16,
          "metadata": {},
          "output_type": "execute_result"
        }
      ],
      "source": [
        "data_rec = data.view(np.recarray)\n",
        "data_rec.age"
      ]
    },
    {
      "cell_type": "markdown",
      "metadata": {
        "id": "KN9ieSryZXEI"
      },
      "source": [
        "The downside is that for record arrays, there is some extra overhead involved in accessing the fields, even when using the same syntax. We can see this here:"
      ]
    },
    {
      "cell_type": "code",
      "execution_count": null,
      "metadata": {
        "id": "dvtPm-OhZXEJ",
        "outputId": "c6126940-257f-4ecc-c80e-74bc98828660"
      },
      "outputs": [
        {
          "name": "stdout",
          "output_type": "stream",
          "text": [
            "1000000 loops, best of 3: 241 ns per loop\n",
            "100000 loops, best of 3: 4.61 µs per loop\n",
            "100000 loops, best of 3: 7.27 µs per loop\n"
          ]
        }
      ],
      "source": [
        "%timeit data['age']\n",
        "%timeit data_rec['age']\n",
        "%timeit data_rec.age"
      ]
    },
    {
      "cell_type": "markdown",
      "metadata": {
        "id": "soLFaSIeZXEJ"
      },
      "source": [
        "Whether the more convenient notation is worth the additional overhead will depend on your own application."
      ]
    }
  ],
  "metadata": {
    "anaconda-cloud": {},
    "colab": {
      "name": "02_09_Structured_Data_NumPy.ipynb",
      "provenance": [],
      "include_colab_link": true
    },
    "kernelspec": {
      "display_name": "Python 3 (ipykernel)",
      "language": "python",
      "name": "python3"
    },
    "language_info": {
      "codemirror_mode": {
        "name": "ipython",
        "version": 3
      },
      "file_extension": ".py",
      "mimetype": "text/x-python",
      "name": "python",
      "nbconvert_exporter": "python",
      "pygments_lexer": "ipython3",
      "version": "3.9.7"
    }
  },
  "nbformat": 4,
  "nbformat_minor": 0
}