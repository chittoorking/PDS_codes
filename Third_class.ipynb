{
  "cells": [
    {
      "cell_type": "markdown",
      "metadata": {
        "id": "view-in-github",
        "colab_type": "text"
      },
      "source": [
        "<a href=\"https://colab.research.google.com/github/chittoorking/PDS_codes/blob/main/Third_class.ipynb\" target=\"_parent\"><img src=\"https://colab.research.google.com/assets/colab-badge.svg\" alt=\"Open In Colab\"/></a>"
      ]
    },
    {
      "cell_type": "markdown",
      "id": "cb4f76ca",
      "metadata": {
        "id": "cb4f76ca"
      },
      "source": [
        "<h2>Few more string functions</h2>"
      ]
    },
    {
      "cell_type": "markdown",
      "id": "49a7452e",
      "metadata": {
        "id": "49a7452e"
      },
      "source": [
        "Find position of substring"
      ]
    },
    {
      "cell_type": "code",
      "execution_count": null,
      "id": "d9894289",
      "metadata": {
        "id": "d9894289",
        "outputId": "20bc62ab-9300-4100-b4b3-919f71d831d7"
      },
      "outputs": [
        {
          "name": "stdout",
          "output_type": "stream",
          "text": [
            "7\n"
          ]
        }
      ],
      "source": [
        "text = 'Python is fun'\n",
        "\n",
        "# find the index of is\n",
        "result = text.index('is')\n",
        "print(result)"
      ]
    },
    {
      "cell_type": "markdown",
      "id": "0df23119",
      "metadata": {
        "id": "0df23119"
      },
      "source": [
        "str.index(sub[, start[, end]] )"
      ]
    },
    {
      "cell_type": "code",
      "execution_count": null,
      "id": "2a501bc7",
      "metadata": {
        "id": "2a501bc7",
        "outputId": "0a3597a0-abe6-43b3-ca0f-8b6fb4fd0a77"
      },
      "outputs": [
        {
          "name": "stdout",
          "output_type": "stream",
          "text": [
            "15\n",
            "17\n"
          ]
        },
        {
          "ename": "ValueError",
          "evalue": "substring not found",
          "output_type": "error",
          "traceback": [
            "\u001b[0;31m---------------------------------------------------------------------------\u001b[0m",
            "\u001b[0;31mValueError\u001b[0m                                Traceback (most recent call last)",
            "\u001b[0;32m/var/folders/93/xfc0v8hd5dgdxb83wcj0199h0000gn/T/ipykernel_65955/4073780997.py\u001b[0m in \u001b[0;36m<module>\u001b[0;34m\u001b[0m\n\u001b[1;32m      8\u001b[0m \u001b[0;34m\u001b[0m\u001b[0m\n\u001b[1;32m      9\u001b[0m \u001b[0;31m# Substring is searched in 'programming'\u001b[0m\u001b[0;34m\u001b[0m\u001b[0;34m\u001b[0m\u001b[0m\n\u001b[0;32m---> 10\u001b[0;31m \u001b[0mprint\u001b[0m\u001b[0;34m(\u001b[0m\u001b[0msentence\u001b[0m\u001b[0;34m.\u001b[0m\u001b[0mindex\u001b[0m\u001b[0;34m(\u001b[0m\u001b[0;34m'fun'\u001b[0m\u001b[0;34m,\u001b[0m \u001b[0;36m7\u001b[0m\u001b[0;34m,\u001b[0m \u001b[0;36m18\u001b[0m\u001b[0;34m)\u001b[0m\u001b[0;34m)\u001b[0m\u001b[0;34m\u001b[0m\u001b[0;34m\u001b[0m\u001b[0m\n\u001b[0m",
            "\u001b[0;31mValueError\u001b[0m: substring not found"
          ]
        }
      ],
      "source": [
        "sentence = 'Python programming is fun.'\n",
        "\n",
        "# Substring is searched in 'gramming is fun.'\n",
        "print(sentence.index('ing', 10))\n",
        "\n",
        "# Substring is searched in 'gramming is '\n",
        "print(sentence.index('g is', 10, -4))\n",
        "\n",
        "# Substring is searched in 'programming'\n",
        "print(sentence.index('fun', 7, 18))"
      ]
    },
    {
      "cell_type": "markdown",
      "id": "28f8ab2e",
      "metadata": {
        "id": "28f8ab2e"
      },
      "source": [
        "str.find(sub[, start[, end]] )"
      ]
    },
    {
      "cell_type": "code",
      "execution_count": null,
      "id": "b1c5808f",
      "metadata": {
        "id": "b1c5808f",
        "outputId": "3835a495-80ce-4578-88f7-c267a8e573dd"
      },
      "outputs": [
        {
          "name": "stdout",
          "output_type": "stream",
          "text": [
            "21\n",
            "3\n",
            "-1\n",
            "9\n"
          ]
        },
        {
          "data": {
            "text/plain": [
              "'Do small things with great love'"
            ]
          },
          "execution_count": 6,
          "metadata": {},
          "output_type": "execute_result"
        }
      ],
      "source": [
        "quote = 'Do small things with great love'\n",
        "\n",
        "# Substring is searched in 'hings with great love'\n",
        "print(quote.find('great', 10))\n",
        "\n",
        "# Substring is searched in ' small things with great love' \n",
        "print(quote.find('small things', 2))\n",
        "\n",
        "# Substring is searched in 'hings with great lov'\n",
        "print(quote.find('o small ', 10, -1))\n",
        "\n",
        "# Substring is searched in 'll things with'\n",
        "print(quote.find('things ', 6, 20))\n",
        "quote"
      ]
    },
    {
      "cell_type": "markdown",
      "id": "d165fbd1",
      "metadata": {
        "id": "d165fbd1"
      },
      "source": [
        "Replace a substring"
      ]
    },
    {
      "cell_type": "code",
      "execution_count": null,
      "id": "086c19d8",
      "metadata": {
        "id": "086c19d8",
        "outputId": "af704e7d-7820-4952-d4a3-32a20551fa8c"
      },
      "outputs": [
        {
          "name": "stdout",
          "output_type": "stream",
          "text": [
            "cat call\n"
          ]
        }
      ],
      "source": [
        "text = 'bat ball'\n",
        "\n",
        "replaced_text = text.replace('b', 'c')\n",
        "print(replaced_text)"
      ]
    },
    {
      "cell_type": "markdown",
      "id": "b029253d",
      "metadata": {
        "id": "b029253d"
      },
      "source": [
        "str.replace(old, new [, count]) "
      ]
    },
    {
      "cell_type": "code",
      "execution_count": null,
      "id": "344bec72",
      "metadata": {
        "id": "344bec72",
        "outputId": "f0992af9-37b6-41f2-e264-9ce619aa77ae"
      },
      "outputs": [
        {
          "name": "stdout",
          "output_type": "stream",
          "text": [
            "hurt, cold heart\n",
            "Let it be, don't let it be, don't let it be, let it be\n"
          ]
        }
      ],
      "source": [
        "song = 'cold, cold heart'\n",
        "\n",
        "# replacing 'cold' with 'hurt'\n",
        "print(song.replace('cold', 'hurt', 1))\n",
        "\n",
        "song = 'Let it be, let it be, let it be, let it be'\n",
        "\n",
        "# replacing only two occurences of 'let'\n",
        "print(song.replace('let', \"don't let\", 2))"
      ]
    },
    {
      "cell_type": "markdown",
      "id": "08ca0496",
      "metadata": {
        "id": "08ca0496"
      },
      "source": [
        "<h2>LISTS</h2>"
      ]
    },
    {
      "cell_type": "code",
      "execution_count": null,
      "id": "b3a2e179",
      "metadata": {
        "id": "b3a2e179",
        "outputId": "775338db-8f24-4d58-c601-a42a71e1f566"
      },
      "outputs": [
        {
          "data": {
            "text/plain": [
              "[1, 'spam', 9.0, 42]"
            ]
          },
          "execution_count": 9,
          "metadata": {},
          "output_type": "execute_result"
        }
      ],
      "source": [
        "s = [1, \"spam\", 9.0, 42]\n",
        "s"
      ]
    },
    {
      "cell_type": "markdown",
      "id": "ddc95c8e",
      "metadata": {
        "id": "ddc95c8e"
      },
      "source": [
        "list.append(item)"
      ]
    },
    {
      "cell_type": "code",
      "execution_count": null,
      "id": "434f58fc",
      "metadata": {
        "id": "434f58fc",
        "outputId": "1c277093-1c5a-43b1-8e6e-e1b502ca2649"
      },
      "outputs": [
        {
          "name": "stdout",
          "output_type": "stream",
          "text": [
            "['Dollar', 'Euro', 'Pound', 'Yen']\n"
          ]
        }
      ],
      "source": [
        "currencies = ['Dollar', 'Euro', 'Pound']\n",
        "\n",
        "currencies.append('Yen')\n",
        "\n",
        "print(currencies)"
      ]
    },
    {
      "cell_type": "code",
      "execution_count": null,
      "id": "62875ed6",
      "metadata": {
        "id": "62875ed6",
        "outputId": "0f6f362c-2d1f-449e-a8d7-fb5c845c83ef"
      },
      "outputs": [
        {
          "name": "stdout",
          "output_type": "stream",
          "text": [
            "Updated animals list:  ['cat', 'dog', 'rabbit', ['tiger', 'fox']]\n"
          ]
        }
      ],
      "source": [
        "# animals list\n",
        "animals = ['cat', 'dog', 'rabbit']\n",
        "\n",
        "# list of wild animals\n",
        "wild_animals = ['tiger', 'fox']\n",
        "\n",
        "# appending wild_animals list to animals\n",
        "animals.append(wild_animals)\n",
        "\n",
        "print('Updated animals list: ', animals)"
      ]
    },
    {
      "cell_type": "code",
      "execution_count": null,
      "id": "43763606",
      "metadata": {
        "id": "43763606",
        "outputId": "9f0c24d5-c176-4050-e969-4286068d9eed"
      },
      "outputs": [
        {
          "name": "stdout",
          "output_type": "stream",
          "text": [
            "List after extend(): [1, 4, 2, 3, 5]\n"
          ]
        }
      ],
      "source": [
        "prime_numbers = [2, 3, 5]\n",
        "\n",
        "numbers = [1, 4]\n",
        "\n",
        "# add all elements of prime_numbers to numbers\n",
        "numbers.extend(prime_numbers)\n",
        "\n",
        "print('List after extend():', numbers)"
      ]
    },
    {
      "cell_type": "markdown",
      "id": "d6aea0cb",
      "metadata": {
        "id": "d6aea0cb"
      },
      "source": [
        "Other ways to extend using + operator"
      ]
    },
    {
      "cell_type": "code",
      "execution_count": null,
      "id": "2f6ed558",
      "metadata": {
        "id": "2f6ed558",
        "outputId": "109bde0c-7a51-461f-cf76-59385b8d919c"
      },
      "outputs": [
        {
          "data": {
            "text/plain": [
              "[2, 3, 5, 1, 4, 2, 3, 5]"
            ]
          },
          "execution_count": 13,
          "metadata": {},
          "output_type": "execute_result"
        }
      ],
      "source": [
        "prime_numbers + numbers"
      ]
    },
    {
      "cell_type": "code",
      "execution_count": null,
      "id": "adfd57f6",
      "metadata": {
        "id": "adfd57f6",
        "outputId": "a038ca5e-4639-4625-8731-5618c37c3d1e"
      },
      "outputs": [
        {
          "data": {
            "text/plain": [
              "[1, 2, 3, 4]"
            ]
          },
          "execution_count": 14,
          "metadata": {},
          "output_type": "execute_result"
        }
      ],
      "source": [
        "a = [1, 2]\n",
        "b = [3, 4]\n",
        "\n",
        "a += b \n",
        "a"
      ]
    },
    {
      "cell_type": "code",
      "execution_count": null,
      "id": "51ca0bab",
      "metadata": {
        "id": "51ca0bab",
        "outputId": "d5773975-87df-4065-a28b-cea03646ac14"
      },
      "outputs": [
        {
          "name": "stdout",
          "output_type": "stream",
          "text": [
            "[1, 2, 3, 4]\n",
            "[1, 2, (3, 4)]\n"
          ]
        }
      ],
      "source": [
        "a1 = [1, 2]\n",
        "a2 = [1, 2]\n",
        "b = (3, 4)\n",
        "\n",
        "a1.extend(b) \n",
        "print(a1)\n",
        "\n",
        "a2.append(b)\n",
        "print(a2)"
      ]
    },
    {
      "cell_type": "markdown",
      "id": "73540450",
      "metadata": {
        "id": "73540450"
      },
      "source": [
        "list.insert(i, elem)"
      ]
    },
    {
      "cell_type": "code",
      "execution_count": null,
      "id": "45a8b2f5",
      "metadata": {
        "id": "45a8b2f5",
        "outputId": "748cc700-3dca-4044-d8e2-288de05bc371"
      },
      "outputs": [
        {
          "name": "stdout",
          "output_type": "stream",
          "text": [
            "List: [2, 3, 5, 7, 11]\n"
          ]
        }
      ],
      "source": [
        "prime_numbers = [2, 3, 5, 7]\n",
        "\n",
        "prime_numbers.insert(4, 11)\n",
        "\n",
        "print('List:', prime_numbers)"
      ]
    },
    {
      "cell_type": "code",
      "execution_count": null,
      "id": "0e956926",
      "metadata": {
        "id": "0e956926",
        "outputId": "7a47a0ee-d03d-46a8-ad60-15b5e3becf7c"
      },
      "outputs": [
        {
          "name": "stdout",
          "output_type": "stream",
          "text": [
            "Updated List: [{1, 2}, (3, 4), [5, 6, 7]]\n"
          ]
        }
      ],
      "source": [
        "mixed_list = [{1, 2}, [5, 6, 7]]\n",
        "\n",
        "# number tuple\n",
        "number_tuple = (3, 4)\n",
        "\n",
        "# inserting a tuple to the list\n",
        "mixed_list.insert(1, number_tuple)\n",
        "\n",
        "print('Updated List:', mixed_list)"
      ]
    },
    {
      "cell_type": "markdown",
      "id": "aa64b793",
      "metadata": {
        "id": "aa64b793"
      },
      "source": [
        "list.count(element)"
      ]
    },
    {
      "cell_type": "code",
      "execution_count": null,
      "id": "fa3f78c5",
      "metadata": {
        "id": "fa3f78c5",
        "outputId": "57541d92-1492-4da4-bee8-9bfed95c0222"
      },
      "outputs": [
        {
          "name": "stdout",
          "output_type": "stream",
          "text": [
            "2\n"
          ]
        }
      ],
      "source": [
        "# random list\n",
        "random_list = [1, 5, 10, 40, 100, 120, 135, 10, 50]\n",
        "count = random_list.count(10)\n",
        "print(count)\n"
      ]
    },
    {
      "cell_type": "code",
      "execution_count": null,
      "id": "6f7f4596",
      "metadata": {
        "id": "6f7f4596",
        "outputId": "52ee1b55-0834-4b97-81c9-145229cb3834"
      },
      "outputs": [
        {
          "name": "stdout",
          "output_type": "stream",
          "text": [
            "The count of ('a', 'b') is: 1\n"
          ]
        }
      ],
      "source": [
        "random = ['a', ('a', 'b'), ('a', 'b'), [3, 4]]\n",
        "\n",
        "# count element ('a', 'b')\n",
        "count = random.count(('a'))\n",
        "\n",
        "# print count\n",
        "print(\"The count of ('a', 'b') is:\", count)"
      ]
    },
    {
      "cell_type": "markdown",
      "id": "14ec94c3",
      "metadata": {
        "id": "14ec94c3"
      },
      "source": [
        "list.index(element, start, end)"
      ]
    },
    {
      "cell_type": "code",
      "execution_count": null,
      "id": "a591c617",
      "metadata": {
        "id": "a591c617",
        "outputId": "548ae4d2-1315-4f6e-e149-daf025a3632f"
      },
      "outputs": [
        {
          "name": "stdout",
          "output_type": "stream",
          "text": [
            "The index of e: 1\n"
          ]
        },
        {
          "ename": "ValueError",
          "evalue": "'i' is not in list",
          "output_type": "error",
          "traceback": [
            "\u001b[0;31m---------------------------------------------------------------------------\u001b[0m",
            "\u001b[0;31mValueError\u001b[0m                                Traceback (most recent call last)",
            "\u001b[0;32m/var/folders/93/xfc0v8hd5dgdxb83wcj0199h0000gn/T/ipykernel_65955/3360360223.py\u001b[0m in \u001b[0;36m<module>\u001b[0;34m\u001b[0m\n\u001b[1;32m      5\u001b[0m \u001b[0;34m\u001b[0m\u001b[0m\n\u001b[1;32m      6\u001b[0m \u001b[0;31m# 'i' between 3rd and 5th index is searched\u001b[0m\u001b[0;34m\u001b[0m\u001b[0;34m\u001b[0m\u001b[0m\n\u001b[0;32m----> 7\u001b[0;31m \u001b[0mindex\u001b[0m \u001b[0;34m=\u001b[0m \u001b[0malphabets\u001b[0m\u001b[0;34m.\u001b[0m\u001b[0mindex\u001b[0m\u001b[0;34m(\u001b[0m\u001b[0;34m'i'\u001b[0m\u001b[0;34m,\u001b[0m \u001b[0;36m3\u001b[0m\u001b[0;34m,\u001b[0m \u001b[0;36m5\u001b[0m\u001b[0;34m)\u001b[0m\u001b[0;34m\u001b[0m\u001b[0;34m\u001b[0m\u001b[0m\n\u001b[0m\u001b[1;32m      8\u001b[0m \u001b[0mprint\u001b[0m\u001b[0;34m(\u001b[0m\u001b[0;34m'The index of i:'\u001b[0m\u001b[0;34m,\u001b[0m \u001b[0mindex\u001b[0m\u001b[0;34m)\u001b[0m\u001b[0;34m\u001b[0m\u001b[0;34m\u001b[0m\u001b[0m\n",
            "\u001b[0;31mValueError\u001b[0m: 'i' is not in list"
          ]
        }
      ],
      "source": [
        "alphabets = ['a', 'e', 'i', 'o', 'g', 'l', 'i', 'u']\n",
        "\n",
        "index = alphabets.index('e')   \n",
        "print('The index of e:', index)\n",
        "\n",
        "# 'i' between 3rd and 5th index is searched\n",
        "index = alphabets.index('i', 3, 5)   \n",
        "print('The index of i:', index)"
      ]
    },
    {
      "cell_type": "markdown",
      "id": "b2fda0d7",
      "metadata": {
        "id": "b2fda0d7"
      },
      "source": [
        "list.pop(index)"
      ]
    },
    {
      "cell_type": "code",
      "execution_count": null,
      "id": "ef81fb10",
      "metadata": {
        "id": "ef81fb10",
        "outputId": "c898a6b6-d302-4753-fca4-f50449142c58"
      },
      "outputs": [
        {
          "name": "stdout",
          "output_type": "stream",
          "text": [
            "Return value: 3\n",
            "Updated List: [2, 5, 7]\n"
          ]
        }
      ],
      "source": [
        "prime_numbers = [2, 3, 5, 7]\n",
        "\n",
        "print('Return value:',prime_numbers.pop(1))\n",
        "\n",
        "print('Updated List:', prime_numbers)"
      ]
    },
    {
      "cell_type": "markdown",
      "id": "a35f7d66",
      "metadata": {
        "id": "a35f7d66"
      },
      "source": [
        "list.remove(element)\n",
        "\n",
        "If a list contains duplicate elements, the remove() method only removes the first matching element. If you remove an element that doesn't exist, it will throw an error."
      ]
    },
    {
      "cell_type": "code",
      "execution_count": null,
      "id": "bed861e1",
      "metadata": {
        "id": "bed861e1",
        "outputId": "94bfd059-ceb3-4f81-8689-0132349c2870"
      },
      "outputs": [
        {
          "name": "stdout",
          "output_type": "stream",
          "text": [
            "Updated animals list:  ['cat', 'dog', 'guinea pig', 'dog']\n"
          ]
        }
      ],
      "source": [
        "animals = ['cat', 'dog', 'dog', 'guinea pig', 'dog']\n",
        "\n",
        "# 'dog' is removed\n",
        "animals.remove('dog')\n",
        "\n",
        "print('Updated animals list: ', animals)"
      ]
    },
    {
      "cell_type": "markdown",
      "id": "b150d1a3",
      "metadata": {
        "id": "b150d1a3"
      },
      "source": [
        "How to remove all occurences? \n",
        "\n",
        "Worksheet: Create a list of 100 random numbers within a range of [1, 20]. Try to remove the occurences of redundant numbers."
      ]
    },
    {
      "cell_type": "markdown",
      "id": "64fb37be",
      "metadata": {
        "id": "64fb37be"
      },
      "source": [
        "list.reverse()"
      ]
    },
    {
      "cell_type": "code",
      "execution_count": null,
      "id": "8bac6ced",
      "metadata": {
        "id": "8bac6ced",
        "outputId": "b1ce7b15-f1a3-421a-bece-64072d4ccf90"
      },
      "outputs": [
        {
          "name": "stdout",
          "output_type": "stream",
          "text": [
            "Original List: ['Windows', 'macOS', 'Linux']\n",
            "Updated List: ['Linux', 'macOS', 'Windows']\n"
          ]
        }
      ],
      "source": [
        "systems = ['Windows', 'macOS', 'Linux']\n",
        "print('Original List:', systems)\n",
        "\n",
        "systems.reverse()\n",
        "\n",
        "# updated list\n",
        "print('Updated List:', systems)"
      ]
    },
    {
      "cell_type": "markdown",
      "id": "76b4e423",
      "metadata": {
        "id": "76b4e423"
      },
      "source": [
        "We can reverse the elements using slicing operator"
      ]
    },
    {
      "cell_type": "code",
      "execution_count": null,
      "id": "e4938c33",
      "metadata": {
        "id": "e4938c33",
        "outputId": "c7456e30-9e88-4fb4-b539-136f99818186"
      },
      "outputs": [
        {
          "name": "stdout",
          "output_type": "stream",
          "text": [
            "Updated List: ['Windows', 'macOS', 'Linux']\n"
          ]
        }
      ],
      "source": [
        "reversed_list = systems[2::-1]\n",
        "\n",
        "print('Updated List:', reversed_list)"
      ]
    },
    {
      "cell_type": "markdown",
      "id": "0db25c4b",
      "metadata": {
        "id": "0db25c4b"
      },
      "source": [
        "list.sort(key=..., reverse=...)\n",
        "\n",
        "The sort() method sorts the elements of a given list in a specific ascending or descending order.\n",
        "\n",
        "sorted(list, key=..., reverse=...)\n",
        "\n",
        "The simplest difference between sort() and sorted() is: sort() changes the list directly and doesn't return any value, while sorted() doesn't change the list and returns the sorted list."
      ]
    },
    {
      "cell_type": "code",
      "execution_count": null,
      "id": "bd18290a",
      "metadata": {
        "id": "bd18290a",
        "outputId": "5c7c5bf7-4f85-455f-b5dd-2eff0cde7ffa"
      },
      "outputs": [
        {
          "name": "stdout",
          "output_type": "stream",
          "text": [
            "Sorted list: None\n",
            "Sorted list: None\n",
            "Sorted list: ['a', 'e', 'i', 'o', 'u']\n",
            "Sorted list: ['u', 'o', 'i', 'e', 'a']\n"
          ]
        }
      ],
      "source": [
        "vowels = ['e', 'a', 'u', 'o', 'i']\n",
        "\n",
        "# print vowels\n",
        "print('Sorted list:', vowels.sort())\n",
        "print('Sorted list:', vowels.sort(reverse=True))\n",
        "\n",
        "print('Sorted list:', sorted(vowels))\n",
        "print('Sorted list:', sorted(vowels, reverse=True))"
      ]
    },
    {
      "cell_type": "code",
      "execution_count": null,
      "id": "3f77d579",
      "metadata": {
        "id": "3f77d579",
        "outputId": "95782bc4-bebd-44ab-84f9-b92a8170e6af"
      },
      "outputs": [
        {
          "name": "stdout",
          "output_type": "stream",
          "text": [
            "Sorted list: ['a', 'e', 'i', 'o', 'u']\n"
          ]
        }
      ],
      "source": [
        "vowels.sort()\n",
        "print('Sorted list:', vowels)"
      ]
    },
    {
      "cell_type": "code",
      "execution_count": null,
      "id": "eabfa1bb",
      "metadata": {
        "id": "eabfa1bb",
        "outputId": "6bec0654-d849-4b4c-b190-ba8d87080932"
      },
      "outputs": [
        {
          "ename": "TypeError",
          "evalue": "'int' object is not callable",
          "output_type": "error",
          "traceback": [
            "\u001b[0;31m---------------------------------------------------------------------------\u001b[0m",
            "\u001b[0;31mTypeError\u001b[0m                                 Traceback (most recent call last)",
            "\u001b[0;32m/var/folders/93/xfc0v8hd5dgdxb83wcj0199h0000gn/T/ipykernel_65955/1442374069.py\u001b[0m in \u001b[0;36m<module>\u001b[0;34m\u001b[0m\n\u001b[1;32m      2\u001b[0m \u001b[0;34m\u001b[0m\u001b[0m\n\u001b[1;32m      3\u001b[0m \u001b[0;31m# sort list with key\u001b[0m\u001b[0;34m\u001b[0m\u001b[0;34m\u001b[0m\u001b[0m\n\u001b[0;32m----> 4\u001b[0;31m \u001b[0mrandom\u001b[0m\u001b[0;34m.\u001b[0m\u001b[0msort\u001b[0m\u001b[0;34m(\u001b[0m\u001b[0mkey\u001b[0m \u001b[0;34m=\u001b[0m \u001b[0;36m2\u001b[0m\u001b[0;34m)\u001b[0m\u001b[0;34m\u001b[0m\u001b[0;34m\u001b[0m\u001b[0m\n\u001b[0m\u001b[1;32m      5\u001b[0m \u001b[0;34m\u001b[0m\u001b[0m\n\u001b[1;32m      6\u001b[0m \u001b[0;31m# print list\u001b[0m\u001b[0;34m\u001b[0m\u001b[0;34m\u001b[0m\u001b[0m\n",
            "\u001b[0;31mTypeError\u001b[0m: 'int' object is not callable"
          ]
        }
      ],
      "source": [
        "random = [(2, 2), (3, 4), (4, 1), (1, 3)]\n",
        "\n",
        "# sort list with key\n",
        "random.sort(key = 2)\n",
        "\n",
        "# print list\n",
        "print('Sorted list:', random)"
      ]
    },
    {
      "cell_type": "markdown",
      "id": "dda50d98",
      "metadata": {
        "id": "dda50d98"
      },
      "source": [
        "To sort the above list we need to define a user-defined function.\n",
        "\n",
        "def function_name(parameters):\n",
        "    \"\"\"docstring\"\"\"\n",
        "    statement(s)\n",
        "    return expression"
      ]
    },
    {
      "cell_type": "code",
      "execution_count": null,
      "id": "ebfece3e",
      "metadata": {
        "id": "ebfece3e"
      },
      "outputs": [],
      "source": [
        "def function():\n",
        "    print(\"WELCOME\")"
      ]
    },
    {
      "cell_type": "code",
      "execution_count": null,
      "id": "0b0bfb6e",
      "metadata": {
        "id": "0b0bfb6e",
        "outputId": "0d94a2bf-a5af-40bd-e362-c45a6181e483"
      },
      "outputs": [
        {
          "name": "stdout",
          "output_type": "stream",
          "text": [
            "WELCOME\n"
          ]
        }
      ],
      "source": [
        "function()"
      ]
    },
    {
      "cell_type": "code",
      "execution_count": null,
      "id": "71f10d82",
      "metadata": {
        "id": "71f10d82"
      },
      "outputs": [],
      "source": [
        "def fun1():\n",
        "    \"\"\"This need to be printed along with the function\"\"\"\n",
        "    print(\"WELCOME\")"
      ]
    },
    {
      "cell_type": "code",
      "execution_count": null,
      "id": "2ef7a365",
      "metadata": {
        "id": "2ef7a365",
        "outputId": "d88697b3-6023-48d8-d35d-a50466f3e159"
      },
      "outputs": [
        {
          "name": "stdout",
          "output_type": "stream",
          "text": [
            "This need to be printed along with the function\n"
          ]
        }
      ],
      "source": [
        "print(fun1.__doc__)"
      ]
    },
    {
      "cell_type": "code",
      "execution_count": null,
      "id": "4aeadcba",
      "metadata": {
        "id": "4aeadcba"
      },
      "outputs": [],
      "source": [
        "fun1()"
      ]
    },
    {
      "cell_type": "code",
      "execution_count": null,
      "id": "c9242e3c",
      "metadata": {
        "id": "c9242e3c"
      },
      "outputs": [],
      "source": [
        "def takeFirst(random):\n",
        "    return random[0]\n",
        "\n",
        "def takeSecond(random):\n",
        "    return random[1]"
      ]
    },
    {
      "cell_type": "code",
      "execution_count": null,
      "id": "fc6b4b98",
      "metadata": {
        "id": "fc6b4b98",
        "outputId": "485bd025-015e-424c-8492-9c1971b5595d"
      },
      "outputs": [
        {
          "name": "stdout",
          "output_type": "stream",
          "text": [
            "Sorted list: [(4, 1), (2, 2), (1, 3), (3, 4)]\n"
          ]
        }
      ],
      "source": [
        "random = [(2, 2), (3, 4), (4, 1), (1, 3)]\n",
        "\n",
        "# sort list with key\n",
        "random.sort(key = takeSecond)\n",
        "\n",
        "# print list\n",
        "print('Sorted list:', random)"
      ]
    },
    {
      "cell_type": "code",
      "execution_count": null,
      "id": "cc92e1a6",
      "metadata": {
        "id": "cc92e1a6",
        "outputId": "fb31d572-43e7-4a75-adec-20d86e343e1d"
      },
      "outputs": [
        {
          "name": "stdout",
          "output_type": "stream",
          "text": [
            "Sorted list: [(1, 3), (2, 2), (3, 4), (4, 1)]\n"
          ]
        }
      ],
      "source": [
        "random.sort(key = takeFirst)\n",
        "\n",
        "# print list\n",
        "print('Sorted list:', random)"
      ]
    },
    {
      "cell_type": "markdown",
      "id": "ce2f109b",
      "metadata": {
        "id": "ce2f109b"
      },
      "source": [
        "Tuples"
      ]
    },
    {
      "cell_type": "code",
      "execution_count": null,
      "id": "3720fe17",
      "metadata": {
        "id": "3720fe17",
        "outputId": "38261f2a-4197-4369-be11-ef6c644a2efb"
      },
      "outputs": [
        {
          "data": {
            "text/plain": [
              "54.0"
            ]
          },
          "execution_count": 38,
          "metadata": {},
          "output_type": "execute_result"
        }
      ],
      "source": [
        "s = (1, 2, 9.0, 42)\n",
        "sum(s)"
      ]
    },
    {
      "cell_type": "code",
      "execution_count": null,
      "id": "41db3842",
      "metadata": {
        "id": "41db3842"
      },
      "outputs": [],
      "source": [
        ""
      ]
    }
  ],
  "metadata": {
    "kernelspec": {
      "display_name": "Python 3 (ipykernel)",
      "language": "python",
      "name": "python3"
    },
    "language_info": {
      "codemirror_mode": {
        "name": "ipython",
        "version": 3
      },
      "file_extension": ".py",
      "mimetype": "text/x-python",
      "name": "python",
      "nbconvert_exporter": "python",
      "pygments_lexer": "ipython3",
      "version": "3.9.7"
    },
    "colab": {
      "name": "Third_class.ipynb",
      "provenance": [],
      "include_colab_link": true
    }
  },
  "nbformat": 4,
  "nbformat_minor": 5
}