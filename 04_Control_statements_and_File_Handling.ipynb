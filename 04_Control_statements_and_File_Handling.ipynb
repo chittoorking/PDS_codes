{
  "cells": [
    {
      "cell_type": "markdown",
      "metadata": {
        "id": "view-in-github",
        "colab_type": "text"
      },
      "source": [
        "<a href=\"https://colab.research.google.com/github/chittoorking/PDS_codes/blob/main/04_Control_statements_and_File_Handling.ipynb\" target=\"_parent\"><img src=\"https://colab.research.google.com/assets/colab-badge.svg\" alt=\"Open In Colab\"/></a>"
      ]
    },
    {
      "cell_type": "raw",
      "id": "70811dd9",
      "metadata": {
        "id": "70811dd9"
      },
      "source": [
        "In other languages:\n",
        "\n",
        "   if (a>b) {\n",
        "       a = 2;\n",
        "       b = 4;\n",
        "   }\n",
        "   \n",
        "In python:\n",
        "\n",
        "   if a>b:\n",
        "      a = 2\n",
        "      b = 4\n",
        "\n",
        "\n",
        "Points to be remembered:\n",
        "\n",
        "1. No semicolons\n",
        "2. No braces\n",
        "3. Proper Intendation - It is important to have a good understanding of how intendation works in python to maintain the structure and order of your code.\n",
        "    \n",
        "    \n",
        "For Nested-IF statement:\n",
        "\n",
        "\n",
        "  if x:\n",
        "      if y:\n",
        "          statement 1\n",
        "  else:\n",
        "      statement"
      ]
    },
    {
      "cell_type": "code",
      "execution_count": null,
      "id": "5f3dbdcd",
      "metadata": {
        "id": "5f3dbdcd",
        "outputId": "a28f7fab-8c40-4d6b-960e-039352ebc117"
      },
      "outputs": [
        {
          "name": "stdout",
          "output_type": "stream",
          "text": [
            "It is True!\n"
          ]
        }
      ],
      "source": [
        "if True:\n",
        "    print(\"It is True!\")"
      ]
    },
    {
      "cell_type": "code",
      "execution_count": null,
      "id": "a9a5ae41",
      "metadata": {
        "id": "a9a5ae41",
        "outputId": "a7990a34-067c-43e1-f1f7-cbfdc327f39d"
      },
      "outputs": [
        {
          "name": "stdout",
          "output_type": "stream",
          "text": [
            "x is not true\n"
          ]
        }
      ],
      "source": [
        "x = False\n",
        "\n",
        "if x:\n",
        "    print(\"x is Ture!\")\n",
        "else:\n",
        "    print(\"x is not true\")  "
      ]
    },
    {
      "cell_type": "markdown",
      "id": "a4aa09de",
      "metadata": {
        "id": "a4aa09de"
      },
      "source": [
        "<h3>Multiple Branches</h3>"
      ]
    },
    {
      "cell_type": "code",
      "execution_count": null,
      "id": "b4790be4",
      "metadata": {
        "id": "b4790be4",
        "outputId": "c9586784-04f1-4a93-e535-6ed8d1a40007"
      },
      "outputs": [
        {
          "name": "stdout",
          "output_type": "stream",
          "text": [
            "Welcome to the Bank!\n"
          ]
        }
      ],
      "source": [
        "loc = 'Bank'\n",
        "\n",
        "if loc == 'Auto shop':\n",
        "    print(\"Welcome to Auto Shop!\")\n",
        "elif loc == 'Bank':\n",
        "    print(\"Welcome to the Bank!\")\n",
        "else:\n",
        "    print(\"Where are you?\")"
      ]
    },
    {
      "cell_type": "markdown",
      "id": "79652995",
      "metadata": {
        "id": "79652995"
      },
      "source": [
        "<h3>for loops</h3>"
      ]
    },
    {
      "cell_type": "raw",
      "id": "891eeb78",
      "metadata": {
        "id": "891eeb78"
      },
      "source": [
        "syntax:\n",
        "    \n",
        "    for item in object:\n",
        "        statements to do stuff"
      ]
    },
    {
      "cell_type": "markdown",
      "id": "2348cb0c",
      "metadata": {
        "id": "2348cb0c"
      },
      "source": [
        "Example 1: Iterating through a list"
      ]
    },
    {
      "cell_type": "code",
      "execution_count": null,
      "id": "15138d24",
      "metadata": {
        "id": "15138d24"
      },
      "outputs": [],
      "source": [
        "list1 = [1,2,3,4,5,6,7,8,9,10]"
      ]
    },
    {
      "cell_type": "code",
      "execution_count": null,
      "id": "b08b43a9",
      "metadata": {
        "id": "b08b43a9",
        "outputId": "a037be07-c2be-47b3-b7ed-7351fefa1e56"
      },
      "outputs": [
        {
          "name": "stdout",
          "output_type": "stream",
          "text": [
            "1\n",
            "2\n",
            "3\n",
            "4\n",
            "5\n",
            "6\n",
            "7\n",
            "8\n",
            "9\n",
            "10\n"
          ]
        }
      ],
      "source": [
        "for num in list1:\n",
        "    print(num)"
      ]
    },
    {
      "cell_type": "markdown",
      "id": "65802946",
      "metadata": {
        "id": "65802946"
      },
      "source": [
        "Example 2: Finding even or odd"
      ]
    },
    {
      "cell_type": "code",
      "execution_count": null,
      "id": "694fc951",
      "metadata": {
        "id": "694fc951",
        "outputId": "c2c7f19a-547d-4bb6-827d-69f510cbead6"
      },
      "outputs": [
        {
          "name": "stdout",
          "output_type": "stream",
          "text": [
            "odd\n",
            "Even\n",
            "odd\n",
            "Even\n",
            "odd\n",
            "Even\n",
            "odd\n",
            "Even\n",
            "odd\n",
            "Even\n"
          ]
        }
      ],
      "source": [
        "for num in list1:\n",
        "    if num % 2 == 0:\n",
        "        print(\"Even\")\n",
        "    else:\n",
        "        print(\"odd\")"
      ]
    },
    {
      "cell_type": "markdown",
      "id": "1f84ef8e",
      "metadata": {
        "id": "1f84ef8e"
      },
      "source": [
        "Example 3: Adding the numbers in the list"
      ]
    },
    {
      "cell_type": "code",
      "execution_count": null,
      "id": "cf5d640b",
      "metadata": {
        "id": "cf5d640b"
      },
      "outputs": [],
      "source": [
        "# Do the code here"
      ]
    },
    {
      "cell_type": "markdown",
      "id": "73fce730",
      "metadata": {
        "id": "73fce730"
      },
      "source": [
        "Example 4: Let's do it with strings"
      ]
    },
    {
      "cell_type": "code",
      "execution_count": null,
      "id": "870c3e18",
      "metadata": {
        "id": "870c3e18",
        "outputId": "2b45cd58-57f4-41a3-e566-196007315179"
      },
      "outputs": [
        {
          "name": "stdout",
          "output_type": "stream",
          "text": [
            "T\n",
            "h\n",
            "i\n",
            "s\n",
            " \n",
            "i\n",
            "s\n",
            " \n",
            "s\n",
            "t\n",
            "r\n",
            "i\n",
            "n\n",
            "g\n"
          ]
        }
      ],
      "source": [
        "for letter in \"This is string\":\n",
        "    print(letter)"
      ]
    },
    {
      "cell_type": "markdown",
      "id": "a189bf96",
      "metadata": {
        "id": "a189bf96"
      },
      "source": [
        "Example 5: with tuples"
      ]
    },
    {
      "cell_type": "code",
      "execution_count": null,
      "id": "1b657724",
      "metadata": {
        "id": "1b657724",
        "outputId": "89e12a20-b084-45e8-dec2-f5bd3a3970cc"
      },
      "outputs": [
        {
          "name": "stdout",
          "output_type": "stream",
          "text": [
            "1\n",
            "2\n",
            "3\n",
            "4\n",
            "5\n"
          ]
        }
      ],
      "source": [
        "tup = (1, 2, 3, 4, 5)\n",
        "\n",
        "for t in tup:\n",
        "    print(t)"
      ]
    },
    {
      "cell_type": "code",
      "execution_count": null,
      "id": "c2d05aa1",
      "metadata": {
        "id": "c2d05aa1",
        "outputId": "e613b451-8b89-45de-a949-f89195ba69d5"
      },
      "outputs": [
        {
          "name": "stdout",
          "output_type": "stream",
          "text": [
            "(2, 4)\n",
            "(3, 5)\n",
            "(1, 2)\n",
            "(6, 7)\n"
          ]
        }
      ],
      "source": [
        "list2 = [(2,4), (3,5), (1,2), (6,7)]\n",
        "\n",
        "for tup in list2:\n",
        "    print(tup)"
      ]
    },
    {
      "cell_type": "code",
      "execution_count": null,
      "id": "3648a811",
      "metadata": {
        "id": "3648a811",
        "outputId": "bab9f7d8-a0ab-45c8-f23f-3fe4b61f243b"
      },
      "outputs": [
        {
          "name": "stdout",
          "output_type": "stream",
          "text": [
            "4\n",
            "5\n",
            "2\n",
            "7\n"
          ]
        }
      ],
      "source": [
        "for (t1,t2) in list2:\n",
        "    print(t2)"
      ]
    },
    {
      "cell_type": "code",
      "execution_count": null,
      "id": "9322e6d7",
      "metadata": {
        "id": "9322e6d7",
        "outputId": "6d6b83db-0215-409f-d31a-df7e52ad1d3c"
      },
      "outputs": [
        {
          "name": "stdout",
          "output_type": "stream",
          "text": [
            "K1\n",
            "K2\n",
            "K3\n"
          ]
        }
      ],
      "source": [
        "d = {'K1' :1, 'K2' :2, 'K3' :3}\n",
        "\n",
        "for item in d:\n",
        "    print(item)"
      ]
    },
    {
      "cell_type": "code",
      "execution_count": null,
      "id": "ff005005",
      "metadata": {
        "id": "ff005005",
        "outputId": "92d6110b-a800-48be-8a44-b4d407789d7f"
      },
      "outputs": [
        {
          "name": "stdout",
          "output_type": "stream",
          "text": [
            "dict_items([('K1', 1), ('K2', 2), ('K3', 3)])\n",
            "dict_keys(['K1', 'K2', 'K3'])\n",
            "dict_values([1, 2, 3])\n"
          ]
        }
      ],
      "source": [
        "print(d.items())\n",
        "print(d.keys())\n",
        "print(d.values())"
      ]
    },
    {
      "cell_type": "code",
      "execution_count": null,
      "id": "bb116aa0",
      "metadata": {
        "id": "bb116aa0",
        "outputId": "7a4cc313-316f-4cee-9620-167c29babf00"
      },
      "outputs": [
        {
          "name": "stdout",
          "output_type": "stream",
          "text": [
            "1\n",
            "2\n",
            "3\n"
          ]
        }
      ],
      "source": [
        "for (t1,t2) in d.items():\n",
        "    print(t2)"
      ]
    },
    {
      "cell_type": "markdown",
      "id": "24191894",
      "metadata": {
        "id": "24191894"
      },
      "source": [
        "<h3> While Loops </h3>"
      ]
    },
    {
      "cell_type": "code",
      "execution_count": null,
      "id": "a85170be",
      "metadata": {
        "id": "a85170be",
        "outputId": "4a4d745c-fae4-4355-b416-25d8c1cf08e0"
      },
      "outputs": [
        {
          "name": "stdout",
          "output_type": "stream",
          "text": [
            "x is currently:  0\n",
            "x is currently:  1\n",
            "x is currently:  2\n",
            "x is currently:  3\n",
            "x is currently:  4\n",
            "x is currently:  5\n",
            "x is currently:  6\n",
            "x is currently:  7\n",
            "x is currently:  8\n",
            "x is currently:  9\n",
            "All done!\n"
          ]
        }
      ],
      "source": [
        "x = 0\n",
        "\n",
        "while x < 10:\n",
        "    print(\"x is currently: \", x)\n",
        "    x+=1\n",
        "    \n",
        "else:\n",
        "     print(\"All done!\")"
      ]
    },
    {
      "cell_type": "markdown",
      "id": "35f24817",
      "metadata": {
        "id": "35f24817"
      },
      "source": [
        "<h3>break and continue</h3>"
      ]
    },
    {
      "cell_type": "code",
      "execution_count": null,
      "id": "2970b033",
      "metadata": {
        "id": "2970b033",
        "outputId": "b8dd2e95-94b7-428d-8311-c5ca8c3d9c7e"
      },
      "outputs": [
        {
          "name": "stdout",
          "output_type": "stream",
          "text": [
            "x is currently:  0\n",
            "Continuing....\n",
            "x is currently:  1\n",
            "Continuing....\n",
            "x is currently:  2\n",
            "Breaking because x==3\n"
          ]
        }
      ],
      "source": [
        "x = 0\n",
        "\n",
        "while x < 10:\n",
        "    print(\"x is currently: \", x)\n",
        "    x+=1\n",
        "    if x == 3:\n",
        "        print(\"Breaking because x==3\")\n",
        "        break\n",
        "    else:\n",
        "        print(\"Continuing....\")\n",
        "        continue"
      ]
    },
    {
      "cell_type": "code",
      "execution_count": null,
      "id": "d0efeb4f",
      "metadata": {
        "id": "d0efeb4f"
      },
      "outputs": [],
      "source": [
        "# DO NOT RUN THIS CODE!!!\n",
        "\n",
        "while True:\n",
        "    print(\"I'm stuck in an infinite loop!\")"
      ]
    },
    {
      "cell_type": "markdown",
      "id": "3de6e499",
      "metadata": {
        "id": "3de6e499"
      },
      "source": [
        "A quick note: If you did run the above code, click on the kernel menu and select restart the kernel"
      ]
    },
    {
      "cell_type": "markdown",
      "id": "59f55b7c",
      "metadata": {
        "id": "59f55b7c"
      },
      "source": [
        "<h3> range </h3>"
      ]
    },
    {
      "cell_type": "code",
      "execution_count": null,
      "id": "f6ac7605",
      "metadata": {
        "id": "f6ac7605",
        "outputId": "03538967-972c-4d0c-badf-40ea15151f1a"
      },
      "outputs": [
        {
          "data": {
            "text/plain": [
              "range(0, 11)"
            ]
          },
          "execution_count": 20,
          "metadata": {},
          "output_type": "execute_result"
        }
      ],
      "source": [
        "range(0,11)"
      ]
    },
    {
      "cell_type": "code",
      "execution_count": null,
      "id": "fef55b8c",
      "metadata": {
        "id": "fef55b8c",
        "outputId": "fa3a5809-fad2-4d73-f176-a1521214ddac"
      },
      "outputs": [
        {
          "data": {
            "text/plain": [
              "[0, 1, 2, 3, 4, 5, 6, 7, 8, 9, 10]"
            ]
          },
          "execution_count": 21,
          "metadata": {},
          "output_type": "execute_result"
        }
      ],
      "source": [
        "list(range(0,11))"
      ]
    },
    {
      "cell_type": "code",
      "execution_count": null,
      "id": "64c02c83",
      "metadata": {
        "id": "64c02c83",
        "outputId": "6db6a392-3174-4fc4-e50e-458fbc33b306"
      },
      "outputs": [
        {
          "data": {
            "text/plain": [
              "[0, 5, 10, 15, 20, 25, 30, 35, 40, 45, 50, 55, 60, 65, 70, 75, 80, 85, 90, 95]"
            ]
          },
          "execution_count": 22,
          "metadata": {},
          "output_type": "execute_result"
        }
      ],
      "source": [
        "list(range(0,100,5))"
      ]
    },
    {
      "cell_type": "code",
      "execution_count": null,
      "id": "a8e4fac9",
      "metadata": {
        "id": "a8e4fac9"
      },
      "outputs": [],
      "source": [
        "mylist = list(range(0,11))"
      ]
    },
    {
      "cell_type": "markdown",
      "id": "1262258b",
      "metadata": {
        "id": "1262258b"
      },
      "source": [
        "<h3>Enumerate</h3>"
      ]
    },
    {
      "cell_type": "code",
      "execution_count": null,
      "id": "0f4e482c",
      "metadata": {
        "id": "0f4e482c",
        "outputId": "8e99c2a4-285a-438e-a985-14600d4a253b"
      },
      "outputs": [
        {
          "name": "stdout",
          "output_type": "stream",
          "text": [
            "At index 0 the letter is a\n",
            "At index 1 the letter is b\n",
            "At index 2 the letter is c\n",
            "At index 3 the letter is d\n",
            "At index 4 the letter is e\n"
          ]
        }
      ],
      "source": [
        "index_count = 0\n",
        "\n",
        "for letter in 'abcde':\n",
        "    print(\"At index {} the letter is {}\". format(index_count,letter))\n",
        "    \n",
        "    index_count += 1"
      ]
    },
    {
      "cell_type": "code",
      "execution_count": null,
      "id": "6cd4e442",
      "metadata": {
        "id": "6cd4e442",
        "outputId": "9c921b96-b2ad-48d2-a7f9-68c91de33015"
      },
      "outputs": [
        {
          "name": "stdout",
          "output_type": "stream",
          "text": [
            "At index 0 the letter is a\n",
            "At index 1 the letter is b\n",
            "At index 2 the letter is c\n",
            "At index 3 the letter is d\n",
            "At index 4 the letter is e\n"
          ]
        }
      ],
      "source": [
        "for i,letter in enumerate('abcde'):\n",
        "    print(\"At index {} the letter is {}\". format(i,letter))"
      ]
    },
    {
      "cell_type": "code",
      "execution_count": null,
      "id": "bb7d5378",
      "metadata": {
        "id": "bb7d5378",
        "outputId": "01a59b7e-1164-4418-afdb-cb96820ecfef"
      },
      "outputs": [
        {
          "data": {
            "text/plain": [
              "[(0, 'a'), (1, 'b'), (2, 'c'), (3, 'd'), (4, 'e')]"
            ]
          },
          "execution_count": 28,
          "metadata": {},
          "output_type": "execute_result"
        }
      ],
      "source": [
        "list(enumerate('abcde'))"
      ]
    },
    {
      "cell_type": "markdown",
      "id": "140ed90d",
      "metadata": {
        "id": "140ed90d"
      },
      "source": [
        "<h3> ZIP </h3>"
      ]
    },
    {
      "cell_type": "code",
      "execution_count": null,
      "id": "ff841f3b",
      "metadata": {
        "id": "ff841f3b"
      },
      "outputs": [],
      "source": [
        "list1 = list(range(0,11))\n",
        "list2 = ('abcdefghijkl')"
      ]
    },
    {
      "cell_type": "code",
      "execution_count": null,
      "id": "d8a5f59c",
      "metadata": {
        "id": "d8a5f59c",
        "outputId": "cb82f0d1-386c-4331-c64c-55285c70442d"
      },
      "outputs": [
        {
          "data": {
            "text/plain": [
              "<zip at 0x7fb6d9c7ce80>"
            ]
          },
          "execution_count": 30,
          "metadata": {},
          "output_type": "execute_result"
        }
      ],
      "source": [
        "zip(list1,list2)"
      ]
    },
    {
      "cell_type": "code",
      "execution_count": null,
      "id": "0c3bbe2b",
      "metadata": {
        "id": "0c3bbe2b",
        "outputId": "1510ea85-135c-4c6c-8063-00d08a109aff"
      },
      "outputs": [
        {
          "data": {
            "text/plain": [
              "[(0, 'a'),\n",
              " (1, 'b'),\n",
              " (2, 'c'),\n",
              " (3, 'd'),\n",
              " (4, 'e'),\n",
              " (5, 'f'),\n",
              " (6, 'g'),\n",
              " (7, 'h'),\n",
              " (8, 'i'),\n",
              " (9, 'j'),\n",
              " (10, 'k')]"
            ]
          },
          "execution_count": 31,
          "metadata": {},
          "output_type": "execute_result"
        }
      ],
      "source": [
        "list(zip(list1,list2))"
      ]
    },
    {
      "cell_type": "code",
      "execution_count": null,
      "id": "4e5c20c9",
      "metadata": {
        "id": "4e5c20c9",
        "outputId": "c36ee634-3e69-4c97-abcc-f5132c4ece8c"
      },
      "outputs": [
        {
          "name": "stdout",
          "output_type": "stream",
          "text": [
            "Index 0 of letter a\n",
            "Index 1 of letter b\n",
            "Index 2 of letter c\n",
            "Index 3 of letter d\n",
            "Index 4 of letter e\n",
            "Index 5 of letter f\n",
            "Index 6 of letter g\n",
            "Index 7 of letter h\n",
            "Index 8 of letter i\n",
            "Index 9 of letter j\n",
            "Index 10 of letter k\n"
          ]
        }
      ],
      "source": [
        "for t1,t2 in zip(list1,list2):\n",
        "    print(\"Index {} of letter {}\".format(t1,t2))"
      ]
    },
    {
      "cell_type": "markdown",
      "id": "26125ade",
      "metadata": {
        "id": "26125ade"
      },
      "source": [
        "<h3> random </h3>\n",
        "\n",
        "Python comes with a built-in random library. There are a lot of functions included in the random library. Here we will look into few important functions which will be widely used in data science."
      ]
    },
    {
      "cell_type": "code",
      "execution_count": null,
      "id": "6a614a1d",
      "metadata": {
        "id": "6a614a1d"
      },
      "outputs": [],
      "source": [
        "from random import shuffle"
      ]
    },
    {
      "cell_type": "code",
      "execution_count": null,
      "id": "b181df06",
      "metadata": {
        "id": "b181df06",
        "outputId": "583f209c-196d-48d3-8ed3-b6c60d5d4690"
      },
      "outputs": [
        {
          "data": {
            "text/plain": [
              "[0, 1, 2, 3, 4, 5, 6, 7, 8, 9, 10]"
            ]
          },
          "execution_count": 40,
          "metadata": {},
          "output_type": "execute_result"
        }
      ],
      "source": [
        "mylist = list(range(0,11))\n",
        "mylist"
      ]
    },
    {
      "cell_type": "code",
      "execution_count": null,
      "id": "2c5b183c",
      "metadata": {
        "id": "2c5b183c",
        "outputId": "44b77f0e-91e2-4280-a634-efae9c0222e5"
      },
      "outputs": [
        {
          "data": {
            "text/plain": [
              "[0, 8, 9, 1, 10, 5, 7, 4, 6, 2, 3]"
            ]
          },
          "execution_count": 41,
          "metadata": {},
          "output_type": "execute_result"
        }
      ],
      "source": [
        "shuffle(mylist)\n",
        "mylist"
      ]
    },
    {
      "cell_type": "code",
      "execution_count": null,
      "id": "9befd330",
      "metadata": {
        "id": "9befd330"
      },
      "outputs": [],
      "source": [
        "from random import randint"
      ]
    },
    {
      "cell_type": "code",
      "execution_count": null,
      "id": "f561c858",
      "metadata": {
        "id": "f561c858",
        "outputId": "3878955e-1513-46b4-dbd0-9883807ee7cc"
      },
      "outputs": [
        {
          "data": {
            "text/plain": [
              "44"
            ]
          },
          "execution_count": 47,
          "metadata": {},
          "output_type": "execute_result"
        }
      ],
      "source": [
        "# Returns random integer in the range [a, b], including both end points\n",
        "randint(0, 100)"
      ]
    },
    {
      "cell_type": "code",
      "execution_count": null,
      "id": "1a85a491",
      "metadata": {
        "id": "1a85a491",
        "outputId": "d5cd5d24-bc31-467b-e1ea-98c567e44fa9"
      },
      "outputs": [
        {
          "name": "stdout",
          "output_type": "stream",
          "text": [
            "6\n"
          ]
        }
      ],
      "source": [
        "from random import randrange\n",
        "print(randrange(0, 10))"
      ]
    },
    {
      "cell_type": "code",
      "execution_count": null,
      "id": "56f49e8d",
      "metadata": {
        "id": "56f49e8d",
        "outputId": "11f0fcdf-1890-491d-980a-4e24251d52d4"
      },
      "outputs": [
        {
          "name": "stdout",
          "output_type": "stream",
          "text": [
            "[52, 23, 28, 14, 100, 48, 39, 31, 24, 8, 9, 81, 39, 92, 92, 96, 52, 16, 89, 43, 29, 3, 2, 75, 94, 4, 45, 44, 73, 23, 23, 90, 34, 43, 76, 90, 88, 9, 96, 72, 52, 2, 92, 99, 94, 50, 16, 79, 61, 70, 98, 80, 85, 55, 67, 24, 88, 78, 73, 86, 24, 84, 92, 62, 76, 28, 36, 75, 37, 33, 23, 63, 57, 5, 13, 33, 59, 98, 29, 72, 82, 61, 37, 34, 45, 47, 84, 1, 97, 35, 55, 51, 87, 70, 26, 17, 55, 1, 86, 27]\n"
          ]
        }
      ],
      "source": [
        "mylist = []\n",
        "\n",
        "for i in range(0,100):\n",
        "    x = randint(1,100)\n",
        "    mylist.append(x)\n",
        "\n",
        "print(mylist)\n",
        "    "
      ]
    },
    {
      "cell_type": "code",
      "execution_count": null,
      "id": "0f893bda",
      "metadata": {
        "id": "0f893bda"
      },
      "outputs": [],
      "source": [
        "from random import sample\n",
        "x = sample(range(1,101), 100)"
      ]
    },
    {
      "cell_type": "code",
      "execution_count": null,
      "id": "885158fc",
      "metadata": {
        "id": "885158fc",
        "outputId": "b89cfb24-4992-4425-f4d0-4821487e5590"
      },
      "outputs": [
        {
          "name": "stdout",
          "output_type": "stream",
          "text": [
            "[58, 89, 60, 6, 22, 91, 69, 51, 77, 33, 99, 23, 34, 72, 30, 96, 81, 68, 36, 9, 66, 4, 5, 47, 86, 29, 27, 25, 39, 8, 83, 85, 19, 43, 18, 21, 61, 65, 73, 24, 82, 92, 13, 3, 41, 52, 17, 75, 16, 87, 57, 1, 46, 62, 49, 56, 50, 32, 79, 97, 93, 31, 14, 44, 7, 88, 37, 74, 80, 98, 26, 48, 55, 11, 70, 90, 10, 42, 76, 54, 59, 45, 40, 20, 38, 63, 84, 15, 94, 28, 95, 71, 12, 2, 78, 64, 67, 53, 35, 100]\n"
          ]
        }
      ],
      "source": [
        "print(x)"
      ]
    },
    {
      "cell_type": "code",
      "execution_count": null,
      "id": "6e398995",
      "metadata": {
        "id": "6e398995",
        "outputId": "b7bc9b90-ae59-4665-a39d-f9b6c84eb862"
      },
      "outputs": [
        {
          "name": "stdout",
          "output_type": "stream",
          "text": [
            "[61, 45, 8]\n"
          ]
        }
      ],
      "source": [
        "# To choose random numbers from the list\n",
        "x = sample(mylist,3)\n",
        "print(x)"
      ]
    },
    {
      "cell_type": "markdown",
      "id": "250583e0",
      "metadata": {
        "id": "250583e0"
      },
      "source": [
        "<h3> map function</h3>\n",
        "\n",
        "This map function allows you to map a function to an iterable object."
      ]
    },
    {
      "cell_type": "code",
      "execution_count": null,
      "id": "c1af9806",
      "metadata": {
        "id": "c1af9806"
      },
      "outputs": [],
      "source": [
        "def square(num):\n",
        "    return num**2"
      ]
    },
    {
      "cell_type": "code",
      "execution_count": null,
      "id": "5bb068b4",
      "metadata": {
        "id": "5bb068b4"
      },
      "outputs": [],
      "source": [
        "nums = [1,2,3,4,5]"
      ]
    },
    {
      "cell_type": "code",
      "execution_count": null,
      "id": "829bfe64",
      "metadata": {
        "id": "829bfe64",
        "outputId": "b2351a27-8b87-45ac-afd4-89a42699bb9d"
      },
      "outputs": [
        {
          "data": {
            "text/plain": [
              "<map at 0x7fb6c80f78e0>"
            ]
          },
          "execution_count": 66,
          "metadata": {},
          "output_type": "execute_result"
        }
      ],
      "source": [
        "map(square,nums)"
      ]
    },
    {
      "cell_type": "code",
      "execution_count": null,
      "id": "9ad560c2",
      "metadata": {
        "id": "9ad560c2",
        "outputId": "e71b2979-18c3-4c0f-91d2-a9672f6af80e"
      },
      "outputs": [
        {
          "data": {
            "text/plain": [
              "[1, 4, 9, 16, 25]"
            ]
          },
          "execution_count": 67,
          "metadata": {},
          "output_type": "execute_result"
        }
      ],
      "source": [
        "list(map(square,nums))"
      ]
    },
    {
      "cell_type": "code",
      "execution_count": null,
      "id": "7de980ae",
      "metadata": {
        "id": "7de980ae"
      },
      "outputs": [],
      "source": [
        "def slicer(mystring):\n",
        "    if len(mystring) % 2 == 0:\n",
        "        return 'even'\n",
        "    else:\n",
        "        return mystring[0]"
      ]
    },
    {
      "cell_type": "code",
      "execution_count": null,
      "id": "f38416f1",
      "metadata": {
        "id": "f38416f1"
      },
      "outputs": [],
      "source": [
        "mynames = ['Jack', 'Cindy', 'Sarah', 'Kelly', 'Mike']"
      ]
    },
    {
      "cell_type": "code",
      "execution_count": null,
      "id": "f93e5afd",
      "metadata": {
        "id": "f93e5afd",
        "outputId": "398515c7-4bbe-4894-c5bc-f873614d6045"
      },
      "outputs": [
        {
          "data": {
            "text/plain": [
              "['even', 'C', 'S', 'K', 'even']"
            ]
          },
          "execution_count": 70,
          "metadata": {},
          "output_type": "execute_result"
        }
      ],
      "source": [
        "list(map(slicer,mynames))"
      ]
    },
    {
      "cell_type": "markdown",
      "id": "0434fbd3",
      "metadata": {
        "id": "0434fbd3"
      },
      "source": [
        "<h3> Filter Functions </h3>\n",
        "\n",
        "The filter function retuns an iterator yielding those items of iterable for which function(item) is true. Meaning you need to filter by a funciton that retuns either True or False. "
      ]
    },
    {
      "cell_type": "code",
      "execution_count": null,
      "id": "cd9d8314",
      "metadata": {
        "id": "cd9d8314"
      },
      "outputs": [],
      "source": [
        "def check_even(num):\n",
        "    return num % 2 ==0"
      ]
    },
    {
      "cell_type": "code",
      "execution_count": null,
      "id": "9768baaf",
      "metadata": {
        "id": "9768baaf"
      },
      "outputs": [],
      "source": [
        "nums = [1,2,3,4,5,6,7,8,9,10]"
      ]
    },
    {
      "cell_type": "code",
      "execution_count": null,
      "id": "770dff65",
      "metadata": {
        "id": "770dff65",
        "outputId": "700cb176-fb1d-49d1-ecfb-7c0746db24f3"
      },
      "outputs": [
        {
          "data": {
            "text/plain": [
              "<filter at 0x7fb6d9c50880>"
            ]
          },
          "execution_count": 73,
          "metadata": {},
          "output_type": "execute_result"
        }
      ],
      "source": [
        "filter(check_even,nums)"
      ]
    },
    {
      "cell_type": "code",
      "execution_count": null,
      "id": "9cbb389b",
      "metadata": {
        "id": "9cbb389b",
        "outputId": "c48f3e4d-3f2d-43a2-f39b-a73d100c2977"
      },
      "outputs": [
        {
          "data": {
            "text/plain": [
              "[2, 4, 6, 8, 10]"
            ]
          },
          "execution_count": 74,
          "metadata": {},
          "output_type": "execute_result"
        }
      ],
      "source": [
        "list(filter(check_even,nums))"
      ]
    },
    {
      "cell_type": "markdown",
      "id": "1ebc8d05",
      "metadata": {
        "id": "1ebc8d05"
      },
      "source": [
        "<h3> lambda expression </h3>\n",
        "\n",
        "One of the Pythons most useful tool is the lambda expression. lambda expression allow us to create 'anonymous' functions. This means we can quickly make ad-hoc functions without needing to properly define a function using def. \n",
        "\n",
        "<b> lambda's body is a sinlge expression, not a block of statements.</b>\n",
        "\n"
      ]
    },
    {
      "cell_type": "code",
      "execution_count": null,
      "id": "cfbbebb4",
      "metadata": {
        "id": "cfbbebb4"
      },
      "outputs": [],
      "source": [
        "def squaring(num):\n",
        "    return num**2"
      ]
    },
    {
      "cell_type": "code",
      "execution_count": null,
      "id": "5040ffa0",
      "metadata": {
        "id": "5040ffa0",
        "outputId": "a87a8ee5-1de3-4c39-b6b2-b859bfee1ec4"
      },
      "outputs": [
        {
          "data": {
            "text/plain": [
              "16"
            ]
          },
          "execution_count": 76,
          "metadata": {},
          "output_type": "execute_result"
        }
      ],
      "source": [
        "squaring(4)"
      ]
    },
    {
      "cell_type": "code",
      "execution_count": null,
      "id": "26c862a7",
      "metadata": {
        "id": "26c862a7"
      },
      "outputs": [],
      "source": [
        "def squaring(num):   return num**2"
      ]
    },
    {
      "cell_type": "code",
      "execution_count": null,
      "id": "46bb7847",
      "metadata": {
        "id": "46bb7847"
      },
      "outputs": [],
      "source": [
        "squaring(4)"
      ]
    },
    {
      "cell_type": "markdown",
      "id": "e2b13bc0",
      "metadata": {
        "id": "e2b13bc0"
      },
      "source": [
        "This is the form of function that a lambda expression intends to replicate."
      ]
    },
    {
      "cell_type": "code",
      "execution_count": null,
      "id": "bd8e2fa9",
      "metadata": {
        "id": "bd8e2fa9"
      },
      "outputs": [],
      "source": [
        "square = lambda num: num ** 2"
      ]
    },
    {
      "cell_type": "code",
      "execution_count": null,
      "id": "3265aa2e",
      "metadata": {
        "id": "3265aa2e",
        "outputId": "3b766358-0f63-47eb-9ded-7457778ccb2c"
      },
      "outputs": [
        {
          "data": {
            "text/plain": [
              "16"
            ]
          },
          "execution_count": 78,
          "metadata": {},
          "output_type": "execute_result"
        }
      ],
      "source": [
        "square(4)"
      ]
    },
    {
      "cell_type": "code",
      "execution_count": null,
      "id": "58b16247",
      "metadata": {
        "id": "58b16247",
        "outputId": "86b18130-a9c4-4b43-a4c2-9815d3465ca9"
      },
      "outputs": [
        {
          "data": {
            "text/plain": [
              "[1, 4, 9, 16, 25, 36, 49, 64, 81, 100]"
            ]
          },
          "execution_count": 79,
          "metadata": {},
          "output_type": "execute_result"
        }
      ],
      "source": [
        "list(map(lambda num: num ** 2,nums))"
      ]
    },
    {
      "cell_type": "code",
      "execution_count": null,
      "id": "72bff44f",
      "metadata": {
        "id": "72bff44f",
        "outputId": "52fb2b85-d7a6-4431-8cb7-be1ff0f40422"
      },
      "outputs": [
        {
          "data": {
            "text/plain": [
              "[1, 2, 3, 4, 5, 6, 7, 8, 9, 10]"
            ]
          },
          "execution_count": 83,
          "metadata": {},
          "output_type": "execute_result"
        }
      ],
      "source": [
        "list(filter(lambda num: num ** 2,nums))"
      ]
    },
    {
      "cell_type": "markdown",
      "id": "30e00f02",
      "metadata": {
        "id": "30e00f02"
      },
      "source": [
        "You can even pass multiple arguments into a lambda expression. But, keep in mind that not every function can be translated into a lambda expression."
      ]
    },
    {
      "cell_type": "markdown",
      "id": "3319e6b8",
      "metadata": {
        "id": "3319e6b8"
      },
      "source": [
        "<h3> Exception Handling</h3>\n",
        "\n",
        "Exceptions: Exceptions are raised when the program is syntactically correct, but the code resulted in an error."
      ]
    },
    {
      "cell_type": "code",
      "execution_count": null,
      "id": "d44f6484",
      "metadata": {
        "id": "d44f6484",
        "outputId": "0918c0ab-19c0-4fea-95db-21d298abd1b1"
      },
      "outputs": [
        {
          "ename": "ZeroDivisionError",
          "evalue": "division by zero",
          "output_type": "error",
          "traceback": [
            "\u001b[0;31m---------------------------------------------------------------------------\u001b[0m",
            "\u001b[0;31mZeroDivisionError\u001b[0m                         Traceback (most recent call last)",
            "\u001b[0;32m/var/folders/93/xfc0v8hd5dgdxb83wcj0199h0000gn/T/ipykernel_81087/2729514345.py\u001b[0m in \u001b[0;36m<module>\u001b[0;34m\u001b[0m\n\u001b[1;32m      2\u001b[0m \u001b[0;34m\u001b[0m\u001b[0m\n\u001b[1;32m      3\u001b[0m \u001b[0;31m# perform division with 0\u001b[0m\u001b[0;34m\u001b[0m\u001b[0;34m\u001b[0m\u001b[0m\n\u001b[0;32m----> 4\u001b[0;31m \u001b[0ma\u001b[0m \u001b[0;34m=\u001b[0m \u001b[0mmarks\u001b[0m \u001b[0;34m/\u001b[0m \u001b[0;36m0\u001b[0m\u001b[0;34m\u001b[0m\u001b[0;34m\u001b[0m\u001b[0m\n\u001b[0m\u001b[1;32m      5\u001b[0m \u001b[0mprint\u001b[0m\u001b[0;34m(\u001b[0m\u001b[0ma\u001b[0m\u001b[0;34m)\u001b[0m\u001b[0;34m\u001b[0m\u001b[0;34m\u001b[0m\u001b[0m\n",
            "\u001b[0;31mZeroDivisionError\u001b[0m: division by zero"
          ]
        }
      ],
      "source": [
        "marks = 10000\n",
        " \n",
        "# perform division with 0\n",
        "a = marks / 0\n",
        "print(a)"
      ]
    },
    {
      "cell_type": "markdown",
      "id": "897983bf",
      "metadata": {
        "id": "897983bf"
      },
      "source": [
        "Try and except statements are used to catch and handle exceptions in Python. Statements that can raise exceptions are kept inside the try clause and the statements that handle the exception are written inside except clause."
      ]
    },
    {
      "cell_type": "code",
      "execution_count": null,
      "id": "a9a216cc",
      "metadata": {
        "id": "a9a216cc",
        "outputId": "8efac3e9-3e62-46b4-da02-eb01ef53eabb"
      },
      "outputs": [
        {
          "name": "stdout",
          "output_type": "stream",
          "text": [
            "ZeroDivisionError Occurred and Handled\n"
          ]
        }
      ],
      "source": [
        "marks = 10000\n",
        " \n",
        "# perform division with 0\n",
        "try:\n",
        "    a = marks / 0\n",
        "\n",
        "except ZeroDivisionError:\n",
        "    print(\"ZeroDivisionError Occurred and Handled\")\n",
        "else:\n",
        "        print (a)"
      ]
    },
    {
      "cell_type": "raw",
      "id": "3c887144",
      "metadata": {
        "id": "3c887144"
      },
      "source": [
        "try:\n",
        "    # Some Code.... \n",
        "\n",
        "except:\n",
        "    # optional block\n",
        "    # Handling of exception (if required)\n",
        "\n",
        "else:\n",
        "    # execute if no exception\n",
        "\n",
        "finally:\n",
        "    # Some code .....(always executed)\n",
        "    \n",
        "    \n",
        "Python provides a keyword finally, which is always executed after the try and except blocks. The final block always executes after normal termination of try block or after try block terminates due to some exception."
      ]
    },
    {
      "cell_type": "code",
      "execution_count": null,
      "id": "bc3ddef7",
      "metadata": {
        "id": "bc3ddef7",
        "outputId": "6d557f75-2e71-42bf-88a3-a4cb0bb3f1eb"
      },
      "outputs": [
        {
          "name": "stdout",
          "output_type": "stream",
          "text": [
            "Can't divide by zero\n",
            "This is always executed\n"
          ]
        }
      ],
      "source": [
        "try:\n",
        "    k = 5//0  # raises divide by zero exception.\n",
        "    print(k)\n",
        " \n",
        "# handles zerodivision exception\n",
        "except ZeroDivisionError:\n",
        "    print(\"Can't divide by zero\")\n",
        " \n",
        "finally:\n",
        "    # this block is always executed\n",
        "    # regardless of exception generation.\n",
        "    print('This is always executed')"
      ]
    },
    {
      "cell_type": "raw",
      "id": "88fabd20",
      "metadata": {
        "id": "88fabd20"
      },
      "source": [
        "+-- EnvironmentError\n",
        "    +-- IOError\n",
        "        +-- io.BlockingIOError\n",
        "        +-- io.UnsupportedOperation (also inherits from ValueError)\n",
        "        +-- socket.error\n",
        "            +-- socket.gaierror\n",
        "            +-- socket.herror\n",
        "            +-- socket.timeout\n",
        "    +-- OSError\n",
        "        +-- VMSError\n",
        "        +-- WindowsError\n",
        "    +-- mmap.error\n",
        "+-- select.error"
      ]
    },
    {
      "cell_type": "markdown",
      "id": "05132f57",
      "metadata": {
        "id": "05132f57"
      },
      "source": [
        "<h3> File Handling </h3>"
      ]
    },
    {
      "cell_type": "markdown",
      "id": "6d17531a",
      "metadata": {
        "id": "6d17531a"
      },
      "source": [
        "IPython comes with a library of magic commands. These commands are convenient shortcuts to common actions. They all start with % (the percent character). We can get the list of all magic commands with %lsmagic:"
      ]
    },
    {
      "cell_type": "code",
      "execution_count": null,
      "id": "6ed18e94",
      "metadata": {
        "id": "6ed18e94",
        "outputId": "482a046d-9167-4e22-91d5-9b562e8dbeb9"
      },
      "outputs": [
        {
          "data": {
            "application/json": {
              "cell": {
                "!": "OSMagics",
                "HTML": "Other",
                "SVG": "Other",
                "bash": "Other",
                "capture": "ExecutionMagics",
                "debug": "ExecutionMagics",
                "file": "Other",
                "html": "DisplayMagics",
                "javascript": "DisplayMagics",
                "js": "DisplayMagics",
                "latex": "DisplayMagics",
                "markdown": "DisplayMagics",
                "perl": "Other",
                "prun": "ExecutionMagics",
                "pypy": "Other",
                "python": "Other",
                "python2": "Other",
                "python3": "Other",
                "ruby": "Other",
                "script": "ScriptMagics",
                "sh": "Other",
                "svg": "DisplayMagics",
                "sx": "OSMagics",
                "system": "OSMagics",
                "time": "ExecutionMagics",
                "timeit": "ExecutionMagics",
                "writefile": "OSMagics"
              },
              "line": {
                "alias": "OSMagics",
                "alias_magic": "BasicMagics",
                "autoawait": "AsyncMagics",
                "autocall": "AutoMagics",
                "automagic": "AutoMagics",
                "autosave": "KernelMagics",
                "bookmark": "OSMagics",
                "cat": "Other",
                "cd": "OSMagics",
                "clear": "KernelMagics",
                "colors": "BasicMagics",
                "conda": "PackagingMagics",
                "config": "ConfigMagics",
                "connect_info": "KernelMagics",
                "cp": "Other",
                "debug": "ExecutionMagics",
                "dhist": "OSMagics",
                "dirs": "OSMagics",
                "doctest_mode": "BasicMagics",
                "ed": "Other",
                "edit": "KernelMagics",
                "env": "OSMagics",
                "gui": "BasicMagics",
                "hist": "Other",
                "history": "HistoryMagics",
                "killbgscripts": "ScriptMagics",
                "ldir": "Other",
                "less": "KernelMagics",
                "lf": "Other",
                "lk": "Other",
                "ll": "Other",
                "load": "CodeMagics",
                "load_ext": "ExtensionMagics",
                "loadpy": "CodeMagics",
                "logoff": "LoggingMagics",
                "logon": "LoggingMagics",
                "logstart": "LoggingMagics",
                "logstate": "LoggingMagics",
                "logstop": "LoggingMagics",
                "ls": "Other",
                "lsmagic": "BasicMagics",
                "lx": "Other",
                "macro": "ExecutionMagics",
                "magic": "BasicMagics",
                "man": "KernelMagics",
                "matplotlib": "PylabMagics",
                "mkdir": "Other",
                "more": "KernelMagics",
                "mv": "Other",
                "notebook": "BasicMagics",
                "page": "BasicMagics",
                "pastebin": "CodeMagics",
                "pdb": "ExecutionMagics",
                "pdef": "NamespaceMagics",
                "pdoc": "NamespaceMagics",
                "pfile": "NamespaceMagics",
                "pinfo": "NamespaceMagics",
                "pinfo2": "NamespaceMagics",
                "pip": "PackagingMagics",
                "popd": "OSMagics",
                "pprint": "BasicMagics",
                "precision": "BasicMagics",
                "prun": "ExecutionMagics",
                "psearch": "NamespaceMagics",
                "psource": "NamespaceMagics",
                "pushd": "OSMagics",
                "pwd": "OSMagics",
                "pycat": "OSMagics",
                "pylab": "PylabMagics",
                "qtconsole": "KernelMagics",
                "quickref": "BasicMagics",
                "recall": "HistoryMagics",
                "rehashx": "OSMagics",
                "reload_ext": "ExtensionMagics",
                "rep": "Other",
                "rerun": "HistoryMagics",
                "reset": "NamespaceMagics",
                "reset_selective": "NamespaceMagics",
                "rm": "Other",
                "rmdir": "Other",
                "run": "ExecutionMagics",
                "save": "CodeMagics",
                "sc": "OSMagics",
                "set_env": "OSMagics",
                "store": "StoreMagics",
                "sx": "OSMagics",
                "system": "OSMagics",
                "tb": "ExecutionMagics",
                "time": "ExecutionMagics",
                "timeit": "ExecutionMagics",
                "unalias": "OSMagics",
                "unload_ext": "ExtensionMagics",
                "who": "NamespaceMagics",
                "who_ls": "NamespaceMagics",
                "whos": "NamespaceMagics",
                "xdel": "NamespaceMagics",
                "xmode": "BasicMagics"
              }
            },
            "text/plain": [
              "Available line magics:\n",
              "%alias  %alias_magic  %autoawait  %autocall  %automagic  %autosave  %bookmark  %cat  %cd  %clear  %colors  %conda  %config  %connect_info  %cp  %debug  %dhist  %dirs  %doctest_mode  %ed  %edit  %env  %gui  %hist  %history  %killbgscripts  %ldir  %less  %lf  %lk  %ll  %load  %load_ext  %loadpy  %logoff  %logon  %logstart  %logstate  %logstop  %ls  %lsmagic  %lx  %macro  %magic  %man  %matplotlib  %mkdir  %more  %mv  %notebook  %page  %pastebin  %pdb  %pdef  %pdoc  %pfile  %pinfo  %pinfo2  %pip  %popd  %pprint  %precision  %prun  %psearch  %psource  %pushd  %pwd  %pycat  %pylab  %qtconsole  %quickref  %recall  %rehashx  %reload_ext  %rep  %rerun  %reset  %reset_selective  %rm  %rmdir  %run  %save  %sc  %set_env  %store  %sx  %system  %tb  %time  %timeit  %unalias  %unload_ext  %who  %who_ls  %whos  %xdel  %xmode\n",
              "\n",
              "Available cell magics:\n",
              "%%!  %%HTML  %%SVG  %%bash  %%capture  %%debug  %%file  %%html  %%javascript  %%js  %%latex  %%markdown  %%perl  %%prun  %%pypy  %%python  %%python2  %%python3  %%ruby  %%script  %%sh  %%svg  %%sx  %%system  %%time  %%timeit  %%writefile\n",
              "\n",
              "Automagic is ON, % prefix IS NOT needed for line magics."
            ]
          },
          "execution_count": 87,
          "metadata": {},
          "output_type": "execute_result"
        }
      ],
      "source": [
        "%lsmagic"
      ]
    },
    {
      "cell_type": "markdown",
      "id": "fca8e887",
      "metadata": {
        "id": "fca8e887"
      },
      "source": [
        "For example, the %%writefile cell magic lets us create a text file easily. This magic command accepts a filename as an argument. All the remaining lines in the cell are directly written to this text file. Here, we create a file test.txt and write Hello world! in it:"
      ]
    },
    {
      "cell_type": "code",
      "execution_count": null,
      "id": "823fb46b",
      "metadata": {
        "id": "823fb46b",
        "outputId": "21f439c8-c8f0-47a3-b65f-1d59ab5f95e7"
      },
      "outputs": [
        {
          "data": {
            "text/html": [
              "<font size = 6, color = 'red'>Magic Commands</font>\n"
            ],
            "text/plain": [
              "<IPython.core.display.HTML object>"
            ]
          },
          "metadata": {},
          "output_type": "display_data"
        }
      ],
      "source": [
        "%%html\n",
        "<font size = 6, color = 'red'>Magic Commands</font>"
      ]
    },
    {
      "cell_type": "code",
      "execution_count": null,
      "id": "b4b93795",
      "metadata": {
        "id": "b4b93795",
        "outputId": "48ca55b9-bf7c-4888-964b-d450bd217e48"
      },
      "outputs": [
        {
          "name": "stdout",
          "output_type": "stream",
          "text": [
            "Writing test.txt\n"
          ]
        }
      ],
      "source": [
        "%%writefile test.txt\n",
        "        Hello world!\n",
        "    kjxvjxbc\n",
        "    xmncb xb"
      ]
    },
    {
      "cell_type": "code",
      "execution_count": null,
      "id": "2299bc2d",
      "metadata": {
        "id": "2299bc2d",
        "outputId": "f4a3e9b3-76dd-434b-80a7-15fd272961b4"
      },
      "outputs": [
        {
          "name": "stdout",
          "output_type": "stream",
          "text": [
            "        Hello world!\n",
            "    kjxvjxbc\n",
            "    xmncb xb\n",
            "\n"
          ]
        }
      ],
      "source": [
        "with open('test.txt', 'r') as f:\n",
        "            print(f.read())"
      ]
    },
    {
      "cell_type": "code",
      "execution_count": null,
      "id": "d0744155",
      "metadata": {
        "id": "d0744155",
        "outputId": "0f604e9a-2cbd-41d9-9d14-5a33cdc43829"
      },
      "outputs": [
        {
          "name": "stdout",
          "output_type": "stream",
          "text": [
            "Writing jupyter.py\n"
          ]
        }
      ],
      "source": [
        "%%writefile jupyter.py\n",
        "x = 10\n",
        "Y = 20\n",
        "Z = X+Y\n",
        "print(\"X+Y=\",Z)"
      ]
    },
    {
      "cell_type": "code",
      "execution_count": null,
      "id": "314d7af2",
      "metadata": {
        "id": "314d7af2",
        "outputId": "db19bef7-daa4-4a90-d28f-62c088beae00"
      },
      "outputs": [
        {
          "name": "stdout",
          "output_type": "stream",
          "text": [
            "Enter the contents to be written in the file: python program\n"
          ]
        }
      ],
      "source": [
        "fobject = open(\"testfile.txt\",\"w\") # creating a data file \n",
        "sentence = input(\"Enter the contents to be written in the file: \") \n",
        "fobject.write(sentence) # Writing data to the file \n",
        "fobject.close() # Closing a file"
      ]
    },
    {
      "cell_type": "raw",
      "id": "eeca3552",
      "metadata": {
        "id": "eeca3552"
      },
      "source": [
        "r: open an existing file for a read operation.\n",
        "w: open an existing file for a write operation. If the file already contains some data then it will be overridden.\n",
        "a:  open an existing file for append operation. It won’t override existing data.\n",
        "r+:  To read and write data into the file. The previous data in the file will not be deleted.\n",
        "w+: To write and read data. It will override existing data.\n",
        "a+: To append and read data from the file. It won’t override existing data."
      ]
    },
    {
      "cell_type": "code",
      "execution_count": null,
      "id": "960dba8e",
      "metadata": {
        "id": "960dba8e",
        "outputId": "224081d7-bfde-444e-cffd-d6ce0f508556"
      },
      "outputs": [
        {
          "name": "stdout",
          "output_type": "stream",
          "text": [
            "Now reading the contents of the file: \n",
            "python program\n"
          ]
        }
      ],
      "source": [
        "print(\"Now reading the contents of the file: \")\n",
        "fobject = open(\"testfile.txt\",\"r\")\n",
        "\n",
        "#looping over the file object to read the file\n",
        "for st in fobject:\n",
        "    print(st)\n",
        "fobject.close()"
      ]
    },
    {
      "cell_type": "raw",
      "id": "a5d93721",
      "metadata": {
        "id": "a5d93721"
      },
      "source": [
        "Getting a directory listing\n",
        "\n",
        "To get a list of all the files and folders in a particular directory in the filesystem, use os.listdir() in legacy versions of Python or os.scandir() in Python 3.x. os.scandir() is the preferred method to use if you also want to get file and directory properties such as file size and modification date.\n",
        "\n",
        "os.listdir()- Returns a list of all files and folders in a directory"
      ]
    },
    {
      "cell_type": "code",
      "execution_count": null,
      "id": "757aaf4e",
      "metadata": {
        "id": "757aaf4e",
        "outputId": "55012f73-1998-458c-b213-3cc9bbf1a261"
      },
      "outputs": [
        {
          "name": "stdout",
          "output_type": "stream",
          "text": [
            ".DS_Store\n",
            "Module 1 - Introduction to Python\n",
            "Functions and Methods\n",
            "Module 2 - NumPy\n",
            ".ipynb_checkpoints\n",
            "testfile.txt\n",
            "Regression\n"
          ]
        }
      ],
      "source": [
        "import os \n",
        "l = os.listdir(\"/Users/sreejarajagopal/WORK/IIIT Sricity/Academic yr 2021-2022/Spring 2022/PDS - Spring 2022/Python programs\") #path for directory \n",
        "for i in l:\n",
        "    print(i)"
      ]
    },
    {
      "cell_type": "raw",
      "id": "8ed482e3",
      "metadata": {
        "id": "8ed482e3"
      },
      "source": [
        "os.scandir()- Returns an iterator of all the objects in a directory including file attribute information"
      ]
    },
    {
      "cell_type": "code",
      "execution_count": null,
      "id": "fc7cf984",
      "metadata": {
        "id": "fc7cf984",
        "outputId": "1092ca0b-133a-4ff6-abef-b728544a3e85"
      },
      "outputs": [
        {
          "name": "stdout",
          "output_type": "stream",
          "text": [
            "<DirEntry '.DS_Store'>\n",
            "<DirEntry 'Module 1 - Introduction to Python'>\n",
            "<DirEntry 'Functions and Methods'>\n",
            "<DirEntry 'Module 2 - NumPy'>\n",
            "<DirEntry '.ipynb_checkpoints'>\n",
            "<DirEntry 'testfile.txt'>\n",
            "<DirEntry 'Regression'>\n"
          ]
        }
      ],
      "source": [
        "import os \n",
        "l = os.scandir(\"/Users/sreejarajagopal/WORK/IIIT Sricity/Academic yr 2021-2022/Spring 2022/PDS - Spring 2022/Python programs\") #path for directory \n",
        "for i in l:\n",
        "    print(i)"
      ]
    },
    {
      "cell_type": "code",
      "execution_count": null,
      "id": "362b8bc0",
      "metadata": {
        "id": "362b8bc0"
      },
      "outputs": [],
      "source": [
        ""
      ]
    }
  ],
  "metadata": {
    "kernelspec": {
      "display_name": "Python 3 (ipykernel)",
      "language": "python",
      "name": "python3"
    },
    "language_info": {
      "codemirror_mode": {
        "name": "ipython",
        "version": 3
      },
      "file_extension": ".py",
      "mimetype": "text/x-python",
      "name": "python",
      "nbconvert_exporter": "python",
      "pygments_lexer": "ipython3",
      "version": "3.9.7"
    },
    "colab": {
      "name": "04 - Control statements and File Handling.ipynb",
      "provenance": [],
      "include_colab_link": true
    }
  },
  "nbformat": 4,
  "nbformat_minor": 5
}